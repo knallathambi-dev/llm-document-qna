{
 "cells": [
  {
   "cell_type": "code",
   "execution_count": 1,
   "metadata": {},
   "outputs": [],
   "source": [
    "import os\n",
    "import logging\n",
    "import sys\n",
    "\n",
    "logging.basicConfig(stream=sys.stdout, level=logging.DEBUG)\n",
    "logging.getLogger().addHandler(logging.StreamHandler(stream=sys.stdout))"
   ]
  },
  {
   "cell_type": "code",
   "execution_count": 2,
   "metadata": {},
   "outputs": [],
   "source": [
    "with open(os.path.join(os.getcwd(), 'secrets', 'google_api_key.txt')) as f:\n",
    "    api_key = f.read()"
   ]
  },
  {
   "cell_type": "code",
   "execution_count": 3,
   "metadata": {},
   "outputs": [],
   "source": [
    "from llama_index.llms.palm import PaLM\n",
    "\n",
    "llm = PaLM(api_key=api_key)"
   ]
  },
  {
   "cell_type": "code",
   "execution_count": 4,
   "metadata": {},
   "outputs": [
    {
     "data": {
      "text/plain": [
       "CompletionResponse(text='A Large Language Model (LLM) is a type of artificial intelligence model that can understand and generate human language. LLMs are typically trained on massive datasets of text, and they can learn to perform a wide variety of language-related tasks, such as translation, summarization, question answering, and text generation.\\n\\nLLMs are still under development, but they have the potential to revolutionize the way we interact with computers. In the future, LLMs could be used to create more natural and conversational user interfaces, to help us write better essays and reports, and to translate languages more accurately.\\n\\nHere are some of the benefits of using LLMs:\\n\\n* **Improved natural language processing:** LLMs can help us to better understand and generate human language. This can lead to improved translation, summarization, and question answering systems.\\n* **More creative and engaging content:** LLMs can be used to create more creative and engaging content, such as poems, stories, and code. This can lead to new forms of entertainment and communication.\\n* **More personalized experiences:** LLMs can be used to create more personalized experiences for users. This can lead to better customer service, more effective marketing, and more tailored educational experiences.\\n\\nOf course, LLMs also have some potential risks. For example, LLMs could be used to create deepfakes or to spread misinformation. It is important to be aware of these risks and to use LLMs responsibly.\\n\\nOverall, LLMs are a powerful new technology with the potential to revolutionize the way we interact with computers. However, it is important to be aware of the risks and to use LLMs responsibly.', additional_kwargs={}, raw={'output': 'A Large Language Model (LLM) is a type of artificial intelligence model that can understand and generate human language. LLMs are typically trained on massive datasets of text, and they can learn to perform a wide variety of language-related tasks, such as translation, summarization, question answering, and text generation.\\n\\nLLMs are still under development, but they have the potential to revolutionize the way we interact with computers. In the future, LLMs could be used to create more natural and conversational user interfaces, to help us write better essays and reports, and to translate languages more accurately.\\n\\nHere are some of the benefits of using LLMs:\\n\\n* **Improved natural language processing:** LLMs can help us to better understand and generate human language. This can lead to improved translation, summarization, and question answering systems.\\n* **More creative and engaging content:** LLMs can be used to create more creative and engaging content, such as poems, stories, and code. This can lead to new forms of entertainment and communication.\\n* **More personalized experiences:** LLMs can be used to create more personalized experiences for users. This can lead to better customer service, more effective marketing, and more tailored educational experiences.\\n\\nOf course, LLMs also have some potential risks. For example, LLMs could be used to create deepfakes or to spread misinformation. It is important to be aware of these risks and to use LLMs responsibly.\\n\\nOverall, LLMs are a powerful new technology with the potential to revolutionize the way we interact with computers. However, it is important to be aware of the risks and to use LLMs responsibly.', 'safety_ratings': [{'category': <HarmCategory.HARM_CATEGORY_DEROGATORY: 1>, 'probability': <HarmProbability.NEGLIGIBLE: 1>}, {'category': <HarmCategory.HARM_CATEGORY_TOXICITY: 2>, 'probability': <HarmProbability.NEGLIGIBLE: 1>}, {'category': <HarmCategory.HARM_CATEGORY_VIOLENCE: 3>, 'probability': <HarmProbability.NEGLIGIBLE: 1>}, {'category': <HarmCategory.HARM_CATEGORY_SEXUAL: 4>, 'probability': <HarmProbability.NEGLIGIBLE: 1>}, {'category': <HarmCategory.HARM_CATEGORY_MEDICAL: 5>, 'probability': <HarmProbability.NEGLIGIBLE: 1>}, {'category': <HarmCategory.HARM_CATEGORY_DANGEROUS: 6>, 'probability': <HarmProbability.NEGLIGIBLE: 1>}]}, delta=None)"
      ]
     },
     "execution_count": 4,
     "metadata": {},
     "output_type": "execute_result"
    }
   ],
   "source": [
    "llm.complete('What is a Large Language model ?')"
   ]
  },
  {
   "cell_type": "code",
   "execution_count": 5,
   "metadata": {},
   "outputs": [
    {
     "name": "stdout",
     "output_type": "stream",
     "text": [
      "INFO:sentence_transformers.SentenceTransformer:Load pretrained SentenceTransformer: BAAI/bge-small-en\n",
      "Load pretrained SentenceTransformer: BAAI/bge-small-en\n"
     ]
    }
   ],
   "source": [
    "from langchain.embeddings import HuggingFaceBgeEmbeddings\n",
    "\n",
    "model_name = \"BAAI/bge-small-en\"\n",
    "model_kwargs = {\"device\": \"cpu\"}\n",
    "encode_kwargs = {\"normalize_embeddings\": True}\n",
    "hf = HuggingFaceBgeEmbeddings(\n",
    "    model_name=model_name, model_kwargs=model_kwargs, encode_kwargs=encode_kwargs\n",
    ")"
   ]
  },
  {
   "cell_type": "code",
   "execution_count": 6,
   "metadata": {},
   "outputs": [],
   "source": [
    "from llama_index import LangchainEmbedding, ServiceContext\n",
    "\n",
    "embed_model = LangchainEmbedding(\n",
    "  hf\n",
    ")"
   ]
  },
  {
   "cell_type": "code",
   "execution_count": 7,
   "metadata": {},
   "outputs": [],
   "source": [
    "from llama_index import VectorStoreIndex, SimpleDirectoryReader, ServiceContext"
   ]
  },
  {
   "cell_type": "code",
   "execution_count": 8,
   "metadata": {},
   "outputs": [
    {
     "name": "stdout",
     "output_type": "stream",
     "text": [
      "DEBUG:llama_index.readers.file.base:> [SimpleDirectoryReader] Total files added: 1\n",
      "> [SimpleDirectoryReader] Total files added: 1\n"
     ]
    }
   ],
   "source": [
    "documents = SimpleDirectoryReader(\"./tmp/kyc_docs/\").load_data()"
   ]
  },
  {
   "cell_type": "code",
   "execution_count": 9,
   "metadata": {},
   "outputs": [
    {
     "name": "stderr",
     "output_type": "stream",
     "text": [
      "[nltk_data] Error loading punkt: <urlopen error [WinError 10060] A\n",
      "[nltk_data]     connection attempt failed because the connected party\n",
      "[nltk_data]     did not properly respond after a period of time, or\n",
      "[nltk_data]     established connection failed because connected host\n",
      "[nltk_data]     has failed to respond>\n"
     ]
    }
   ],
   "source": [
    "service_context = ServiceContext.from_defaults(\n",
    "    chunk_size=256,\n",
    "    llm=llm,\n",
    "    embed_model=embed_model\n",
    ")"
   ]
  },
  {
   "cell_type": "code",
   "execution_count": 10,
   "metadata": {},
   "outputs": [
    {
     "name": "stdout",
     "output_type": "stream",
     "text": [
      "DEBUG:llama_index.node_parser.node_utils:> Adding chunk: Table of ContentsUNITED STATES\n",
      "SECURITIES AND E...\n",
      "> Adding chunk: Table of ContentsUNITED STATES\n",
      "SECURITIES AND E...\n",
      "DEBUG:llama_index.node_parser.node_utils:> Adding chunk: Employer Identification No.)\n",
      "410 Terry Avenue N...\n",
      "> Adding chunk: Employer Identification No.)\n",
      "410 Terry Avenue N...\n",
      "DEBUG:llama_index.node_parser.node_utils:> Adding chunk: Yes  \n",
      "☐     No  ☒Indicate by check mark whether...\n",
      "> Adding chunk: Yes  \n",
      "☐     No  ☒Indicate by check mark whether...\n",
      "DEBUG:llama_index.node_parser.node_utils:> Adding chunk: See the\n",
      "definitions of “large accelerated filer...\n",
      "> Adding chunk: See the\n",
      "definitions of “large accelerated filer...\n",
      "DEBUG:llama_index.node_parser.node_utils:> Adding chunk: 7262(b)) by the registered public accounting fi...\n",
      "> Adding chunk: 7262(b)) by the registered public accounting fi...\n",
      "DEBUG:llama_index.node_parser.node_utils:> Adding chunk: Yes  \n",
      "☐     No  ☒Aggregate market value of voti...\n",
      "> Adding chunk: Yes  \n",
      "☐     No  ☒Aggregate market value of voti...\n",
      "DEBUG:llama_index.node_parser.node_utils:> Adding chunk: Table of ContentsAMAZON.COM, INC.\n",
      "FORM 10-K\n",
      "For...\n",
      "> Adding chunk: Table of ContentsAMAZON.COM, INC.\n",
      "FORM 10-K\n",
      "For...\n",
      "DEBUG:llama_index.node_parser.node_utils:> Adding chunk: Controls and Procedures 68 Item 9B.\n",
      "Other Infor...\n",
      "> Adding chunk: Controls and Procedures 68 Item 9B.\n",
      "Other Infor...\n",
      "DEBUG:llama_index.node_parser.node_utils:> Adding chunk: Table of ContentsAMAZON.COM, INC.\n",
      "PART I\n",
      "Item 1...\n",
      "> Adding chunk: Table of ContentsAMAZON.COM, INC.\n",
      "PART I\n",
      "Item 1...\n",
      "DEBUG:llama_index.node_parser.node_utils:> Adding chunk: In each of our segments, we serve our primary c...\n",
      "> Adding chunk: In each of our segments, we serve our primary c...\n",
      "DEBUG:llama_index.node_parser.node_utils:> Adding chunk: We also manufacture and sell electronic devices...\n",
      "> Adding chunk: We also manufacture and sell electronic devices...\n",
      "DEBUG:llama_index.node_parser.node_utils:> Adding chunk: See Item 2 of Part I, “Properties.”Sellers\n",
      "We o...\n",
      "> Adding chunk: See Item 2 of Part I, “Properties.”Sellers\n",
      "We o...\n",
      "DEBUG:llama_index.node_parser.node_utils:> Adding chunk: We also offer programs that allow authors,music...\n",
      "> Adding chunk: We also offer programs that allow authors,music...\n",
      "DEBUG:llama_index.node_parser.node_utils:> Adding chunk: Table of ContentsCompetition\n",
      "Our businesses enc...\n",
      "> Adding chunk: Table of ContentsCompetition\n",
      "Our businesses enc...\n",
      "DEBUG:llama_index.node_parser.node_utils:> Adding chunk: omnichannel sales, invento\n",
      "ry and supply chain ...\n"
     ]
    },
    {
     "name": "stdout",
     "output_type": "stream",
     "text": [
      "> Adding chunk: omnichannel sales, invento\n",
      "ry and supply chain ...\n",
      "DEBUG:llama_index.node_parser.node_utils:> Adding chunk: Some of our current and potential competitors h...\n",
      "> Adding chunk: Some of our current and potential competitors h...\n",
      "DEBUG:llama_index.node_parser.node_utils:> Adding chunk: Other companies also may enter into business co...\n",
      "> Adding chunk: Other companies also may enter into business co...\n",
      "DEBUG:llama_index.node_parser.node_utils:> Adding chunk: As of December 31, 2021, we employed approximat...\n",
      "> Adding chunk: As of December 31, 2021, we employed approximat...\n",
      "DEBUG:llama_index.node_parser.node_utils:> Adding chunk: We also provide mentorship and support resource...\n",
      "> Adding chunk: We also provide mentorship and support resource...\n",
      "DEBUG:llama_index.node_parser.node_utils:> Adding chunk: Table of ContentsAvailable Information\n",
      "Our inve...\n",
      "> Adding chunk: Table of ContentsAvailable Information\n",
      "Our inve...\n",
      "DEBUG:llama_index.node_parser.node_utils:> Adding chunk: We promptly make availableon this website, free...\n",
      "> Adding chunk: We promptly make availableon this website, free...\n",
      "DEBUG:llama_index.node_parser.node_utils:> Adding chunk: Mr. Bezos founded Amazon.com in 1994 and has se...\n",
      "> Adding chunk: Mr. Bezos founded Amazon.com in 1994 and has se...\n",
      "DEBUG:llama_index.node_parser.node_utils:> Adding chunk: Brian T. Olsavsky.\n",
      " Mr. Olsavsky has served as ...\n",
      "> Adding chunk: Brian T. Olsavsky.\n",
      " Mr. Olsavsky has served as ...\n",
      "DEBUG:llama_index.node_parser.node_utils:> Adding chunk: David A. Zapolsky. \n",
      "Mr. Zapolsky has served as ...\n",
      "> Adding chunk: David A. Zapolsky. \n",
      "Mr. Zapolsky has served as ...\n",
      "DEBUG:llama_index.node_parser.node_utils:> Adding chunk: Board of Directors\n",
      "Name\n",
      "Age Position Jeffrey P....\n",
      "> Adding chunk: Board of Directors\n",
      "Name\n",
      "Age Position Jeffrey P....\n",
      "DEBUG:llama_index.node_parser.node_utils:> Adding chunk: Table of ContentsItem 1A.\n",
      "Risk Factors Please c...\n",
      "> Adding chunk: Table of ContentsItem 1A.\n",
      "Risk Factors Please c...\n",
      "DEBUG:llama_index.node_parser.node_utils:> Adding chunk: In addition to the effects of the COVID-19 pand...\n",
      "> Adding chunk: In addition to the effects of the COVID-19 pand...\n",
      "DEBUG:llama_index.node_parser.node_utils:> Adding chunk: Some of our current and potential competitors h...\n",
      "> Adding chunk: Some of our current and potential competitors h...\n",
      "DEBUG:llama_index.node_parser.node_utils:> Adding chunk: As a result of compe\n",
      "tition, our product and se...\n",
      "> Adding chunk: As a result of compe\n",
      "tition, our product and se...\n",
      "DEBUG:llama_index.node_parser.node_utils:> Adding chunk: In addition, our sustainability initiatives may...\n",
      "> Adding chunk: In addition, our sustainability initiatives may...\n",
      "DEBUG:llama_index.node_parser.node_utils:> Adding chunk: Our international operations may not become pro...\n",
      "> Adding chunk: Our international operations may not become pro...\n",
      "DEBUG:llama_index.node_parser.node_utils:> Adding chunk: Table of Contentsprecedent, and varying rul\n",
      "es,...\n",
      "> Adding chunk: Table of Contentsprecedent, and varying rul\n",
      "es,...\n",
      "DEBUG:llama_index.node_parser.node_utils:> Adding chunk: ;•\n",
      "lower levels of credit card usage and increa...\n",
      "> Adding chunk: ;•\n",
      "lower levels of credit card usage and increa...\n",
      "DEBUG:llama_index.node_parser.node_utils:> Adding chunk: The inability to hire, train, retain, and manag...\n",
      "> Adding chunk: The inability to hire, train, retain, and manag...\n",
      "DEBUG:llama_index.node_parser.node_utils:> Adding chunk: For www.amazon.in, we provide certainmarketing ...\n",
      "> Adding chunk: For www.amazon.in, we provide certainmarketing ...\n",
      "DEBUG:llama_index.node_parser.node_utils:> Adding chunk: Violation of any existing or future PRC, Indian...\n",
      "> Adding chunk: Violation of any existing or future PRC, Indian...\n",
      "DEBUG:llama_index.node_parser.node_utils:> Adding chunk: When we overstockproducts, we may be required t...\n",
      "> Adding chunk: When we overstockproducts, we may be required t...\n",
      "DEBUG:llama_index.node_parser.node_utils:> Adding chunk: Table of Contentsto adequately staff our \n",
      "fulfi...\n",
      "> Adding chunk: Table of Contentsto adequately staff our \n",
      "fulfi...\n",
      "DEBUG:llama_index.node_parser.node_utils:> Adding chunk: This operating cycle results in a corresponding...\n",
      "> Adding chunk: This operating cycle results in a corresponding...\n",
      "DEBUG:llama_index.node_parser.node_utils:> Adding chunk: Under our seller programs, we maintain policies...\n",
      "> Adding chunk: Under our seller programs, we maintain policies...\n",
      "DEBUG:llama_index.node_parser.node_utils:> Adding chunk: Under our A2ZGuarantee, we reimburse buye\n",
      "rs fo...\n",
      "> Adding chunk: Under our A2ZGuarantee, we reimburse buye\n",
      "rs fo...\n",
      "DEBUG:llama_index.node_parser.node_utils:> Adding chunk: Furthermore, regulations governing domain names...\n",
      "> Adding chunk: Furthermore, regulations governing domain names...\n",
      "DEBUG:llama_index.node_parser.node_utils:> Adding chunk: We also cannot be certain that others will not ...\n",
      "> Adding chunk: We also cannot be certain that others will not ...\n",
      "DEBUG:llama_index.node_parser.node_utils:> Adding chunk: Breach or malfunctioning of thedigital rights m...\n",
      "> Adding chunk: Breach or malfunctioning of thedigital rights m...\n",
      "DEBUG:llama_index.node_parser.node_utils:> Adding chunk: Table of ContentsJapanese Yen. When the U.S. Do...\n",
      "> Adding chunk: Table of ContentsJapanese Yen. When the U.S. Do...\n",
      "DEBUG:llama_index.node_parser.node_utils:> Adding chunk: We base our expense levels and investment plans...\n",
      "> Adding chunk: We base our expense levels and investment plans...\n",
      "DEBUG:llama_index.node_parser.node_utils:> Adding chunk: or global economies, may result in decreased re...\n",
      "> Adding chunk: or global economies, may result in decreased re...\n",
      "DEBUG:llama_index.node_parser.node_utils:> Adding chunk: our current operations and future growth;•\n",
      "the ...\n",
      "> Adding chunk: our current operations and future growth;•\n",
      "the ...\n",
      "DEBUG:llama_index.node_parser.node_utils:> Adding chunk: •\n",
      "constrained labor markets, which increase our...\n",
      "> Adding chunk: •\n",
      "constrained labor markets, which increase our...\n",
      "DEBUG:llama_index.node_parser.node_utils:> Adding chunk: Table of Contents•\n",
      "the extent to which use of o...\n",
      "> Adding chunk: Table of Contents•\n",
      "the extent to which use of o...\n",
      "DEBUG:llama_index.node_parser.node_utils:> Adding chunk: As we continue to add fulfil\n",
      "lment and data cen...\n",
      "> Adding chunk: As we continue to add fulfil\n",
      "lment and data cen...\n",
      "DEBUG:llama_index.node_parser.node_utils:> Adding chunk: We are also subject to labor union efforts to o...\n",
      "> Adding chunk: We are also subject to labor union efforts to o...\n",
      "DEBUG:llama_index.node_parser.node_utils:> Adding chunk: An inability to negotiate acceptable termswith ...\n",
      "> Adding chunk: An inability to negotiate acceptable termswith ...\n",
      "DEBUG:llama_index.node_parser.node_utils:> Adding chunk: products, andsystems, could: expose us or our c...\n",
      "> Adding chunk: products, andsystems, could: expose us or our c...\n",
      "DEBUG:llama_index.node_parser.node_utils:> Adding chunk: Although we have developed systems and processe...\n",
      "> Adding chunk: Although we have developed systems and processe...\n",
      "DEBUG:llama_index.node_parser.node_utils:> Adding chunk: Table of ContentsOur computer and communica\n",
      "tio...\n",
      "> Adding chunk: Table of ContentsOur computer and communica\n",
      "tio...\n",
      "DEBUG:llama_index.node_parser.node_utils:> Adding chunk: Any of these events could damage our reputation...\n",
      "> Adding chunk: Any of these events could damage our reputation...\n",
      "DEBUG:llama_index.node_parser.node_utils:> Adding chunk: The loss of any of our executiveofficers or oth...\n",
      "> Adding chunk: The loss of any of our executiveofficers or oth...\n",
      "DEBUG:llama_index.node_parser.node_utils:> Adding chunk: Decisions by our current suppliers tolimit or s...\n",
      "> Adding chunk: Decisions by our current suppliers tolimit or s...\n",
      "DEBUG:llama_index.node_parser.node_utils:> Adding chunk: In addition, violations by our suppliers orothe...\n",
      "> Adding chunk: In addition, violations by our suppliers orothe...\n",
      "DEBUG:llama_index.node_parser.node_utils:> Adding chunk: We may not be able to implement, maintain, and ...\n",
      "> Adding chunk: We may not be able to implement, maintain, and ...\n",
      "DEBUG:llama_index.node_parser.node_utils:> Adding chunk: We may in the future enter into amendmentson le...\n",
      "> Adding chunk: We may in the future enter into amendmentson le...\n",
      "DEBUG:llama_index.node_parser.node_utils:> Adding chunk: Table of Contents•\n",
      "variability in revenue and i...\n",
      "> Adding chunk: Table of Contents•\n",
      "variability in revenue and i...\n",
      "DEBUG:llama_index.node_parser.node_utils:> Adding chunk: •\n",
      "the difficulty of completing such transaction...\n",
      "> Adding chunk: •\n",
      "the difficulty of completing such transaction...\n",
      "DEBUG:llama_index.node_parser.node_utils:> Adding chunk: financial reporting, and similar systems,contro...\n",
      "> Adding chunk: financial reporting, and similar systems,contro...\n",
      "DEBUG:llama_index.node_parser.node_utils:> Adding chunk: In addition, valuations support\n",
      "ing our acquisi...\n",
      "> Adding chunk: In addition, valuations support\n",
      "ing our acquisi...\n",
      "DEBUG:llama_index.node_parser.node_utils:> Adding chunk: In addition, when we begin selling or manufactu...\n",
      "> Adding chunk: In addition, when we begin selling or manufactu...\n",
      "DEBUG:llama_index.node_parser.node_utils:> Adding chunk: Table of ContentsWe Are Subject to Payments-Rel...\n",
      "> Adding chunk: Table of ContentsWe Are Subject to Payments-Rel...\n",
      "DEBUG:llama_index.node_parser.node_utils:> Adding chunk: In each case, \n",
      "it could disrupt our business if...\n",
      "> Adding chunk: In each case, \n",
      "it could disrupt our business if...\n",
      "DEBUG:llama_index.node_parser.node_utils:> Adding chunk: Fa\n",
      "ilure to comply with these rules or requirem...\n",
      "> Adding chunk: Fa\n",
      "ilure to comply with these rules or requirem...\n",
      "DEBUG:llama_index.node_parser.node_utils:> Adding chunk: We a\n",
      "re also subject to or voluntarily comply w...\n",
      "> Adding chunk: We a\n",
      "re also subject to or voluntarily comply w...\n",
      "DEBUG:llama_index.node_parser.node_utils:> Adding chunk: •\n",
      "changes in financial estimates by us or decis...\n",
      "> Adding chunk: •\n",
      "changes in financial estimates by us or decis...\n",
      "DEBUG:llama_index.node_parser.node_utils:> Adding chunk: e-commerce, andomnichannel retail, digital co\n",
      "n...\n",
      "> Adding chunk: e-commerce, andomnichannel retail, digital co\n",
      "n...\n",
      "DEBUG:llama_index.node_parser.node_utils:> Adding chunk: Table of Contentsrequirements, unencumbe\n",
      "red In...\n",
      "> Adding chunk: Table of Contentsrequirements, unencumbe\n",
      "red In...\n",
      "DEBUG:llama_index.node_parser.node_utils:> Adding chunk: We a\n",
      "re regularly subject to formal and informa...\n",
      "> Adding chunk: We a\n",
      "re regularly subject to formal and informa...\n",
      "DEBUG:llama_index.node_parser.node_utils:> Adding chunk: Unfavorable regulations, laws, decisions, or in...\n",
      "> Adding chunk: Unfavorable regulations, laws, decisions, or in...\n",
      "DEBUG:llama_index.node_parser.node_utils:> Adding chunk: The media, political, and regulatory scrutiny w...\n",
      "> Adding chunk: The media, political, and regulatory scrutiny w...\n",
      "DEBUG:llama_index.node_parser.node_utils:> Adding chunk: Any of these types of proceedings can have an a...\n",
      "> Adding chunk: Any of these types of proceedings can have an a...\n",
      "DEBUG:llama_index.node_parser.node_utils:> Adding chunk: In addition, it is possible that a resolution o...\n",
      "> Adding chunk: In addition, it is possible that a resolution o...\n",
      "DEBUG:llama_index.node_parser.node_utils:> Adding chunk: Third parties who sell products using our servi...\n",
      "> Adding chunk: Third parties who sell products using our servi...\n",
      "DEBUG:llama_index.node_parser.node_utils:> Adding chunk: (federal and state) and numerous foreign jurisd...\n",
      "> Adding chunk: (federal and state) and numerous foreign jurisd...\n",
      "DEBUG:llama_index.node_parser.node_utils:> Adding chunk: Table of Contentsconsumption, value added, or o...\n",
      "> Adding chunk: Table of Contentsconsumption, value added, or o...\n",
      "DEBUG:llama_index.node_parser.node_utils:> Adding chunk: In some cases we also may not havesufficient no...\n",
      "> Adding chunk: In some cases we also may not havesufficient no...\n",
      "DEBUG:llama_index.node_parser.node_utils:> Adding chunk: Significant judgment is required in evaluating ...\n",
      "> Adding chunk: Significant judgment is required in evaluating ...\n",
      "DEBUG:llama_index.node_parser.node_utils:> Adding chunk: We Are Subject to Risks Related to Government C...\n",
      "> Adding chunk: We Are Subject to Risks Related to Government C...\n",
      "DEBUG:llama_index.node_parser.node_utils:> Adding chunk: Table of ContentsItem 2.\n",
      "Properties As of Decem...\n",
      "> Adding chunk: Table of ContentsItem 2.\n",
      "Properties As of Decem...\n",
      "DEBUG:llama_index.node_parser.node_utils:> Adding chunk: (2)\n",
      "This includes 672 North America and 7 Inter...\n",
      "> Adding chunk: (2)\n",
      "This includes 672 North America and 7 Inter...\n",
      "DEBUG:llama_index.node_parser.node_utils:> Adding chunk: Mine Safety Disclosures Not applicable.\n",
      "16\n",
      "> Adding chunk: Mine Safety Disclosures Not applicable.\n",
      "16\n",
      "DEBUG:llama_index.node_parser.node_utils:> Adding chunk: Table of ContentsPART II\n",
      "Item 5.\n",
      "Market for the...\n",
      "> Adding chunk: Table of ContentsPART II\n",
      "Item 5.\n",
      "Market for the...\n",
      "DEBUG:llama_index.node_parser.node_utils:> Adding chunk: Table of ContentsItem 7.\n",
      "Management’s Discussio...\n",
      "> Adding chunk: Table of ContentsItem 7.\n",
      "Management’s Discussio...\n",
      "DEBUG:llama_index.node_parser.node_utils:> Adding chunk: world events, the rate of growth of the Interne...\n",
      "> Adding chunk: world events, the rate of growth of the Interne...\n",
      "DEBUG:llama_index.node_parser.node_utils:> Adding chunk: These risks and uncertainties, as well as other...\n",
      "> Adding chunk: These risks and uncertainties, as well as other...\n",
      "DEBUG:llama_index.node_parser.node_utils:> Adding chunk: We also offer other servicessuch as compute, st...\n",
      "> Adding chunk: We also offer other servicessuch as compute, st...\n",
      "DEBUG:llama_index.node_parser.node_utils:> Adding chunk: To increase sales of products and services, wef...\n",
      "> Adding chunk: To increase sales of products and services, wef...\n",
      "DEBUG:llama_index.node_parser.node_utils:> Adding chunk: Our fixed \n",
      "costs include the costs necessary to...\n",
      "> Adding chunk: Our fixed \n",
      "costs include the costs necessary to...\n",
      "DEBUG:llama_index.node_parser.node_utils:> Adding chunk: We expect variability in inventory turnover ove...\n",
      "> Adding chunk: We expect variability in inventory turnover ove...\n",
      "DEBUG:llama_index.node_parser.node_utils:> Adding chunk: Table of Contentsby us and by third-party selle...\n",
      "> Adding chunk: Table of Contentsby us and by third-party selle...\n",
      "DEBUG:llama_index.node_parser.node_utils:> Adding chunk: We seek to invest efficiently in several areas ...\n",
      "> Adding chunk: We seek to invest efficiently in several areas ...\n",
      "DEBUG:llama_index.node_parser.node_utils:> Adding chunk: We are alsoinvesting in initiativ\n",
      "es to build a...\n",
      "> Adding chunk: We are alsoinvesting in initiativ\n",
      "es to build a...\n",
      "DEBUG:llama_index.node_parser.node_utils:> Adding chunk: For example, if the U.S. Dollar weakens y\n",
      "ear-o...\n",
      "> Adding chunk: For example, if the U.S. Dollar weakens y\n",
      "ear-o...\n",
      "DEBUG:llama_index.node_parser.node_utils:> Adding chunk: Currency vol\n",
      "atilities may continue, which may ...\n",
      "> Adding chunk: Currency vol\n",
      "atilities may continue, which may ...\n",
      "DEBUG:llama_index.node_parser.node_utils:> Adding chunk: The SEC has defined a company’s critical accoun...\n",
      "> Adding chunk: The SEC has defined a company’s critical accoun...\n",
      "DEBUG:llama_index.node_parser.node_utils:> Adding chunk: Table of ContentsInventories\n",
      "Inventories, consi...\n",
      "> Adding chunk: Table of ContentsInventories\n",
      "Inventories, consi...\n",
      "DEBUG:llama_index.node_parser.node_utils:> Adding chunk: These commitments are based on forecastedcustom...\n",
      "> Adding chunk: These commitments are based on forecastedcustom...\n",
      "DEBUG:llama_index.node_parser.node_utils:> Adding chunk: such as changes in our business operations, acq...\n",
      "> Adding chunk: such as changes in our business operations, acq...\n",
      "DEBUG:llama_index.node_parser.node_utils:> Adding chunk: competition, and other laws and accounting rule...\n",
      "> Adding chunk: competition, and other laws and accounting rule...\n",
      "DEBUG:llama_index.node_parser.node_utils:> Adding chunk: Although we believe our tax estimates are reaso...\n",
      "> Adding chunk: Although we believe our tax estimates are reaso...\n",
      "DEBUG:llama_index.node_parser.node_utils:> Adding chunk: Amounts held in foreign currencies were $23.5 b...\n",
      "> Adding chunk: Amounts held in foreign currencies were $23.5 b...\n",
      "DEBUG:llama_index.node_parser.node_utils:> Adding chunk: Table of Contentsprimarily due to changes \n",
      "in w...\n",
      "> Adding chunk: Table of Contentsprimarily due to changes \n",
      "in w...\n",
      "DEBUG:llama_index.node_parser.node_utils:> Adding chunk: Cash capital expenditureswere $35.0 billion, an...\n",
      "> Adding chunk: Cash capital expenditureswere $35.0 billion, an...\n",
      "DEBUG:llama_index.node_parser.node_utils:> Adding chunk: Cash outflows from financing activities resulte...\n",
      "> Adding chunk: Cash outflows from financing activities resulte...\n",
      "DEBUG:llama_index.node_parser.node_utils:> Adding chunk: As of December 31, 2021, cash, cash equiva\n",
      "lent...\n",
      "> Adding chunk: As of December 31, 2021, cash, cash equiva\n",
      "lent...\n",
      "DEBUG:llama_index.node_parser.node_utils:> Adding chunk: Effective January 1, 2022, research and develop...\n",
      "> Adding chunk: Effective January 1, 2022, research and develop...\n",
      "DEBUG:llama_index.node_parser.node_utils:> Adding chunk: These purchase obligations and openpurchase ord...\n",
      "> Adding chunk: These purchase obligations and openpurchase ord...\n",
      "DEBUG:llama_index.node_parser.node_utils:> Adding chunk: We expect to fund the acquisition of MGM Holdin...\n",
      "> Adding chunk: We expect to fund the acquisition of MGM Holdin...\n",
      "DEBUG:llama_index.node_parser.node_utils:> Adding chunk: Table of ContentsResults of Operations\n",
      "We have ...\n",
      "> Adding chunk: Table of ContentsResults of Operations\n",
      "We have ...\n",
      "DEBUG:llama_index.node_parser.node_utils:> Adding chunk: Moreover, it is notpossible to determine th\n",
      "e d...\n",
      "> Adding chunk: Moreover, it is notpossible to determine th\n",
      "e d...\n",
      "DEBUG:llama_index.node_parser.node_utils:> Adding chunk: We expect these factors and their effects on ou...\n",
      "> Adding chunk: We expect these factors and their effects on ou...\n",
      "DEBUG:llama_index.node_parser.node_utils:> Adding chunk: Table of ContentsNet Sales\n",
      "Net sales include pr...\n",
      "> Adding chunk: Table of ContentsNet Sales\n",
      "Net sales include pr...\n",
      "DEBUG:llama_index.node_parser.node_utils:> Adding chunk: Net sales information is as follows (in million...\n",
      "> Adding chunk: Net sales information is as follows (in million...\n",
      "DEBUG:llama_index.node_parser.node_utils:> Adding chunk: For a discussion of the effe\n",
      "ct of foreign exch...\n",
      "> Adding chunk: For a discussion of the effe\n",
      "ct of foreign exch...\n",
      "DEBUG:llama_index.node_parser.node_utils:> Adding chunk: Increased unit sales were driven largely by our...\n",
      "> Adding chunk: Increased unit sales were driven largely by our...\n",
      "DEBUG:llama_index.node_parser.node_utils:> Adding chunk: Table of ContentsOperating Income (Loss)\n",
      "Operat...\n",
      "> Adding chunk: Table of ContentsOperating Income (Loss)\n",
      "Operat...\n",
      "DEBUG:llama_index.node_parser.node_utils:> Adding chunk: and fulfillment network inefficiencies,and grow...\n",
      "> Adding chunk: and fulfillment network inefficiencies,and grow...\n",
      "DEBUG:llama_index.node_parser.node_utils:> Adding chunk: including sales by third-party sellers, and adv...\n",
      "> Adding chunk: including sales by third-party sellers, and adv...\n",
      "DEBUG:llama_index.node_parser.node_utils:> Adding chunk: Table of ContentsOperating Expenses\n",
      "Information...\n",
      "> Adding chunk: Table of ContentsOperating Expenses\n",
      "Information...\n",
      "DEBUG:llama_index.node_parser.node_utils:> Adding chunk: 2 16.0 Technology and content\n",
      "11.1 11.9 Marketi...\n",
      "> Adding chunk: 2 16.0 Technology and content\n",
      "11.1 11.9 Marketi...\n",
      "DEBUG:llama_index.node_parser.node_utils:> Adding chunk: Shipping costs, which include sortat\n",
      "ion and de...\n",
      "> Adding chunk: Shipping costs, which include sortat\n",
      "ion and de...\n",
      "DEBUG:llama_index.node_parser.node_utils:> Adding chunk: We believe that offering low prices to our cust...\n",
      "> Adding chunk: We believe that offering low prices to our cust...\n",
      "DEBUG:llama_index.node_parser.node_utils:> Adding chunk: Table of Contentscontent.” Fulfillment \n",
      "costs a...\n",
      "> Adding chunk: Table of Contentscontent.” Fulfillment \n",
      "costs a...\n",
      "DEBUG:llama_index.node_parser.node_utils:> Adding chunk: Additionally, sa\n",
      "les by our sellers have higher...\n",
      "> Adding chunk: Additionally, sa\n",
      "les by our sellers have higher...\n",
      "DEBUG:llama_index.node_parser.node_utils:> Adding chunk: We regularly evaluate our facility requirements...\n",
      "> Adding chunk: We regularly evaluate our facility requirements...\n",
      "DEBUG:llama_index.node_parser.node_utils:> Adding chunk: We expect spending intechnology and content to ...\n",
      "> Adding chunk: We expect spending intechnology and content to ...\n",
      "DEBUG:llama_index.node_parser.node_utils:> Adding chunk: Marketing\n",
      "Marketing costs include adv\n",
      "ertising ...\n",
      "> Adding chunk: Marketing\n",
      "Marketing costs include adv\n",
      "ertising ...\n",
      "DEBUG:llama_index.node_parser.node_utils:> Adding chunk: Our marketing costs are largely variable, based...\n",
      "> Adding chunk: Our marketing costs are largely variable, based...\n",
      "DEBUG:llama_index.node_parser.node_utils:> Adding chunk: Table of ContentsOther Operating Expense (Incom...\n",
      "> Adding chunk: Table of ContentsOther Operating Expense (Incom...\n",
      "DEBUG:llama_index.node_parser.node_utils:> Adding chunk: Our interest income corresponds with the averag...\n",
      "> Adding chunk: Our interest income corresponds with the averag...\n",
      "DEBUG:llama_index.node_parser.node_utils:> Adding chunk: The primary components of other income (expense...\n",
      "> Adding chunk: The primary components of other income (expense...\n",
      "DEBUG:llama_index.node_parser.node_utils:> Adding chunk: Included in other income (expense), net in 2021...\n",
      "> Adding chunk: Included in other income (expense), net in 2021...\n",
      "DEBUG:llama_index.node_parser.node_utils:> Adding chunk: In addition, we recordvaluation allowances aga\n",
      "...\n",
      "> Adding chunk: In addition, we recordvaluation allowances aga\n",
      "...\n",
      "DEBUG:llama_index.node_parser.node_utils:> Adding chunk: Table of ContentsFree Cash Flow\n",
      "Free cash flow ...\n",
      "> Adding chunk: Table of ContentsFree Cash Flow\n",
      "Free cash flow ...\n",
      "DEBUG:llama_index.node_parser.node_utils:> Adding chunk: 104) $ 6,291 Free Cash Flow Less Principal Repa...\n",
      "> Adding chunk: 104) $ 6,291 Free Cash Flow Less Principal Repa...\n",
      "DEBUG:llama_index.node_parser.node_utils:> Adding chunk: net of proceeds from sales and incentives(35,04...\n",
      "> Adding chunk: net of proceeds from sales and incentives(35,04...\n",
      "DEBUG:llama_index.node_parser.node_utils:> Adding chunk: Table of ContentsFree Cash Flow Less Equipment ...\n",
      "> Adding chunk: Table of ContentsFree Cash Flow Less Equipment ...\n",
      "DEBUG:llama_index.node_parser.node_utils:> Adding chunk: “Net cash provided by (used in) operating activ...\n",
      "> Adding chunk: “Net cash provided by (used in) operating activ...\n",
      "DEBUG:llama_index.node_parser.node_utils:> Adding chunk: 611) $ (58,154) Net cash provided by (used in) ...\n",
      "> Adding chunk: 611) $ (58,154) Net cash provided by (used in) ...\n",
      "DEBUG:llama_index.node_parser.node_utils:> Adding chunk: Additionally, our mix of property and equipment...\n",
      "> Adding chunk: Additionally, our mix of property and equipment...\n",
      "DEBUG:llama_index.node_parser.node_utils:> Adding chunk: Dollar is as follows (in millions): \n",
      "Year Ended...\n",
      "> Adding chunk: Dollar is as follows (in millions): \n",
      "Year Ended...\n",
      "DEBUG:llama_index.node_parser.node_utils:> Adding chunk: (2)\n",
      "Represents the outcome that would have resu...\n",
      "> Adding chunk: (2)\n",
      "Represents the outcome that would have resu...\n",
      "DEBUG:llama_index.node_parser.node_utils:> Adding chunk: Table of ContentsGuidance\n",
      "We provided guidance ...\n",
      "> Adding chunk: Table of ContentsGuidance\n",
      "We provided guidance ...\n",
      "DEBUG:llama_index.node_parser.node_utils:> Adding chunk: Our results are inherently unpredictable and ma...\n",
      "> Adding chunk: Our results are inherently unpredictable and ma...\n",
      "DEBUG:llama_index.node_parser.node_utils:> Adding chunk: This guidanceanticipates an unfavor\n",
      "able impact...\n",
      "> Adding chunk: This guidanceanticipates an unfavor\n",
      "able impact...\n",
      "DEBUG:llama_index.node_parser.node_utils:> Adding chunk: Table of ContentsItem 7A.\n",
      "Quantitative and Qual...\n",
      "> Adding chunk: Table of ContentsItem 7A.\n",
      "Quantitative and Qual...\n",
      "DEBUG:llama_index.node_parser.node_utils:> Adding chunk: However, the fair value of our debt, which pays...\n",
      "> Adding chunk: However, the fair value of our debt, which pays...\n",
      "DEBUG:llama_index.node_parser.node_utils:> Adding chunk: The following table provides information about ...\n",
      "> Adding chunk: The following table provides information about ...\n",
      "DEBUG:llama_index.node_parser.node_utils:> Adding chunk: 273 4,300 Weighted average interest rate\n",
      "0.30 %...\n",
      "> Adding chunk: 273 4,300 Weighted average interest rate\n",
      "0.30 %...\n",
      "DEBUG:llama_index.node_parser.node_utils:> Adding chunk: 758 $ 3,732 $ 1,791 $ 561 $ 67,657 Cash equival...\n",
      "> Adding chunk: 758 $ 3,732 $ 1,791 $ 561 $ 67,657 Cash equival...\n",
      "DEBUG:llama_index.node_parser.node_utils:> Adding chunk: Table of ContentsForeign Exchange Risk\n",
      "During 2...\n",
      "> Adding chunk: Table of ContentsForeign Exchange Risk\n",
      "During 2...\n",
      "DEBUG:llama_index.node_parser.node_utils:> Adding chunk: For example, as a \n",
      "result of fluctuations in fo...\n",
      "> Adding chunk: For example, as a \n",
      "result of fluctuations in fo...\n",
      "DEBUG:llama_index.node_parser.node_utils:> Adding chunk: Equity se\n",
      "curities with readily determinable fa...\n",
      "> Adding chunk: Equity se\n",
      "curities with readily determinable fa...\n",
      "DEBUG:llama_index.node_parser.node_utils:> Adding chunk: Our equity and equitywarrant investments in pub...\n",
      "> Adding chunk: Our equity and equitywarrant investments in pub...\n",
      "DEBUG:llama_index.node_parser.node_utils:> Adding chunk: Table of ContentsItem 8.\n",
      "Financial Statements a...\n",
      "> Adding chunk: Table of ContentsItem 8.\n",
      "Financial Statements a...\n",
      "DEBUG:llama_index.node_parser.node_utils:> Adding chunk: Table of ContentsReport of Independent Register...\n",
      "> Adding chunk: Table of ContentsReport of Independent Register...\n",
      "DEBUG:llama_index.node_parser.node_utils:> Adding chunk: generally accepted accounting principles.We als...\n",
      "> Adding chunk: generally accepted accounting principles.We als...\n",
      "DEBUG:llama_index.node_parser.node_utils:> Adding chunk: fed\n",
      "eral securities laws and the applicable rul...\n",
      "> Adding chunk: fed\n",
      "eral securities laws and the applicable rul...\n",
      "DEBUG:llama_index.node_parser.node_utils:> Adding chunk: We believe that our audits provide a reasonable...\n",
      "> Adding chunk: We believe that our audits provide a reasonable...\n",
      "DEBUG:llama_index.node_parser.node_utils:> Adding chunk: Table of ContentsIncome Taxes\n",
      "Description of \n",
      "t...\n",
      "> Adding chunk: Table of ContentsIncome Taxes\n",
      "Description of \n",
      "t...\n",
      "DEBUG:llama_index.node_parser.node_utils:> Adding chunk: Management’s evaluation of tax positions may in...\n",
      "> Adding chunk: Management’s evaluation of tax positions may in...\n",
      "DEBUG:llama_index.node_parser.node_utils:> Adding chunk: Depending on the nature of the specific tax pos...\n",
      "> Adding chunk: Depending on the nature of the specific tax pos...\n",
      "DEBUG:llama_index.node_parser.node_utils:> Adding chunk: We have alsoevaluated the Company’s inco\n",
      "me tax...\n",
      "> Adding chunk: We have alsoevaluated the Company’s inco\n",
      "me tax...\n",
      "DEBUG:llama_index.node_parser.node_utils:> Adding chunk: Table of ContentsAMAZON.COM, INC.\n",
      "CONSOLIDATED ...\n",
      "> Adding chunk: Table of ContentsAMAZON.COM, INC.\n",
      "CONSOLIDATED ...\n",
      "DEBUG:llama_index.node_parser.node_utils:> Adding chunk: net\n",
      "(249) (2,582) (14,306) Deferred income taxe...\n",
      "> Adding chunk: net\n",
      "(249) (2,582) (14,306) Deferred income taxe...\n",
      "DEBUG:llama_index.node_parser.node_utils:> Adding chunk: and other\n",
      "(2,461) (2,325) (1,985) Sales and mat...\n",
      "> Adding chunk: and other\n",
      "(2,461) (2,325) (1,985) Sales and mat...\n",
      "DEBUG:llama_index.node_parser.node_utils:> Adding chunk: 628) (10,642) (11,163) Principal repayments of ...\n",
      "> Adding chunk: 628) (10,642) (11,163) Principal repayments of ...\n",
      "DEBUG:llama_index.node_parser.node_utils:> Adding chunk: Table of ContentsAMAZON.COM, INC.\n",
      "CONSOLIDATED ...\n",
      "> Adding chunk: Table of ContentsAMAZON.COM, INC.\n",
      "CONSOLIDATED ...\n",
      "DEBUG:llama_index.node_parser.node_utils:> Adding chunk: 899 24,879 Interest income\n",
      "832 555 448 Interest...\n",
      "> Adding chunk: 899 24,879 Interest income\n",
      "832 555 448 Interest...\n",
      "DEBUG:llama_index.node_parser.node_utils:> Adding chunk: Table of ContentsAMAZON.COM, INC.\n",
      "CONSOLIDATED ...\n",
      "> Adding chunk: Table of ContentsAMAZON.COM, INC.\n",
      "CONSOLIDATED ...\n",
      "DEBUG:llama_index.node_parser.node_utils:> Adding chunk: n\n",
      "et of tax of $(12), $(83), and $7283 273 (343...\n",
      "> Adding chunk: n\n",
      "et of tax of $(12), $(83), and $7283 273 (343...\n",
      "DEBUG:llama_index.node_parser.node_utils:> Adding chunk: Table of ContentsAMAZON.COM, INC.\n",
      "CONSOLIDATED ...\n",
      "> Adding chunk: Table of ContentsAMAZON.COM, INC.\n",
      "CONSOLIDATED ...\n",
      "DEBUG:llama_index.node_parser.node_utils:> Adding chunk: 708 11,827 Total current liabilities\n",
      "126,385 14...\n",
      "> Adding chunk: 708 11,827 Total current liabilities\n",
      "126,385 14...\n",
      "DEBUG:llama_index.node_parser.node_utils:> Adding chunk: 551 85,915 Total stockholders’ equity\n",
      "93,404 13...\n",
      "> Adding chunk: 551 85,915 Total stockholders’ equity\n",
      "93,404 13...\n",
      "DEBUG:llama_index.node_parser.node_utils:> Adding chunk: Table of ContentsAMAZON.COM, INC.\n",
      "CONSOLIDATED ...\n",
      "> Adding chunk: Table of ContentsAMAZON.COM, INC.\n",
      "CONSOLIDATED ...\n",
      "DEBUG:llama_index.node_parser.node_utils:> Adding chunk: 867 Balance as of December 31, 2019\n",
      "498 5 (1,83...\n",
      "> Adding chunk: 867 Balance as of December 31, 2019\n",
      "498 5 (1,83...\n",
      "DEBUG:llama_index.node_parser.node_utils:> Adding chunk: Table of ContentsAMAZON.COM, INC.\n",
      "NOTES TO CONS...\n",
      "> Adding chunk: Table of ContentsAMAZON.COM, INC.\n",
      "NOTES TO CONS...\n",
      "DEBUG:llama_index.node_parser.node_utils:> Adding chunk: We serve developers and enterprises of all size...\n",
      "> Adding chunk: We serve developers and enterprises of all size...\n",
      "DEBUG:llama_index.node_parser.node_utils:> Adding chunk: Intercompany balances and transactions between ...\n",
      "> Adding chunk: Intercompany balances and transactions between ...\n",
      "DEBUG:llama_index.node_parser.node_utils:> Adding chunk: Actual results could differ materiallyfrom thes...\n",
      "> Adding chunk: Actual results could differ materiallyfrom thes...\n",
      "DEBUG:llama_index.node_parser.node_utils:> Adding chunk: We had previouslyincreased the useful l\n",
      "ife of ...\n",
      "> Adding chunk: We had previouslyincreased the useful l\n",
      "ife of ...\n",
      "DEBUG:llama_index.node_parser.node_utils:> Adding chunk: Table of ContentsEarnings Per Share\n",
      "Basic earni...\n",
      "> Adding chunk: Table of ContentsEarnings Per Share\n",
      "Basic earni...\n",
      "DEBUG:llama_index.node_parser.node_utils:> Adding chunk: Revenue also exclud\n",
      "es any amounts collected on...\n",
      "> Adding chunk: Revenue also exclud\n",
      "es any amounts collected on...\n",
      "DEBUG:llama_index.node_parser.node_utils:> Adding chunk: We are not the seller of recordin these transac...\n",
      "> Adding chunk: We are not the seller of recordin these transac...\n",
      "DEBUG:llama_index.node_parser.node_utils:> Adding chunk: Revenue is r\n",
      "ecognized as ads are delivered bas...\n",
      "> Adding chunk: Revenue is r\n",
      "ecognized as ads are delivered bas...\n",
      "DEBUG:llama_index.node_parser.node_utils:> Adding chunk: Liabilities for return allowances are included ...\n",
      "> Adding chunk: Liabilities for return allowances are included ...\n",
      "DEBUG:llama_index.node_parser.node_utils:> Adding chunk: Table of ContentsCost of Sales\n",
      "Cost of sales pr...\n",
      "> Adding chunk: Table of ContentsCost of Sales\n",
      "Cost of sales pr...\n",
      "DEBUG:llama_index.node_parser.node_utils:> Adding chunk: Wegenerally consider thes\n",
      "e amounts received fr...\n",
      "> Adding chunk: Wegenerally consider thes\n",
      "e amounts received fr...\n",
      "DEBUG:llama_index.node_parser.node_utils:> Adding chunk: We evaluate \n",
      "the likelihood of reaching purchas...\n",
      "> Adding chunk: We evaluate \n",
      "the likelihood of reaching purchas...\n",
      "DEBUG:llama_index.node_parser.node_utils:> Adding chunk: Ful\n",
      "fillment costs also include amounts paid to...\n",
      "> Adding chunk: Ful\n",
      "fillment costs also include amounts paid to...\n",
      "DEBUG:llama_index.node_parser.node_utils:> Adding chunk: We pay commissions to third parties when their ...\n",
      "> Adding chunk: We pay commissions to third parties when their ...\n",
      "DEBUG:llama_index.node_parser.node_utils:> Adding chunk: Such value is recognized as expenseover the ser...\n",
      "> Adding chunk: Such value is recognized as expenseover the ser...\n",
      "DEBUG:llama_index.node_parser.node_utils:> Adding chunk: Table of Contentsappreciation rights that are e...\n",
      "> Adding chunk: Table of Contentsappreciation rights that are e...\n",
      "DEBUG:llama_index.node_parser.node_utils:> Adding chunk: 866 Foreign currency gains (losses)\n",
      "(20) 35 (55...\n",
      "> Adding chunk: 866 Foreign currency gains (losses)\n",
      "(20) 35 (55...\n",
      "DEBUG:llama_index.node_parser.node_utils:> Adding chunk: We determinedthat we have the ability \n",
      "to exerc...\n",
      "> Adding chunk: We determinedthat we have the ability \n",
      "to exerc...\n",
      "DEBUG:llama_index.node_parser.node_utils:> Adding chunk: 2019\n",
      "Year Ended December 31, 2020\n",
      "Nine Months E...\n",
      "> Adding chunk: 2019\n",
      "Year Ended December 31, 2020\n",
      "Nine Months E...\n",
      "DEBUG:llama_index.node_parser.node_utils:> Adding chunk: Table of ContentsIncome Taxes\n",
      "Income tax expens...\n",
      "> Adding chunk: Table of ContentsIncome Taxes\n",
      "Income tax expens...\n",
      "DEBUG:llama_index.node_parser.node_utils:> Adding chunk: Deferred tax assets are evaluated for future re...\n",
      "> Adding chunk: Deferred tax assets are evaluated for future re...\n",
      "DEBUG:llama_index.node_parser.node_utils:> Adding chunk: We consid\n",
      "er many factors when evaluating our t...\n",
      "> Adding chunk: We consid\n",
      "er many factors when evaluating our t...\n",
      "DEBUG:llama_index.node_parser.node_utils:> Adding chunk: To in\n",
      "crease the comparability of fair value me...\n",
      "> Adding chunk: To in\n",
      "crease the comparability of fair value me...\n",
      "DEBUG:llama_index.node_parser.node_utils:> Adding chunk: Other marketable sec\n",
      "urities were valued either...\n",
      "> Adding chunk: Other marketable sec\n",
      "urities were valued either...\n",
      "DEBUG:llama_index.node_parser.node_utils:> Adding chunk: These warrants are primarily classified as Leve...\n",
      "> Adding chunk: These warrants are primarily classified as Leve...\n",
      "DEBUG:llama_index.node_parser.node_utils:> Adding chunk: Table of ContentsWe provide Fulfillment by Am\n",
      "a...\n",
      "> Adding chunk: Table of ContentsWe provide Fulfillment by Am\n",
      "a...\n",
      "DEBUG:llama_index.node_parser.node_utils:> Adding chunk: If we reduce these commitments, we may incur ad...\n",
      "> Adding chunk: If we reduce these commitments, we may incur ad...\n",
      "DEBUG:llama_index.node_parser.node_utils:> Adding chunk: Receivables are considered impaired and written...\n",
      "> Adding chunk: Receivables are considered impaired and written...\n",
      "DEBUG:llama_index.node_parser.node_utils:> Adding chunk: Softwaredevelopment costs capit\n",
      "alized were not...\n",
      "> Adding chunk: Softwaredevelopment costs capit\n",
      "alized were not...\n",
      "DEBUG:llama_index.node_parser.node_utils:> Adding chunk: Depreciation and amortization is recorded on a ...\n",
      "> Adding chunk: Depreciation and amortization is recorded on a ...\n",
      "DEBUG:llama_index.node_parser.node_utils:> Adding chunk: Our leases generally have terms that range from...\n",
      "> Adding chunk: Our leases generally have terms that range from...\n",
      "DEBUG:llama_index.node_parser.node_utils:> Adding chunk: Table of ContentsWhen we have the o\n",
      "ption to ex...\n",
      "> Adding chunk: Table of ContentsWhen we have the o\n",
      "ption to ex...\n",
      "DEBUG:llama_index.node_parser.node_utils:> Adding chunk: We establish assets and l\n",
      "iabilities for the pr...\n",
      "> Adding chunk: We establish assets and l\n",
      "iabilities for the pr...\n",
      "DEBUG:llama_index.node_parser.node_utils:> Adding chunk: Goodwill and Indefinite-Lived Intangible Assets...\n",
      "> Adding chunk: Goodwill and Indefinite-Lived Intangible Assets...\n",
      "DEBUG:llama_index.node_parser.node_utils:> Adding chunk: We estimate the fair value of the reporting uni...\n",
      "> Adding chunk: We estimate the fair value of the reporting uni...\n",
      "DEBUG:llama_index.node_parser.node_utils:> Adding chunk: The fai\n",
      "r value of our reporting units substant...\n",
      "> Adding chunk: The fai\n",
      "r value of our reporting units substant...\n",
      "DEBUG:llama_index.node_parser.node_utils:> Adding chunk: We reduce the liability as payments are made an...\n",
      "> Adding chunk: We reduce the liability as payments are made an...\n",
      "DEBUG:llama_index.node_parser.node_utils:> Adding chunk: The tota\n",
      "l capitalized costs of video, which is...\n",
      "> Adding chunk: The tota\n",
      "l capitalized costs of video, which is...\n",
      "DEBUG:llama_index.node_parser.node_utils:> Adding chunk: Table of ContentsTotal video and music expense ...\n",
      "> Adding chunk: Table of ContentsTotal video and music expense ...\n",
      "DEBUG:llama_index.node_parser.node_utils:> Adding chunk: Suchinvestments are includ\n",
      "ed in “Cash and cash...\n",
      "> Adding chunk: Suchinvestments are includ\n",
      "ed in “Cash and cash...\n",
      "DEBUG:llama_index.node_parser.node_utils:> Adding chunk: Expected credit losses are recorded as an allow...\n",
      "> Adding chunk: Expected credit losses are recorded as an allow...\n",
      "DEBUG:llama_index.node_parser.node_utils:> Adding chunk: Equity investments are a\n",
      "ccounted for using the...\n",
      "> Adding chunk: Equity investments are a\n",
      "ccounted for using the...\n",
      "DEBUG:llama_index.node_parser.node_utils:> Adding chunk: Each reporting period, we evaluate whether decl...\n",
      "> Adding chunk: Each reporting period, we evaluate whether decl...\n",
      "DEBUG:llama_index.node_parser.node_utils:> Adding chunk: Conditions that would necessitate an impairment...\n",
      "> Adding chunk: Conditions that would necessitate an impairment...\n",
      "DEBUG:llama_index.node_parser.node_utils:> Adding chunk: Assets held for sale are reported at the lower ...\n",
      "> Adding chunk: Assets held for sale are reported at the lower ...\n",
      "DEBUG:llama_index.node_parser.node_utils:> Adding chunk: Table of ContentsUnearned Revenue\n",
      "Unearned reve...\n",
      "> Adding chunk: Table of ContentsUnearned Revenue\n",
      "Unearned reve...\n",
      "DEBUG:llama_index.node_parser.node_utils:> Adding chunk: For contracts with original terms that exceed o...\n",
      "> Adding chunk: For contracts with original terms that exceed o...\n",
      "DEBUG:llama_index.node_parser.node_utils:> Adding chunk: Assets and liabil\n",
      "ities of these subsidiaries a...\n",
      "> Adding chunk: Assets and liabil\n",
      "ities of these subsidiaries a...\n",
      "DEBUG:llama_index.node_parser.node_utils:> Adding chunk: Table of ContentsNote 2 — FINANCIAL INSTRUMENTS...\n",
      "> Adding chunk: Table of ContentsNote 2 — FINANCIAL INSTRUMENTS...\n",
      "DEBUG:llama_index.node_parser.node_utils:> Adding chunk: Cash equivalents and marketablesecurities are r...\n",
      "> Adding chunk: Cash equivalents and marketablesecurities are r...\n",
      "DEBUG:llama_index.node_parser.node_utils:> Adding chunk: government and agency securit\n",
      "ies7,410 30 (1) 7...\n",
      "> Adding chunk: government and agency securit\n",
      "ies7,410 30 (1) 7...\n",
      "DEBUG:llama_index.node_parser.node_utils:> Adding chunk: Table of Contents \n",
      "December 31, 2021  \n",
      " Cost or...\n",
      "> Adding chunk: Table of Contents \n",
      "December 31, 2021  \n",
      " Cost or...\n",
      "DEBUG:llama_index.node_parser.node_utils:> Adding chunk: government and agency securit\n",
      "ies4,316 9 (25) 4...\n",
      "> Adding chunk: government and agency securit\n",
      "ies4,316 9 (25) 4...\n",
      "DEBUG:llama_index.node_parser.node_utils:> Adding chunk: (2)\n",
      "We are required to pledge or otherwise rest...\n",
      "> Adding chunk: (2)\n",
      "We are required to pledge or otherwise rest...\n",
      "DEBUG:llama_index.node_parser.node_utils:> Adding chunk: In addition, we aresubject to contractua\n",
      "l sale...\n",
      "> Adding chunk: In addition, we aresubject to contractua\n",
      "l sale...\n",
      "DEBUG:llama_index.node_parser.node_utils:> Adding chunk: Table of ContentsConsolidated Statements of Cas...\n",
      "> Adding chunk: Table of ContentsConsolidated Statements of Cas...\n",
      "DEBUG:llama_index.node_parser.node_utils:> Adding chunk: 104 Equipment\n",
      "97,224 128,683 Other assets\n",
      "3,772...\n",
      "> Adding chunk: 104 Equipment\n",
      "97,224 128,683 Other assets\n",
      "3,772...\n",
      "DEBUG:llama_index.node_parser.node_utils:> Adding chunk: Table of ContentsNote 4 — LEASES\n",
      "We have entere...\n",
      "> Adding chunk: Table of ContentsNote 4 — LEASES\n",
      "We have entere...\n",
      "DEBUG:llama_index.node_parser.node_utils:> Adding chunk: 094 8,452 9,857 Interest on lease liabilities\n",
      "6...\n",
      "> Adding chunk: 094 8,452 9,857 Interest on lease liabilities\n",
      "6...\n",
      "DEBUG:llama_index.node_parser.node_utils:> Adding chunk: 833 $ 30,437 $ 75,270 Less: imputed interest\n",
      "(5...\n",
      "> Adding chunk: 833 $ 30,437 $ 75,270 Less: imputed interest\n",
      "(5...\n",
      "DEBUG:llama_index.node_parser.node_utils:> Adding chunk: 981 $ 15,670 $ 67,651 Note 5 — ACQUISITIONS, GO...\n",
      "> Adding chunk: 981 $ 15,670 $ 67,651 Note 5 — ACQUISITIONS, GO...\n",
      "DEBUG:llama_index.node_parser.node_utils:> Adding chunk: Table of Contents2020 Acquisition Activity\n",
      "Duri...\n",
      "> Adding chunk: Table of Contents2020 Acquisition Activity\n",
      "Duri...\n",
      "DEBUG:llama_index.node_parser.node_utils:> Adding chunk: Acquisition-relatedcosts were expensed as incur...\n",
      "> Adding chunk: Acquisition-relatedcosts were expensed as incur...\n",
      "DEBUG:llama_index.node_parser.node_utils:> Adding chunk: The goodwill of the acquiredcompanies is genera...\n",
      "> Adding chunk: The goodwill of the acquiredcompanies is genera...\n",
      "DEBUG:llama_index.node_parser.node_utils:> Adding chunk: Table of ContentsIntangible Assets\n",
      "Acquired ide...\n",
      "> Adding chunk: Table of ContentsIntangible Assets\n",
      "Acquired ide...\n",
      "DEBUG:llama_index.node_parser.node_utils:> Adding chunk: 917 (418) 1,499 2,327 (565) 1,762 8.9 Technolog...\n",
      "> Adding chunk: 917 (418) 1,499 2,327 (565) 1,762 8.9 Technolog...\n",
      "DEBUG:llama_index.node_parser.node_utils:> Adding chunk: (2)\n",
      "Finite-lived intangible assets have estimat...\n",
      "> Adding chunk: (2)\n",
      "Finite-lived intangible assets have estimat...\n",
      "DEBUG:llama_index.node_parser.node_utils:> Adding chunk: Table of ContentsNote 6 — DEBT\n",
      "As of December 3...\n",
      "> Adding chunk: Table of ContentsNote 6 — DEBT\n",
      "As of December 3...\n",
      "DEBUG:llama_index.node_parser.node_utils:> Adding chunk: 50% 2.66% 1,250 1,250 2014 Notes issuance of $6...\n",
      "> Adding chunk: 50% 2.66% 1,250 1,250 2014 Notes issuance of $6...\n",
      "DEBUG:llama_index.node_parser.node_utils:> Adding chunk: 174 50,553 Unamortized discount and issuan\n",
      "ce c...\n",
      "> Adding chunk: 174 50,553 Unamortized discount and issuan\n",
      "ce c...\n",
      "DEBUG:llama_index.node_parser.node_utils:> Adding chunk: We are not subje\n",
      "ct to any financial covenants ...\n",
      "> Adding chunk: We are not subje\n",
      "ct to any financial covenants ...\n",
      "DEBUG:llama_index.node_parser.node_utils:> Adding chunk: There were $338 million and$803 million of borr...\n",
      "> Adding chunk: There were $338 million and$803 million of borr...\n",
      "DEBUG:llama_index.node_parser.node_utils:> Adding chunk: Dollar and Euro commer\n",
      "cial paper programs (the...\n",
      "> Adding chunk: Dollar and Euro commer\n",
      "cial paper programs (the...\n",
      "DEBUG:llama_index.node_parser.node_utils:> Adding chunk: Table of Contentsissuance costs, of 0.11% and 0...\n",
      "> Adding chunk: Table of Contentsissuance costs, of 0.11% and 0...\n",
      "DEBUG:llama_index.node_parser.node_utils:> Adding chunk: These amounts are included in “Accrued expenses...\n",
      "> Adding chunk: These amounts are included in “Accrued expenses...\n",
      "DEBUG:llama_index.node_parser.node_utils:> Adding chunk: including interest8,278 4,772 2,278 1,355 1,220...\n",
      "> Adding chunk: including interest8,278 4,772 2,278 1,355 1,220...\n",
      "DEBUG:llama_index.node_parser.node_utils:> Adding chunk: sortation, and data center facilities. Excludin...\n",
      "> Adding chunk: sortation, and data center facilities. Excludin...\n",
      "DEBUG:llama_index.node_parser.node_utils:> Adding chunk: Purchase obligations associated with renewal pr...\n",
      "> Adding chunk: Purchase obligations associated with renewal pr...\n",
      "DEBUG:llama_index.node_parser.node_utils:> Adding chunk: We generally do not have long-term contracts or...\n",
      "> Adding chunk: We generally do not have long-term contracts or...\n",
      "DEBUG:llama_index.node_parser.node_utils:> Adding chunk: Table of ContentsOther Contingencies\n",
      "We are dis...\n",
      "> Adding chunk: Table of ContentsOther Contingencies\n",
      "We are dis...\n",
      "DEBUG:llama_index.node_parser.node_utils:> Adding chunk: in the United States District Court for the Eas...\n",
      "> Adding chunk: in the United States District Court for the Eas...\n",
      "DEBUG:llama_index.node_parser.node_utils:> Adding chunk: We dispute the allegations of wrongdoing and in...\n",
      "> Adding chunk: We dispute the allegations of wrongdoing and in...\n",
      "DEBUG:llama_index.node_parser.node_utils:> Adding chunk: filed \n",
      "a complaint against Amazon Web Services,...\n",
      "> Adding chunk: filed \n",
      "a complaint against Amazon Web Services,...\n",
      "DEBUG:llama_index.node_parser.node_utils:> Adding chunk: filed in the United States District Court for t...\n",
      "> Adding chunk: filed in the United States District Court for t...\n",
      "DEBUG:llama_index.node_parser.node_utils:> Adding chunk: Individuals have alsoinitiated arbitr\n",
      "ations ba...\n",
      "> Adding chunk: Individuals have alsoinitiated arbitr\n",
      "ations ba...\n",
      "DEBUG:llama_index.node_parser.node_utils:> Adding chunk: The decision imposes a fine of €746 million and...\n",
      "> Adding chunk: The decision imposes a fine of €746 million and...\n",
      "DEBUG:llama_index.node_parser.node_utils:> Adding chunk: Table of ContentsDetector (VAD)-Based Multiple-...\n",
      "> Adding chunk: Table of ContentsDetector (VAD)-Based Multiple-...\n",
      "DEBUG:llama_index.node_parser.node_utils:> Adding chunk: We dispute the allegations of wrongdoing and in...\n",
      "> Adding chunk: We dispute the allegations of wrongdoing and in...\n",
      "DEBUG:llama_index.node_parser.node_utils:> Adding chunk: in the United StatesDistrict Court for the Wes\n",
      "...\n",
      "> Adding chunk: in the United StatesDistrict Court for the Wes\n",
      "...\n",
      "DEBUG:llama_index.node_parser.node_utils:> Adding chunk: Paten\n",
      "t No. 8,605,794, entitled “Method for Syn...\n",
      "> Adding chunk: Paten\n",
      "t No. 8,605,794, entitled “Method for Syn...\n",
      "DEBUG:llama_index.node_parser.node_utils:> Adding chunk: 7,440,559, entitled “System and Assoc\n",
      "iated Ter...\n",
      "> Adding chunk: 7,440,559, entitled “System and Assoc\n",
      "iated Ter...\n",
      "DEBUG:llama_index.node_parser.node_utils:> Adding chunk: We evaluate, on a regular basis, developments i...\n",
      "> Adding chunk: We evaluate, on a regular basis, developments i...\n",
      "DEBUG:llama_index.node_parser.node_utils:> Adding chunk: Until the fin\n",
      "al resolution of such matters, if...\n",
      "> Adding chunk: Until the fin\n",
      "al resolution of such matters, if...\n",
      "DEBUG:llama_index.node_parser.node_utils:> Adding chunk: Table of ContentsStock Repurchase Activity\n",
      "In F...\n",
      "> Adding chunk: Table of ContentsStock Repurchase Activity\n",
      "In F...\n",
      "DEBUG:llama_index.node_parser.node_utils:> Adding chunk: 135 1,710 2,530 General and administrative\n",
      "673 ...\n",
      "> Adding chunk: 135 1,710 2,530 General and administrative\n",
      "673 ...\n",
      "DEBUG:llama_index.node_parser.node_utils:> Adding chunk: 3) 1,642 Outstanding as of December 31, 2020\n",
      "15...\n",
      "> Adding chunk: 3) 1,642 Outstanding as of December 31, 2020\n",
      "15...\n",
      "DEBUG:llama_index.node_parser.node_utils:> Adding chunk: Thiscompensation is recogniz\n",
      "ed on an accelerat...\n",
      "> Adding chunk: Thiscompensation is recogniz\n",
      "ed on an accelerat...\n",
      "DEBUG:llama_index.node_parser.node_utils:> Adding chunk: Table of ContentsCommon Stock Available for Fut...\n",
      "> Adding chunk: Table of ContentsCommon Stock Available for Fut...\n",
      "DEBUG:llama_index.node_parser.node_utils:> Adding chunk: tax rules also provide for enh\n",
      "anced accelerate...\n",
      "> Adding chunk: tax rules also provide for enh\n",
      "anced accelerate...\n",
      "DEBUG:llama_index.node_parser.node_utils:> Adding chunk: State:\n",
      "Current\n",
      "276 626 763 Deferred\n",
      "8 (190) (17...\n",
      "> Adding chunk: State:\n",
      "Current\n",
      "276 626 763 Deferred\n",
      "8 (190) (17...\n",
      "DEBUG:llama_index.node_parser.node_utils:> Adding chunk: Table of ContentsThe items accounting for\n",
      " diff...\n",
      "> Adding chunk: Table of ContentsThe items accounting for\n",
      " diff...\n",
      "DEBUG:llama_index.node_parser.node_utils:> Adding chunk: Our tax provision includes $1.4 billion, $1.8 b...\n",
      "> Adding chunk: Our tax provision includes $1.4 billion, $1.8 b...\n",
      "DEBUG:llama_index.node_parser.node_utils:> Adding chunk: In addition, our Luxembourg operations generate...\n",
      "> Adding chunk: In addition, our Luxembourg operations generate...\n",
      "DEBUG:llama_index.node_parser.node_utils:> Adding chunk: Table of ContentsDeferred income tax ass\n",
      "ets an...\n",
      "> Adding chunk: Table of ContentsDeferred income tax ass\n",
      "ets an...\n",
      "DEBUG:llama_index.node_parser.node_utils:> Adding chunk: 508) (3,562) Operating lease assets\n",
      "(9,539) (14...\n",
      "> Adding chunk: 508) (3,562) Operating lease assets\n",
      "(9,539) (14...\n",
      "DEBUG:llama_index.node_parser.node_utils:> Adding chunk: If not utilized, a portion of these losses will...\n",
      "> Adding chunk: If not utilized, a portion of these losses will...\n",
      "DEBUG:llama_index.node_parser.node_utils:> Adding chunk: 2019 2020 2021 Gross tax contingencies – Januar...\n",
      "> Adding chunk: 2019 2020 2021 Gross tax contingencies – Januar...\n",
      "DEBUG:llama_index.node_parser.node_utils:> Adding chunk: Table of ContentsAs of December 31, 2020 and 20...\n",
      "> Adding chunk: Table of ContentsAs of December 31, 2020 and 20...\n",
      "DEBUG:llama_index.node_parser.node_utils:> Adding chunk: We resolv\n",
      "ed the audits of tax years 2007 throu...\n",
      "> Adding chunk: We resolv\n",
      "ed the audits of tax years 2007 throu...\n",
      "DEBUG:llama_index.node_parser.node_utils:> Adding chunk: In December 2017,Luxembourg appealed the Europe...\n",
      "> Adding chunk: In December 2017,Luxembourg appealed the Europe...\n",
      "DEBUG:llama_index.node_parser.node_utils:> Adding chunk: The timing of the resolution of incometax contr...\n",
      "> Adding chunk: The timing of the resolution of incometax contr...\n",
      "DEBUG:llama_index.node_parser.node_utils:> Adding chunk: We allocate to segment results the operating ex...\n",
      "> Adding chunk: We allocate to segment results the operating ex...\n",
      "DEBUG:llama_index.node_parser.node_utils:> Adding chunk: This segment includes export sales from these o...\n",
      "> Adding chunk: This segment includes export sales from these o...\n",
      "DEBUG:llama_index.node_parser.node_utils:> Adding chunk: Table of ContentsInformation on reportab\n",
      "le seg...\n",
      "> Adding chunk: Table of ContentsInformation on reportab\n",
      "le seg...\n",
      "DEBUG:llama_index.node_parser.node_utils:> Adding chunk: 064 $ 469,822 Operating expenses\n",
      "265,981 363,16...\n",
      "> Adding chunk: 064 $ 469,822 Operating expenses\n",
      "265,981 363,16...\n",
      "DEBUG:llama_index.node_parser.node_utils:> Adding chunk: 762 80,461 103,366 Subscription services (4)\n",
      "19...\n",
      "> Adding chunk: 762 80,461 103,366 Subscription services (4)\n",
      "19...\n",
      "DEBUG:llama_index.node_parser.node_utils:> Adding chunk: Sales to customers who order goods online for d...\n",
      "> Adding chunk: Sales to customers who order goods online for d...\n",
      "DEBUG:llama_index.node_parser.node_utils:> Adding chunk: Table of ContentsNet sales are attribu\n",
      "ted to c...\n",
      "> Adding chunk: Table of ContentsNet sales are attribu\n",
      "ted to c...\n",
      "DEBUG:llama_index.node_parser.node_utils:> Adding chunk: Technology infrastructure assets are allocated ...\n",
      "> Adding chunk: Technology infrastructure assets are allocated ...\n",
      "DEBUG:llama_index.node_parser.node_utils:> Adding chunk: 719 $ 54,912 $ 83,640 International\n",
      "9,566 15,37...\n",
      "> Adding chunk: 719 $ 54,912 $ 83,640 International\n",
      "9,566 15,37...\n",
      "DEBUG:llama_index.node_parser.node_utils:> Adding chunk: $5.6 billion, and $3.6 billion in 2019, 2020, a...\n",
      "> Adding chunk: $5.6 billion, and $3.6 billion in 2019, 2020, a...\n",
      "DEBUG:llama_index.node_parser.node_utils:> Adding chunk: Table of ContentsU.S. property and equipment, n...\n",
      "> Adding chunk: Table of ContentsU.S. property and equipment, n...\n",
      "DEBUG:llama_index.node_parser.node_utils:> Adding chunk: Except for the U.S., property and equipment, ne...\n",
      "> Adding chunk: Except for the U.S., property and equipment, ne...\n",
      "DEBUG:llama_index.node_parser.node_utils:> Adding chunk: Table of ContentsItem 9.\n",
      "Changes in and Disagre...\n",
      "> Adding chunk: Table of ContentsItem 9.\n",
      "Changes in and Disagre...\n",
      "DEBUG:llama_index.node_parser.node_utils:> Adding chunk: processed, summarized, and reported within the ...\n",
      "> Adding chunk: processed, summarized, and reported within the ...\n",
      "DEBUG:llama_index.node_parser.node_utils:> Adding chunk: As a result of this assessment, managementconcl...\n",
      "> Adding chunk: As a result of this assessment, managementconcl...\n",
      "DEBUG:llama_index.node_parser.node_utils:> Adding chunk: Any cont\n",
      "rol system, no matter how well designe...\n",
      "> Adding chunk: Any cont\n",
      "rol system, no matter how well designe...\n",
      "DEBUG:llama_index.node_parser.node_utils:> Adding chunk: Table of ContentsReport of Independent Register...\n",
      "> Adding chunk: Table of ContentsReport of Independent Register...\n",
      "DEBUG:llama_index.node_parser.node_utils:> Adding chunk: We also have audited, in a\n",
      "ccordance with the s...\n",
      "> Adding chunk: We also have audited, in a\n",
      "ccordance with the s...\n",
      "DEBUG:llama_index.node_parser.node_utils:> Adding chunk: We are a public accounting firm registered with...\n",
      "> Adding chunk: We are a public accounting firm registered with...\n",
      "DEBUG:llama_index.node_parser.node_utils:> Adding chunk: We be\n",
      "lieve that our audit provides a reasonabl...\n",
      "> Adding chunk: We be\n",
      "lieve that our audit provides a reasonabl...\n",
      "DEBUG:llama_index.node_parser.node_utils:> Adding chunk: A company’s internal control over financialrepo...\n",
      "> Adding chunk: A company’s internal control over financialrepo...\n",
      "DEBUG:llama_index.node_parser.node_utils:> Adding chunk: Also, projections of any evaluation ofeffective...\n",
      "> Adding chunk: Also, projections of any evaluation ofeffective...\n",
      "DEBUG:llama_index.node_parser.node_utils:> Adding chunk: Table of ContentsItem 9B.\n",
      "Other Information Not...\n",
      "> Adding chunk: Table of ContentsItem 9B.\n",
      "Other Information Not...\n",
      "DEBUG:llama_index.node_parser.node_utils:> Adding chunk: To the extent permissible under Nasdaq rules, w...\n",
      "> Adding chunk: To the extent permissible under Nasdaq rules, w...\n",
      "DEBUG:llama_index.node_parser.node_utils:> Adding chunk: Item 14.\n",
      "Principal Accountant Fees and Services...\n",
      "> Adding chunk: Item 14.\n",
      "Principal Accountant Fees and Services...\n",
      "DEBUG:llama_index.node_parser.node_utils:> Adding chunk: Table of ContentsPART IV\n",
      "Item 15.\n",
      "> Adding chunk: Table of ContentsPART IV\n",
      "Item 15.\n",
      "DEBUG:llama_index.node_parser.node_utils:> Adding chunk: Table of ContentsPART IV\n",
      "Item 15.\n",
      "Exhibits, Fin...\n",
      "> Adding chunk: Table of ContentsPART IV\n",
      "Item 15.\n",
      "Exhibits, Fin...\n",
      "DEBUG:llama_index.node_parser.node_utils:> Adding chunk: (3) \n",
      "Index to ExhibitsSee exhibits listed under...\n",
      "> Adding chunk: (3) \n",
      "Index to ExhibitsSee exhibits listed under...\n",
      "DEBUG:llama_index.node_parser.node_utils:> Adding chunk: 4.2\n",
      "Officers’ Certific ate of Amazon.com, Inc. ...\n",
      "> Adding chunk: 4.2\n",
      "Officers’ Certific ate of Amazon.com, Inc. ...\n",
      "DEBUG:llama_index.node_parser.node_utils:> Adding chunk: Form of 4.050% Note due 2047, and Form of4.250%...\n",
      "> Adding chunk: Form of 4.050% Note due 2047, and Form of4.250%...\n",
      "DEBUG:llama_index.node_parser.node_utils:> Adding chunk: Form of 2.500% Not\n",
      "e due 2050, and Form of 2.70...\n",
      "> Adding chunk: Form of 2.500% Not\n",
      "e due 2050, and Form of 2.70...\n",
      "DEBUG:llama_index.node_parser.node_utils:> Adding chunk: Table of Contents4.6\n",
      "Officers’ Certific ate of ...\n",
      "> Adding chunk: Table of Contents4.6\n",
      "Officers’ Certific ate of ...\n",
      "DEBUG:llama_index.node_parser.node_utils:> Adding chunk: 2019).10.1†\n",
      "1997 Stock Incentive Plan (amend ed...\n",
      "> Adding chunk: 2019).10.1†\n",
      "1997 Stock Incentive Plan (amend ed...\n",
      "DEBUG:llama_index.node_parser.node_utils:> Adding chunk: 10.5†\n",
      "Form of Restricted Stock Unit Agree ment ...\n",
      "> Adding chunk: 10.5†\n",
      "Form of Restricted Stock Unit Agree ment ...\n",
      "DEBUG:llama_index.node_parser.node_utils:> Adding chunk: 21.1\n",
      "List of Significant Subsidiar ies.23.1\n",
      "Con...\n",
      "> Adding chunk: 21.1\n",
      "List of Significant Subsidiar ies.23.1\n",
      "Con...\n",
      "DEBUG:llama_index.node_parser.node_utils:> Adding chunk: Section 1350.101\n",
      "The following financial st ate...\n",
      "> Adding chunk: Section 1350.101\n",
      "The following financial st ate...\n",
      "DEBUG:llama_index.node_parser.node_utils:> Adding chunk: The Company agrees to furnish a copy of suchagr...\n",
      "> Adding chunk: The Company agrees to furnish a copy of suchagr...\n",
      "DEBUG:llama_index.node_parser.node_utils:> Adding chunk: Table of Contents104\n",
      "The cover page from the Co...\n",
      "> Adding chunk: Table of Contents104\n",
      "The cover page from the Co...\n",
      "DEBUG:llama_index.node_parser.node_utils:> Adding chunk: Table of ContentsSIGNATURES\n",
      "Pursuant to the req...\n",
      "> Adding chunk: Table of ContentsSIGNATURES\n",
      "Pursuant to the req...\n",
      "DEBUG:llama_index.node_parser.node_utils:> Adding chunk: Reynolds\n",
      "Shelley L. Reynolds\n",
      "Vice President, Wo...\n",
      "> Adding chunk: Reynolds\n",
      "Shelley L. Reynolds\n",
      "Vice President, Wo...\n",
      "DEBUG:llama_index.node_parser.node_utils:> Adding chunk: Exhibit 10.7THE SHARES ISSUABLE UPON VEST\n",
      "ING O...\n",
      "> Adding chunk: Exhibit 10.7THE SHARES ISSUABLE UPON VEST\n",
      "ING O...\n",
      "DEBUG:llama_index.node_parser.node_utils:> Adding chunk: Introduction.  The terms  of the Award are as s...\n",
      "> Adding chunk: Introduction.  The terms  of the Award are as s...\n",
      "DEBUG:llama_index.node_parser.node_utils:> Adding chunk: including, without limitation,  Sections 6 and ...\n",
      "> Adding chunk: including, without limitation,  Sections 6 and ...\n",
      "DEBUG:llama_index.node_parser.node_utils:> Adding chunk: and this Award shall becancelled without the is...\n",
      "> Adding chunk: and this Award shall becancelled without the is...\n",
      "DEBUG:llama_index.node_parser.node_utils:> Adding chunk: 6.\n",
      "Termination  of Employment. The  unvested po...\n",
      "> Adding chunk: 6.\n",
      "Termination  of Employment. The  unvested po...\n",
      "DEBUG:llama_index.node_parser.node_utils:> Adding chunk: For purposes of the Award, your employment will...\n",
      "> Adding chunk: For purposes of the Award, your employment will...\n",
      "DEBUG:llama_index.node_parser.node_utils:> Adding chunk: , your period ofservice\n",
      " would not include any ...\n",
      "> Adding chunk: , your period ofservice\n",
      " would not include any ...\n",
      "DEBUG:llama_index.node_parser.node_utils:> Adding chunk: In case oftermination\n",
      " of your employment for C...\n",
      "> Adding chunk: In case oftermination\n",
      " of your employment for C...\n",
      "DEBUG:llama_index.node_parser.node_utils:> Adding chunk: Leave  of Absence and Change in Work Schedule. ...\n",
      "> Adding chunk: Leave  of Absence and Change in Work Schedule. ...\n",
      "DEBUG:llama_index.node_parser.node_utils:> Adding chunk: Right  to Shares. You  shall  not  have  any  r...\n",
      "> Adding chunk: Right  to Shares. You  shall  not  have  any  r...\n",
      "DEBUG:llama_index.node_parser.node_utils:> Adding chunk: Taxes. (a)\n",
      "Responsibility  for  Taxes. You  ack...\n",
      "> Adding chunk: Taxes. (a)\n",
      "Responsibility  for  Taxes. You  ack...\n",
      "DEBUG:llama_index.node_parser.node_utils:> Adding chunk: You further acknowledge that (i) neither the Co...\n",
      "> Adding chunk: You further acknowledge that (i) neither the Co...\n",
      "DEBUG:llama_index.node_parser.node_utils:> Adding chunk: (b)\n",
      "Payment  of  Tax-Related  Items. Prior  to ...\n",
      "> Adding chunk: (b)\n",
      "Payment  of  Tax-Related  Items. Prior  to ...\n",
      "DEBUG:llama_index.node_parser.node_utils:> Adding chunk: Items. Such  Shares  will  be  sold  on  the  d...\n",
      "> Adding chunk: Items. Such  Shares  will  be  sold  on  the  d...\n",
      "DEBUG:llama_index.node_parser.node_utils:> Adding chunk: You further acknowledge that the Company or its...\n",
      "> Adding chunk: You further acknowledge that the Company or its...\n",
      "DEBUG:llama_index.node_parser.node_utils:> Adding chunk: If you have made anelection\n",
      " to satisfy your ob...\n",
      "> Adding chunk: If you have made anelection\n",
      " to satisfy your ob...\n",
      "DEBUG:llama_index.node_parser.node_utils:> Adding chunk: To the extent permitted by law, the Company has...\n",
      "> Adding chunk: To the extent permitted by law, the Company has...\n",
      "DEBUG:llama_index.node_parser.node_utils:> Adding chunk: You agree to pay to the Company or the Employer...\n",
      "> Adding chunk: You agree to pay to the Company or the Employer...\n",
      "DEBUG:llama_index.node_parser.node_utils:> Adding chunk: Suchexemptions from registration are\n",
      " very limi...\n",
      "> Adding chunk: Suchexemptions from registration are\n",
      " very limi...\n",
      "DEBUG:llama_index.node_parser.node_utils:> Adding chunk: Limitation on Rights; Nature of Grant.  By ente...\n",
      "> Adding chunk: Limitation on Rights; Nature of Grant.  By ente...\n",
      "DEBUG:llama_index.node_parser.node_utils:> Adding chunk: (e)the Award and the Shares subject to the Awar...\n",
      "> Adding chunk: (e)the Award and the Shares subject to the Awar...\n",
      "DEBUG:llama_index.node_parser.node_utils:> Adding chunk: any Subsidiary or the Employer;(h)\n",
      "the future v...\n",
      "> Adding chunk: any Subsidiary or the Employer;(h)\n",
      "the future v...\n",
      "DEBUG:llama_index.node_parser.node_utils:> Adding chunk: inconnection with any corporat\n",
      "e transaction af...\n",
      "> Adding chunk: inconnection with any corporat\n",
      "e transaction af...\n",
      "DEBUG:llama_index.node_parser.node_utils:> Adding chunk: No  Advice Regarding Grant. The  Company is not...\n",
      "> Adding chunk: No  Advice Regarding Grant. The  Company is not...\n",
      "DEBUG:llama_index.node_parser.node_utils:> Adding chunk: administering and managing your participation i...\n",
      "> Adding chunk: administering and managing your participation i...\n",
      "DEBUG:llama_index.node_parser.node_utils:> Adding chunk: to assist the Company with the implementation, ...\n",
      "> Adding chunk: to assist the Company with the implementation, ...\n",
      "DEBUG:llama_index.node_parser.node_utils:> Adding chunk: assist the Company (presently or in the future)...\n",
      "> Adding chunk: assist the Company (presently or in the future)...\n",
      "DEBUG:llama_index.node_parser.node_utils:> Adding chunk: and(f)\n",
      "    you understand that, if you reside o...\n",
      "> Adding chunk: and(f)\n",
      "    you understand that, if you reside o...\n",
      "DEBUG:llama_index.node_parser.node_utils:> Adding chunk: Governing  Law  and  Venue. The  Award  and  th...\n",
      "> Adding chunk: Governing  Law  and  Venue. The  Award  and  th...\n",
      "DEBUG:llama_index.node_parser.node_utils:> Adding chunk: Electronic  Delivery  and  Acceptance. The  Com...\n",
      "> Adding chunk: Electronic  Delivery  and  Acceptance. The  Com...\n",
      "DEBUG:llama_index.node_parser.node_utils:> Adding chunk: Moreover, if you relocate to one of the countri...\n",
      "> Adding chunk: Moreover, if you relocate to one of the countri...\n",
      "DEBUG:llama_index.node_parser.node_utils:> Adding chunk: Further,depending\n",
      " on your country of residence...\n",
      "> Adding chunk: Further,depending\n",
      " on your country of residence...\n",
      "DEBUG:llama_index.node_parser.node_utils:> Adding chunk: 20.Imposition  of Other Requirements. The  Comp...\n",
      "> Adding chunk: 20.Imposition  of Other Requirements. The  Comp...\n",
      "DEBUG:llama_index.node_parser.node_utils:> Adding chunk: Recoupment.  By entering into this Agreement  a...\n",
      "> Adding chunk: Recoupment.  By entering into this Agreement  a...\n",
      "DEBUG:llama_index.node_parser.node_utils:> Adding chunk: Execution  of  Agreement. By  electronically  o...\n",
      "> Adding chunk: Execution  of  Agreement. By  electronically  o...\n",
      "DEBUG:llama_index.node_parser.node_utils:> Adding chunk: ACCEPTANCE AND ACKNOWLEDGMENTIf the Company req...\n",
      "> Adding chunk: ACCEPTANCE AND ACKNOWLEDGMENTIf the Company req...\n",
      "DEBUG:llama_index.node_parser.node_utils:> Adding chunk: By: _______________________________________    ...\n",
      "> Adding chunk: By: _______________________________________    ...\n",
      "DEBUG:llama_index.node_parser.node_utils:> Adding chunk: APPENDIX TO THEAMAZON.COM, INC.\n",
      "GLOBAL RESTRICT...\n",
      "> Adding chunk: APPENDIX TO THEAMAZON.COM, INC.\n",
      "GLOBAL RESTRICT...\n",
      "DEBUG:llama_index.node_parser.node_utils:> Adding chunk: The Company reserves the right, to the extent t...\n",
      "> Adding chunk: The Company reserves the right, to the extent t...\n",
      "DEBUG:llama_index.node_parser.node_utils:> Adding chunk: Exhibit 10.8EXECUTION VERSION\n",
      "FIRST\n",
      " AMENDMENT ...\n",
      "> Adding chunk: Exhibit 10.8EXECUTION VERSION\n",
      "FIRST\n",
      " AMENDMENT ...\n",
      "DEBUG:llama_index.node_parser.node_utils:> Adding chunk: WHEREAS, in view of the occurrence of a Benchma...\n",
      "> Adding chunk: WHEREAS, in view of the occurrence of a Benchma...\n",
      "DEBUG:llama_index.node_parser.node_utils:> Adding chunk: Defined  Terms. Capitalized  terms  used  and  ...\n",
      "> Adding chunk: Defined  Terms. Capitalized  terms  used  and  ...\n",
      "DEBUG:llama_index.node_parser.node_utils:> Adding chunk: SECTION\n",
      " 3. Representations  and Warranties. Th...\n",
      "> Adding chunk: SECTION\n",
      " 3. Representations  and Warranties. Th...\n",
      "DEBUG:llama_index.node_parser.node_utils:> Adding chunk: SECTION\n",
      " 4. Effectiveness  of this Agreement. T...\n",
      "> Adding chunk: SECTION\n",
      " 4. Effectiveness  of this Agreement. T...\n",
      "DEBUG:llama_index.node_parser.node_utils:> Adding chunk: 2Electronic\n",
      " Signatures  transmitted  by  facsi...\n",
      "> Adding chunk: 2Electronic\n",
      " Signatures  transmitted  by  facsi...\n",
      "DEBUG:llama_index.node_parser.node_utils:> Adding chunk: Nothing  herein  shall  be  deemed  to  entitle...\n",
      "> Adding chunk: Nothing  herein  shall  be  deemed  to  entitle...\n",
      "DEBUG:llama_index.node_parser.node_utils:> Adding chunk: (c) \n",
      "Neither this Agreement nor the effectivene...\n",
      "> Adding chunk: (c) \n",
      "Neither this Agreement nor the effectivene...\n",
      "DEBUG:llama_index.node_parser.node_utils:> Adding chunk: SECTION\n",
      " 6. Counterparts .     This  Agreement ...\n",
      "> Adding chunk: SECTION\n",
      " 6. Counterparts .     This  Agreement ...\n",
      "DEBUG:llama_index.node_parser.node_utils:> Adding chunk: 3CONTRACT\n",
      " OR  TORT  OR  OTHERWISE)  BASED  UPO...\n",
      "> Adding chunk: 3CONTRACT\n",
      " OR  TORT  OR  OTHERWISE)  BASED  UPO...\n",
      "DEBUG:llama_index.node_parser.node_utils:> Adding chunk: IN  WITNESS  WHEREOF,  the  parties  hereto  ha...\n",
      "> Adding chunk: IN  WITNESS  WHEREOF,  the  parties  hereto  ha...\n",
      "DEBUG:llama_index.node_parser.node_utils:> Adding chunk: JPMORGAN CHASE BANK, N.A., as theAdministrative...\n",
      "> Adding chunk: JPMORGAN CHASE BANK, N.A., as theAdministrative...\n",
      "DEBUG:llama_index.node_parser.node_utils:> Adding chunk: SIGNATURE PAGE TOFIRST AMENDMENT TO\n",
      "THE CREDIT ...\n",
      "> Adding chunk: SIGNATURE PAGE TOFIRST AMENDMENT TO\n",
      "THE CREDIT ...\n",
      "DEBUG:llama_index.node_parser.node_utils:> Adding chunk: SIGNATURE PAGE TOFIRST AMENDMENT TO\n",
      "THE CREDIT ...\n",
      "> Adding chunk: SIGNATURE PAGE TOFIRST AMENDMENT TO\n",
      "THE CREDIT ...\n",
      "DEBUG:llama_index.node_parser.node_utils:> Adding chunk: SIGNATURE PAGE TOFIRST AMENDMENT TO\n",
      "THE CREDIT ...\n",
      "> Adding chunk: SIGNATURE PAGE TOFIRST AMENDMENT TO\n",
      "THE CREDIT ...\n",
      "DEBUG:llama_index.node_parser.node_utils:> Adding chunk: SIGNATURE PAGE TOFIRST AMENDMENT TO\n",
      "THE CREDIT ...\n",
      "> Adding chunk: SIGNATURE PAGE TOFIRST AMENDMENT TO\n",
      "THE CREDIT ...\n",
      "DEBUG:llama_index.node_parser.node_utils:> Adding chunk: SIGNATURE PAGE TOFIRST AMENDMENT TO\n",
      "THE CREDIT ...\n",
      "> Adding chunk: SIGNATURE PAGE TOFIRST AMENDMENT TO\n",
      "THE CREDIT ...\n",
      "DEBUG:llama_index.node_parser.node_utils:> Adding chunk: SIGNATURE PAGE TOFIRST AMENDMENT TO\n",
      "THE CREDIT ...\n",
      "> Adding chunk: SIGNATURE PAGE TOFIRST AMENDMENT TO\n",
      "THE CREDIT ...\n",
      "DEBUG:llama_index.node_parser.node_utils:> Adding chunk: SIGNATURE PAGE TOFIRST AMENDMENT TO\n",
      "THE CREDIT ...\n",
      "> Adding chunk: SIGNATURE PAGE TOFIRST AMENDMENT TO\n",
      "THE CREDIT ...\n",
      "DEBUG:llama_index.node_parser.node_utils:> Adding chunk: SIGNATURE PAGE TOFIRST AMENDMENT TO\n",
      "THE CREDIT ...\n",
      "> Adding chunk: SIGNATURE PAGE TOFIRST AMENDMENT TO\n",
      "THE CREDIT ...\n",
      "DEBUG:llama_index.node_parser.node_utils:> Adding chunk: SIGNATURE PAGE TOFIRST AMENDMENT TO\n",
      "THE CREDIT ...\n",
      "> Adding chunk: SIGNATURE PAGE TOFIRST AMENDMENT TO\n",
      "THE CREDIT ...\n",
      "DEBUG:llama_index.node_parser.node_utils:> Adding chunk: SIGNATURE PAGE TOFIRST AMENDMENT TO\n",
      "THE CREDIT ...\n",
      "> Adding chunk: SIGNATURE PAGE TOFIRST AMENDMENT TO\n",
      "THE CREDIT ...\n",
      "DEBUG:llama_index.node_parser.node_utils:> Adding chunk: EXHIBIT AAmended Credit Agreement\n",
      "[Attached]\n",
      "> Adding chunk: EXHIBIT AAmended Credit Agreement\n",
      "[Attached]\n",
      "DEBUG:llama_index.node_parser.node_utils:> Adding chunk: EXHIBIT AAMENDED AND RESTATED CREDIT AGREEMENT\n",
      "...\n",
      "> Adding chunk: EXHIBIT AAMENDED AND RESTATED CREDIT AGREEMENT\n",
      "...\n",
      "DEBUG:llama_index.node_parser.node_utils:> Adding chunk: , DEUTSCHE BANK SECURITIES INC.\n",
      ", GOLDMAN SACHS...\n",
      "> Adding chunk: , DEUTSCHE BANK SECURITIES INC.\n",
      ", GOLDMAN SACHS...\n",
      "DEBUG:llama_index.node_parser.node_utils:> Adding chunk: , MORGAN STANLEY MUFG LOAN PARTNERS, LLC,\n",
      "SOCIÉ...\n",
      "> Adding chunk: , MORGAN STANLEY MUFG LOAN PARTNERS, LLC,\n",
      "SOCIÉ...\n",
      "DEBUG:llama_index.node_parser.node_utils:> Adding chunk: TABLE OF CONTENTSPage\n",
      "ARTICLE I. DEFINITIONS AN...\n",
      "> Adding chunk: TABLE OF CONTENTSPage\n",
      "ARTICLE I. DEFINITIONS AN...\n",
      "DEBUG:llama_index.node_parser.node_utils:> Adding chunk: THE COMMITMENTS AND LOANS\n",
      "2.01    Loans\n",
      "29 2.02...\n",
      "> Adding chunk: THE COMMITMENTS AND LOANS\n",
      "2.01    Loans\n",
      "29 2.02...\n",
      "DEBUG:llama_index.node_parser.node_utils:> Adding chunk: TAXES, YIELD PROTECTION AND ILLEGALITY\n",
      "3.01    ...\n",
      "> Adding chunk: TAXES, YIELD PROTECTION AND ILLEGALITY\n",
      "3.01    ...\n",
      "DEBUG:llama_index.node_parser.node_utils:> Adding chunk: CONDITIONS PRECEDENT TO BORROWINGS\n",
      "4.01    Cond...\n",
      "> Adding chunk: CONDITIONS PRECEDENT TO BORROWINGS\n",
      "4.01    Cond...\n",
      "DEBUG:llama_index.node_parser.node_utils:> Adding chunk: i\n",
      "> Adding chunk: i\n",
      "DEBUG:llama_index.node_parser.node_utils:> Adding chunk: 5.07    ERISA Compliance52 5.08    Investment C...\n",
      "> Adding chunk: 5.07    ERISA Compliance52 5.08    Investment C...\n",
      "DEBUG:llama_index.node_parser.node_utils:> Adding chunk: NEGATIVE COVENANTS\n",
      "7.01    Liens\n",
      "55 7.02    Fun...\n",
      "> Adding chunk: NEGATIVE COVENANTS\n",
      "7.01    Liens\n",
      "55 7.02    Fun...\n",
      "DEBUG:llama_index.node_parser.node_utils:> Adding chunk: 06    Resignation of Administrative Agent\n",
      "62 9....\n",
      "> Adding chunk: 06    Resignation of Administrative Agent\n",
      "62 9....\n",
      "DEBUG:llama_index.node_parser.node_utils:> Adding chunk: ii\n",
      "> Adding chunk: ii\n",
      "DEBUG:llama_index.node_parser.node_utils:> Adding chunk: ARTICLE XI. MISCELLANEOUS11.01    Amendments, E...\n",
      "> Adding chunk: ARTICLE XI. MISCELLANEOUS11.01    Amendments, E...\n",
      "DEBUG:llama_index.node_parser.node_utils:> Adding chunk: 14    Governing Law; Jurisdiction; Etc\n",
      "78 11.15...\n",
      "> Adding chunk: 14    Governing Law; Jurisdiction; Etc\n",
      "78 11.15...\n",
      "DEBUG:llama_index.node_parser.node_utils:> Adding chunk: SCHEDULES2.01    Commitments \n",
      "7.01    Existing ...\n",
      "> Adding chunk: SCHEDULES2.01    Commitments \n",
      "7.01    Existing ...\n",
      "DEBUG:llama_index.node_parser.node_utils:> Adding chunk: AMENDED AND RESTATED CREDIT AGREEMENTThis AMEND...\n",
      "> Adding chunk: AMENDED AND RESTATED CREDIT AGREEMENTThis AMEND...\n",
      "DEBUG:llama_index.node_parser.node_utils:> Adding chunk: The\n",
      " Company,  the  lenders  party  thereto  an...\n",
      "> Adding chunk: The\n",
      " Company,  the  lenders  party  thereto  an...\n",
      "DEBUG:llama_index.node_parser.node_utils:> Adding chunk: In consideration of the mutual covenants and ag...\n",
      "> Adding chunk: In consideration of the mutual covenants and ag...\n",
      "DEBUG:llama_index.node_parser.node_utils:> Adding chunk: through which it shall perform any of its oblig...\n",
      "> Adding chunk: through which it shall perform any of its oblig...\n",
      "DEBUG:llama_index.node_parser.node_utils:> Adding chunk: “\n",
      "Aggregate  Commitments”  means  the  Commitme...\n",
      "> Adding chunk: “\n",
      "Aggregate  Commitments”  means  the  Commitme...\n",
      "DEBUG:llama_index.node_parser.node_utils:> Adding chunk: “Agreement” has the meaning specified in the pr...\n",
      "> Adding chunk: “Agreement” has the meaning specified in the pr...\n",
      "DEBUG:llama_index.node_parser.node_utils:> Adding chunk: “\n",
      "Amazon  Seller  Lending  Facility”  means  th...\n",
      "> Adding chunk: “\n",
      "Amazon  Seller  Lending  Facility”  means  th...\n",
      "DEBUG:llama_index.node_parser.node_utils:> Adding chunk: If  the  Commitment  of  each  Lender  has  bee...\n",
      "> Adding chunk: If  the  Commitment  of  each  Lender  has  bee...\n",
      "DEBUG:llama_index.node_parser.node_utils:> Adding chunk: “\n",
      "Applicable  Time”  means,  with  respect  to ...\n",
      "> Adding chunk: “\n",
      "Applicable  Time”  means,  with  respect  to ...\n",
      "DEBUG:llama_index.node_parser.node_utils:> Adding chunk: “\n",
      "Assignment and Assumption”  means an assignme...\n",
      "> Adding chunk: “\n",
      "Assignment and Assumption”  means an assignme...\n",
      "DEBUG:llama_index.node_parser.node_utils:> Adding chunk: “Attributable Indebtedness”  means,  on  any  d...\n",
      "> Adding chunk: “Attributable Indebtedness”  means,  on  any  d...\n",
      "DEBUG:llama_index.node_parser.node_utils:> Adding chunk: “\n",
      "Availability  Period”  means  the  period  fr...\n",
      "> Adding chunk: “\n",
      "Availability  Period”  means  the  period  fr...\n",
      "DEBUG:llama_index.node_parser.node_utils:> Adding chunk: “\n",
      "Bail-In  Legislation”  means  (a)  with  resp...\n",
      "> Adding chunk: “\n",
      "Bail-In  Legislation”  means  (a)  with  resp...\n",
      "DEBUG:llama_index.node_parser.node_utils:> Adding chunk: “\n",
      "Base Rate”  means, for any day, a fluctuating...\n",
      "> Adding chunk: “\n",
      "Base Rate”  means, for any day, a fluctuating...\n",
      "DEBUG:llama_index.node_parser.node_utils:> Adding chunk: For purposes of clause (c) above, the LIBO Rate...\n",
      "> Adding chunk: For purposes of clause (c) above, the LIBO Rate...\n",
      "DEBUG:llama_index.node_parser.node_utils:> Adding chunk: If the Base Rate is being used as an alternate ...\n",
      "> Adding chunk: If the Base Rate is being used as an alternate ...\n",
      "DEBUG:llama_index.node_parser.node_utils:> Adding chunk: All Base Rate Loans shall be denominated in Dol...\n",
      "> Adding chunk: All Base Rate Loans shall be denominated in Dol...\n",
      "DEBUG:llama_index.node_parser.node_utils:> Adding chunk: market  convention  for  determining  a  rate  ...\n",
      "> Adding chunk: market  convention  for  determining  a  rate  ...\n",
      "DEBUG:llama_index.node_parser.node_utils:> Adding chunk: that  has  been  selected  by  the  Administrat...\n",
      "> Adding chunk: that  has  been  selected  by  the  Administrat...\n",
      "DEBUG:llama_index.node_parser.node_utils:> Adding chunk: with respect to any Benchmark Replacement, any ...\n",
      "> Adding chunk: with respect to any Benchmark Replacement, any ...\n",
      "DEBUG:llama_index.node_parser.node_utils:> Adding chunk: “\n",
      "Benchmark Replacement Date” means the earlier...\n",
      "> Adding chunk: “\n",
      "Benchmark Replacement Date” means the earlier...\n",
      "DEBUG:llama_index.node_parser.node_utils:> Adding chunk: “\n",
      "Benchmark Transition Event” means the occurre...\n",
      "> Adding chunk: “\n",
      "Benchmark Transition Event” means the occurre...\n",
      "DEBUG:llama_index.node_parser.node_utils:> Adding chunk: (b)a public statement or publication of informa...\n",
      "> Adding chunk: (b)a public statement or publication of informa...\n",
      "DEBUG:llama_index.node_parser.node_utils:> Adding chunk: there is no successor administrator that will c...\n",
      "> Adding chunk: there is no successor administrator that will c...\n",
      "DEBUG:llama_index.node_parser.node_utils:> Adding chunk: “\n",
      "Benchmark Transition Start Date”  means (a) i...\n",
      "> Adding chunk: “\n",
      "Benchmark Transition Start Date”  means (a) i...\n",
      "DEBUG:llama_index.node_parser.node_utils:> Adding chunk: “\n",
      "Benchmark Unavailability Period” means,  if a...\n",
      "> Adding chunk: “\n",
      "Benchmark Unavailability Period” means,  if a...\n",
      "DEBUG:llama_index.node_parser.node_utils:> Adding chunk: § 1010.230. “\n",
      "Benefit Plan”  means any of (a) a...\n",
      "> Adding chunk: § 1010.230. “\n",
      "Benefit Plan”  means any of (a) a...\n",
      "DEBUG:llama_index.node_parser.node_utils:> Adding chunk: “\n",
      "Borrower Materials” has the meaning specified...\n",
      "> Adding chunk: “\n",
      "Borrower Materials” has the meaning specified...\n",
      "DEBUG:llama_index.node_parser.node_utils:> Adding chunk: “Borrowing Multiple” means (a) in the case of a...\n",
      "> Adding chunk: “Borrowing Multiple” means (a) in the case of a...\n",
      "DEBUG:llama_index.node_parser.node_utils:> Adding chunk: any fundings, disbursements, settlements or pay...\n",
      "> Adding chunk: any fundings, disbursements, settlements or pay...\n",
      "DEBUG:llama_index.node_parser.node_utils:> Adding chunk: rule,  regulation or  treaty, (b)  any change i...\n",
      "> Adding chunk: rule,  regulation or  treaty, (b)  any change i...\n",
      "DEBUG:llama_index.node_parser.node_utils:> Adding chunk: regardless of the date enacted, adopted or issu...\n",
      "> Adding chunk: regardless of the date enacted, adopted or issu...\n",
      "DEBUG:llama_index.node_parser.node_utils:> Adding chunk: an “option right ”)),  directly or indirectly, ...\n",
      "> Adding chunk: an “option right ”)),  directly or indirectly, ...\n",
      "DEBUG:llama_index.node_parser.node_utils:> Adding chunk: “\n",
      "Code” means the U.S. Internal Revenue Code of...\n",
      "> Adding chunk: “\n",
      "Code” means the U.S. Internal Revenue Code of...\n",
      "DEBUG:llama_index.node_parser.node_utils:> Adding chunk: “Company” has the meaning specified in the prea...\n",
      "> Adding chunk: “Company” has the meaning specified in the prea...\n",
      "DEBUG:llama_index.node_parser.node_utils:> Adding chunk: then  the  rate,  or  methodology  for  this  r...\n",
      "> Adding chunk: then  the  rate,  or  methodology  for  this  r...\n",
      "DEBUG:llama_index.node_parser.node_utils:> Adding chunk: “\n",
      "Consolidated  Tangible  Net  Worth”  means,  ...\n",
      "> Adding chunk: “\n",
      "Consolidated  Tangible  Net  Worth”  means,  ...\n",
      "DEBUG:llama_index.node_parser.node_utils:> Adding chunk: “\n",
      "Corresponding Tenor”  with respect to a Bench...\n",
      "> Adding chunk: “\n",
      "Corresponding Tenor”  with respect to a Bench...\n",
      "DEBUG:llama_index.node_parser.node_utils:> Adding chunk: “\n",
      "Daily Simple SONIA”  means, for any day (a “S...\n",
      "> Adding chunk: “\n",
      "Daily Simple SONIA”  means, for any day (a “S...\n",
      "DEBUG:llama_index.node_parser.node_utils:> Adding chunk: receivership, insolvency, reorganization, or si...\n",
      "> Adding chunk: receivership, insolvency, reorganization, or si...\n",
      "DEBUG:llama_index.node_parser.node_utils:> Adding chunk: subject to Section 2.13(b) ,  any Lender that (...\n",
      "> Adding chunk: subject to Section 2.13(b) ,  any Lender that (...\n",
      "DEBUG:llama_index.node_parser.node_utils:> Adding chunk: or has\n",
      " made a public statement to that effect ...\n",
      "> Adding chunk: or has\n",
      " made a public statement to that effect ...\n",
      "DEBUG:llama_index.node_parser.node_utils:> Adding chunk: (ii)  had  appointed  for  it  a  receiver,cust...\n",
      "> Adding chunk: (ii)  had  appointed  for  it  a  receiver,cust...\n",
      "DEBUG:llama_index.node_parser.node_utils:> Adding chunk: provided  that  a Lender shall not be a Default...\n",
      "> Adding chunk: provided  that  a Lender shall not be a Default...\n",
      "DEBUG:llama_index.node_parser.node_utils:> Adding chunk: disavow\n",
      " or disaffirm any contracts or agreemen...\n",
      "> Adding chunk: disavow\n",
      " or disaffirm any contracts or agreemen...\n",
      "DEBUG:llama_index.node_parser.node_utils:> Adding chunk: “\n",
      "Designated Borrower Request and Assumption Ag...\n",
      "> Adding chunk: “\n",
      "Designated Borrower Request and Assumption Ag...\n",
      "DEBUG:llama_index.node_parser.node_utils:> Adding chunk: “Designated Jurisdiction” means any country or ...\n",
      "> Adding chunk: “Designated Jurisdiction” means any country or ...\n",
      "DEBUG:llama_index.node_parser.node_utils:> Adding chunk: “\n",
      "Dollar” and “ $ ” mean lawful money of the Un...\n",
      "> Adding chunk: “\n",
      "Dollar” and “ $ ” mean lawful money of the Un...\n",
      "DEBUG:llama_index.node_parser.node_utils:> Adding chunk: “\n",
      "Early Opt-in Election” means the occurrence o...\n",
      "> Adding chunk: “\n",
      "Early Opt-in Election” means the occurrence o...\n",
      "DEBUG:llama_index.node_parser.node_utils:> Adding chunk: to\n",
      " declare that an Early Opt-in Election has o...\n",
      "> Adding chunk: to\n",
      " declare that an Early Opt-in Election has o...\n",
      "DEBUG:llama_index.node_parser.node_utils:> Adding chunk: “\n",
      "EEA Financial Institution”  means (a) any cre...\n",
      "> Adding chunk: “\n",
      "EEA Financial Institution”  means (a) any cre...\n",
      "DEBUG:llama_index.node_parser.node_utils:> Adding chunk: “\n",
      "EEA Resolution Authority”  means any public a...\n",
      "> Adding chunk: “\n",
      "EEA Resolution Authority”  means any public a...\n",
      "DEBUG:llama_index.node_parser.node_utils:> Adding chunk: “Eligible Assignee”  means any Person that meet...\n",
      "> Adding chunk: “Eligible Assignee”  means any Person that meet...\n",
      "DEBUG:llama_index.node_parser.node_utils:> Adding chunk: “\n",
      "ERISA Event”  means (a) a Reportable Event wi...\n",
      "> Adding chunk: “\n",
      "ERISA Event”  means (a) a Reportable Event wi...\n",
      "DEBUG:llama_index.node_parser.node_utils:> Adding chunk: (d) the filing of a notice by the Pension Plan ...\n",
      "> Adding chunk: (d) the filing of a notice by the Pension Plan ...\n",
      "DEBUG:llama_index.node_parser.node_utils:> Adding chunk: upon the Company or any ERISA Affiliate.\n",
      "“\n",
      "EU  ...\n",
      "> Adding chunk: upon the Company or any ERISA Affiliate.\n",
      "“\n",
      "EU  ...\n",
      "DEBUG:llama_index.node_parser.node_utils:> Adding chunk: “\n",
      "EURIBO Screen Rate”  means a rate per annum e...\n",
      "> Adding chunk: “\n",
      "EURIBO Screen Rate”  means a rate per annum e...\n",
      "DEBUG:llama_index.node_parser.node_utils:> Adding chunk: “\n",
      "EURIBOR Borrowing” means any Borrowing compri...\n",
      "> Adding chunk: “\n",
      "EURIBOR Borrowing” means any Borrowing compri...\n",
      "DEBUG:llama_index.node_parser.node_utils:> Adding chunk: “Eurocurrency Rate Borrowing” means any Borrowi...\n",
      "> Adding chunk: “Eurocurrency Rate Borrowing” means any Borrowi...\n",
      "DEBUG:llama_index.node_parser.node_utils:> Adding chunk: “\n",
      "Event of Default” has the meaning specified i...\n",
      "> Adding chunk: “\n",
      "Event of Default” has the meaning specified i...\n",
      "DEBUG:llama_index.node_parser.node_utils:> Adding chunk: “\n",
      "Excluded Taxes”  means any of the following T...\n",
      "> Adding chunk: “\n",
      "Excluded Taxes”  means any of the following T...\n",
      "DEBUG:llama_index.node_parser.node_utils:> Adding chunk: (b) in the case of a Lender, U.S.federal\n",
      " withh...\n",
      "> Adding chunk: (b) in the case of a Lender, U.S.federal\n",
      " withh...\n",
      "DEBUG:llama_index.node_parser.node_utils:> Adding chunk: 01(e) and  (d) any Taxes imposed pursuant to FA...\n",
      "> Adding chunk: 01(e) and  (d) any Taxes imposed pursuant to FA...\n",
      "DEBUG:llama_index.node_parser.node_utils:> Adding chunk: “\n",
      "FATCA”  means Sections 1471 through 1474 of t...\n",
      "> Adding chunk: “\n",
      "FATCA”  means Sections 1471 through 1474 of t...\n",
      "DEBUG:llama_index.node_parser.node_utils:> Adding chunk: 15\n",
      "> Adding chunk: 15\n",
      "DEBUG:llama_index.node_parser.node_utils:> Adding chunk: “Fee Letter” means the letter agreement, dated ...\n",
      "> Adding chunk: “Fee Letter” means the letter agreement, dated ...\n",
      "DEBUG:llama_index.node_parser.node_utils:> Adding chunk: “\n",
      "Fund”  means any Person (other than a natural...\n",
      "> Adding chunk: “\n",
      "Fund”  means any Person (other than a natural...\n",
      "DEBUG:llama_index.node_parser.node_utils:> Adding chunk: “\n",
      "Guarantee”  means, as to any Person, (a) any ...\n",
      "> Adding chunk: “\n",
      "Guarantee”  means, as to any Person, (a) any ...\n",
      "DEBUG:llama_index.node_parser.node_utils:> Adding chunk: (iii)\n",
      " to  maintain  working  capital,  equity ...\n",
      "> Adding chunk: (iii)\n",
      " to  maintain  working  capital,  equity ...\n",
      "DEBUG:llama_index.node_parser.node_utils:> Adding chunk: that the term “Guarantee” shall not include end...\n",
      "> Adding chunk: that the term “Guarantee” shall not include end...\n",
      "DEBUG:llama_index.node_parser.node_utils:> Adding chunk: “Guaranty”  means the Guarantee of the Obligati...\n",
      "> Adding chunk: “Guaranty”  means the Guarantee of the Obligati...\n",
      "DEBUG:llama_index.node_parser.node_utils:> Adding chunk: bankers’ acceptances, bank guaranties, surety b...\n",
      "> Adding chunk: bankers’ acceptances, bank guaranties, surety b...\n",
      "DEBUG:llama_index.node_parser.node_utils:> Adding chunk: (f)\n",
      "capital leases and Synthetic Lease Obligati...\n",
      "> Adding chunk: (f)\n",
      "capital leases and Synthetic Lease Obligati...\n",
      "DEBUG:llama_index.node_parser.node_utils:> Adding chunk: “\n",
      "Indemnified Taxes”  means (a) Taxes, other th...\n",
      "> Adding chunk: “\n",
      "Indemnified Taxes”  means (a) Taxes, other th...\n",
      "DEBUG:llama_index.node_parser.node_utils:> Adding chunk: “Interest Payment Date”  means (a) as to any Eu...\n",
      "> Adding chunk: “Interest Payment Date”  means (a) as to any Eu...\n",
      "DEBUG:llama_index.node_parser.node_utils:> Adding chunk: as  to  each  Eurocurrency  Rate  Loan,  the  p...\n",
      "> Adding chunk: as  to  each  Eurocurrency  Rate  Loan,  the  p...\n",
      "DEBUG:llama_index.node_parser.node_utils:> Adding chunk: (ii)\n",
      "any Interest Period that begins on the las...\n",
      "> Adding chunk: (ii)\n",
      "any Interest Period that begins on the las...\n",
      "DEBUG:llama_index.node_parser.node_utils:> Adding chunk: “\n",
      "Interpolated Screen Rate”  means, with respec...\n",
      "> Adding chunk: “\n",
      "Interpolated Screen Rate”  means, with respec...\n",
      "DEBUG:llama_index.node_parser.node_utils:> Adding chunk: “\n",
      "IRS” means the United States Internal Revenue...\n",
      "> Adding chunk: “\n",
      "IRS” means the United States Internal Revenue...\n",
      "DEBUG:llama_index.node_parser.node_utils:> Adding chunk: “\n",
      "Lender” has the meaning specified in the intr...\n",
      "> Adding chunk: “\n",
      "Lender” has the meaning specified in the intr...\n",
      "DEBUG:llama_index.node_parser.node_utils:> Adding chunk: to time notify each Borrower and the Administra...\n",
      "> Adding chunk: to time notify each Borrower and the Administra...\n",
      "DEBUG:llama_index.node_parser.node_utils:> Adding chunk: “\n",
      "LIBO  Screen  Rate”  means  a  rate  per  ann...\n",
      "> Adding chunk: “\n",
      "LIBO  Screen  Rate”  means  a  rate  per  ann...\n",
      "DEBUG:llama_index.node_parser.node_utils:> Adding chunk: provided\n",
      " that  if the LIBO Screen Rate, determ...\n",
      "> Adding chunk: provided\n",
      " that  if the LIBO Screen Rate, determ...\n",
      "DEBUG:llama_index.node_parser.node_utils:> Adding chunk: “\n",
      "Lien” means any mortgage, pledge, hypothecati...\n",
      "> Adding chunk: “\n",
      "Lien” means any mortgage, pledge, hypothecati...\n",
      "DEBUG:llama_index.node_parser.node_utils:> Adding chunk: “\n",
      "Loan Notice”  means a notice of (a) a borrowi...\n",
      "> Adding chunk: “\n",
      "Loan Notice”  means a notice of (a) a borrowi...\n",
      "DEBUG:llama_index.node_parser.node_utils:> Adding chunk: “\n",
      "Material  Adverse  Effect”  means  (a)  a  ma...\n",
      "> Adding chunk: “\n",
      "Material  Adverse  Effect”  means  (a)  a  ma...\n",
      "DEBUG:llama_index.node_parser.node_utils:> Adding chunk: it  is  a  party;  or  (c)  a  material  advers...\n",
      "> Adding chunk: it  is  a  party;  or  (c)  a  material  advers...\n",
      "DEBUG:llama_index.node_parser.node_utils:> Adding chunk: “\n",
      "MNPI” has the meaning specified in Section 6....\n",
      "> Adding chunk: “\n",
      "MNPI” has the meaning specified in Section 6....\n",
      "DEBUG:llama_index.node_parser.node_utils:> Adding chunk: “\n",
      "Nondisclosure Agreement” has the meaning spec...\n",
      "> Adding chunk: “\n",
      "Nondisclosure Agreement” has the meaning spec...\n",
      "DEBUG:llama_index.node_parser.node_utils:> Adding chunk: “\n",
      "NYFRB” means the Federal Reserve Bank of New ...\n",
      "> Adding chunk: “\n",
      "NYFRB” means the Federal Reserve Bank of New ...\n",
      "DEBUG:llama_index.node_parser.node_utils:> Adding chunk: “\n",
      "NYFRB Website” means the website of the NYFRB...\n",
      "> Adding chunk: “\n",
      "NYFRB Website” means the website of the NYFRB...\n",
      "DEBUG:llama_index.node_parser.node_utils:> Adding chunk: “OFAC” means the Office of Foreign Assets Contr...\n",
      "> Adding chunk: “OFAC” means the Office of Foreign Assets Contr...\n",
      "DEBUG:llama_index.node_parser.node_utils:> Adding chunk: jurisdiction);  and  (c)  with  respect  to  an...\n",
      "> Adding chunk: jurisdiction);  and  (c)  with  respect  to  an...\n",
      "DEBUG:llama_index.node_parser.node_utils:> Adding chunk: “\n",
      "Other Connection Taxes”  means, with respect ...\n",
      "> Adding chunk: “\n",
      "Other Connection Taxes”  means, with respect ...\n",
      "DEBUG:llama_index.node_parser.node_utils:> Adding chunk: “\n",
      "Other Permitted Liens”  means, with respect t...\n",
      "> Adding chunk: “\n",
      "Other Permitted Liens”  means, with respect t...\n",
      "DEBUG:llama_index.node_parser.node_utils:> Adding chunk: in each case, incurred prior to, at the time of...\n",
      "> Adding chunk: in each case, incurred prior to, at the time of...\n",
      "DEBUG:llama_index.node_parser.node_utils:> Adding chunk: lease or other disposition and do not extend to...\n",
      "> Adding chunk: lease or other disposition and do not extend to...\n",
      "DEBUG:llama_index.node_parser.node_utils:> Adding chunk: appeal or customs bonds in proceedings to which...\n",
      "> Adding chunk: appeal or customs bonds in proceedings to which...\n",
      "DEBUG:llama_index.node_parser.node_utils:> Adding chunk: “Outstanding Amount”  means,  on  any  date  wi...\n",
      "> Adding chunk: “Outstanding Amount”  means,  on  any  date  wi...\n",
      "DEBUG:llama_index.node_parser.node_utils:> Adding chunk: “\n",
      "Overnight  Bank  Funding  Rate”  means,  for ...\n",
      "> Adding chunk: “\n",
      "Overnight  Bank  Funding  Rate”  means,  for ...\n",
      "DEBUG:llama_index.node_parser.node_utils:> Adding chunk: “\n",
      "Participating Member State”  means any member...\n",
      "> Adding chunk: “\n",
      "Participating Member State”  means any member...\n",
      "DEBUG:llama_index.node_parser.node_utils:> Adding chunk: “\n",
      "Pension Plan”  means any “employee pension be...\n",
      "> Adding chunk: “\n",
      "Pension Plan”  means any “employee pension be...\n",
      "DEBUG:llama_index.node_parser.node_utils:> Adding chunk: “\n",
      "Permitted Holder”  means, as of any date of d...\n",
      "> Adding chunk: “\n",
      "Permitted Holder”  means, as of any date of d...\n",
      "DEBUG:llama_index.node_parser.node_utils:> Adding chunk: “\n",
      "Person”  means  any  natural  person,  corpor...\n",
      "> Adding chunk: “\n",
      "Person”  means  any  natural  person,  corpor...\n",
      "DEBUG:llama_index.node_parser.node_utils:> Adding chunk: Interest Rates) as the “bank prime loan” rate o...\n",
      "> Adding chunk: Interest Rates) as the “bank prime loan” rate o...\n",
      "DEBUG:llama_index.node_parser.node_utils:> Adding chunk: “\n",
      "Register” has the meaning specified in Sectio...\n",
      "> Adding chunk: “\n",
      "Register” has the meaning specified in Sectio...\n",
      "DEBUG:llama_index.node_parser.node_utils:> Adding chunk: “\n",
      "Relevant Rate” means (a)  with respect to any...\n",
      "> Adding chunk: “\n",
      "Relevant Rate” means (a)  with respect to any...\n",
      "DEBUG:llama_index.node_parser.node_utils:> Adding chunk: “\n",
      "Reportable Event”  means any of the events se...\n",
      "> Adding chunk: “\n",
      "Reportable Event”  means any of the events se...\n",
      "DEBUG:llama_index.node_parser.node_utils:> Adding chunk: “\n",
      "Responsible Officer”  means the chief executi...\n",
      "> Adding chunk: “\n",
      "Responsible Officer”  means the chief executi...\n",
      "DEBUG:llama_index.node_parser.node_utils:> Adding chunk: Any document delivered hereunderthat\n",
      " is  signe...\n",
      "> Adding chunk: Any document delivered hereunderthat\n",
      " is  signe...\n",
      "DEBUG:llama_index.node_parser.node_utils:> Adding chunk: “Revaluation Date”  means, with respect to any ...\n",
      "> Adding chunk: “Revaluation Date”  means, with respect to any ...\n",
      "DEBUG:llama_index.node_parser.node_utils:> Adding chunk: “\n",
      "Reuters” means Thomson Reuters Corporation, R...\n",
      "> Adding chunk: “\n",
      "Reuters” means Thomson Reuters Corporation, R...\n",
      "DEBUG:llama_index.node_parser.node_utils:> Adding chunk: “\n",
      "SEC” means the Securities and Exchange Commis...\n",
      "> Adding chunk: “\n",
      "SEC” means the Securities and Exchange Commis...\n",
      "DEBUG:llama_index.node_parser.node_utils:> Adding chunk: “\n",
      "SONIA Administrator Website”  means the Bank ...\n",
      "> Adding chunk: “\n",
      "SONIA Administrator Website”  means the Bank ...\n",
      "DEBUG:llama_index.node_parser.node_utils:> Adding chunk: “Special Notice Currency”  means, at any time, ...\n",
      "> Adding chunk: “Special Notice Currency”  means, at any time, ...\n",
      "DEBUG:llama_index.node_parser.node_utils:> Adding chunk: “\n",
      "Subsidiary”  of a Person means a corporation,...\n",
      "> Adding chunk: “\n",
      "Subsidiary”  of a Person means a corporation,...\n",
      "DEBUG:llama_index.node_parser.node_utils:> Adding chunk: forward  rate  transactions,commodity\n",
      " swaps, c...\n",
      "> Adding chunk: forward  rate  transactions,commodity\n",
      " swaps, c...\n",
      "DEBUG:llama_index.node_parser.node_utils:> Adding chunk: Inc. any International Foreign Exchange Master ...\n",
      "> Adding chunk: Inc. any International Foreign Exchange Master ...\n",
      "DEBUG:llama_index.node_parser.node_utils:> Adding chunk: as determined based upon one or more mid-market...\n",
      "> Adding chunk: as determined based upon one or more mid-market...\n",
      "DEBUG:llama_index.node_parser.node_utils:> Adding chunk: “\n",
      "Taxes”  means all present or future taxes, le...\n",
      "> Adding chunk: “\n",
      "Taxes”  means all present or future taxes, le...\n",
      "DEBUG:llama_index.node_parser.node_utils:> Adding chunk: “TARGET Day” means any day on which the TARGET ...\n",
      "> Adding chunk: “TARGET Day” means any day on which the TARGET ...\n",
      "DEBUG:llama_index.node_parser.node_utils:> Adding chunk: “\n",
      "TIBO Screen Rate”  means a rate per annum equ...\n",
      "> Adding chunk: “\n",
      "TIBO Screen Rate”  means a rate per annum equ...\n",
      "DEBUG:llama_index.node_parser.node_utils:> Adding chunk: “\n",
      "TIBOR Loan” means a Loan that bears interest ...\n",
      "> Adding chunk: “\n",
      "TIBOR Loan” means a Loan that bears interest ...\n",
      "DEBUG:llama_index.node_parser.node_utils:> Adding chunk: “\n",
      "UK Financial Institution”  means any BRRD Und...\n",
      "> Adding chunk: “\n",
      "UK Financial Institution”  means any BRRD Und...\n",
      "DEBUG:llama_index.node_parser.node_utils:> Adding chunk: “\n",
      "Unadjusted Benchmark Replacement” means  the ...\n",
      "> Adding chunk: “\n",
      "Unadjusted Benchmark Replacement” means  the ...\n",
      "DEBUG:llama_index.node_parser.node_utils:> Adding chunk: “U.S. Tax Compliance Certificate” has the meani...\n",
      "> Adding chunk: “U.S. Tax Compliance Certificate” has the meani...\n",
      "DEBUG:llama_index.node_parser.node_utils:> Adding chunk: “\n",
      "Write-Down and Conversion Powers”  means (a) ...\n",
      "> Adding chunk: “\n",
      "Write-Down and Conversion Powers”  means (a) ...\n",
      "DEBUG:llama_index.node_parser.node_utils:> Adding chunk: “\n",
      "Yen” and “¥ ” mean the lawful currency of Jap...\n",
      "> Adding chunk: “\n",
      "Yen” and “¥ ” mean the lawful currency of Jap...\n",
      "DEBUG:llama_index.node_parser.node_utils:> Adding chunk: (i) any definition of or reference to any agree...\n",
      "> Adding chunk: (i) any definition of or reference to any agree...\n",
      "DEBUG:llama_index.node_parser.node_utils:> Adding chunk: (iv)  all  references  in  a  LoanDocument\n",
      " to ...\n",
      "> Adding chunk: (iv)  all  references  in  a  LoanDocument\n",
      " to ...\n",
      "DEBUG:llama_index.node_parser.node_utils:> Adding chunk: including cash, securities, accounts and contra...\n",
      "> Adding chunk: including cash, securities, accounts and contra...\n",
      "DEBUG:llama_index.node_parser.node_utils:> Adding chunk: Notwithstanding the foregoing, for purposes of ...\n",
      "> Adding chunk: Notwithstanding the foregoing, for purposes of ...\n",
      "DEBUG:llama_index.node_parser.node_utils:> Adding chunk: (b)\n",
      "Changes  in GAAP.  If at any time any chang...\n",
      "> Adding chunk: (b)\n",
      "Changes  in GAAP.  If at any time any chang...\n",
      "DEBUG:llama_index.node_parser.node_utils:> Adding chunk: (c)\n",
      "Consolidation  of  Variable  Interest  Enti...\n",
      "> Adding chunk: (c)\n",
      "Consolidation  of  Variable  Interest  Enti...\n",
      "DEBUG:llama_index.node_parser.node_utils:> Adding chunk: 1.05\n",
      "Additional Alternative Currencies . (a)\n",
      "A ...\n",
      "> Adding chunk: 1.05\n",
      "Additional Alternative Currencies . (a)\n",
      "A ...\n",
      "DEBUG:llama_index.node_parser.node_utils:> Adding chunk: Each  Lender  shall  notify  the  Administrativ...\n",
      "> Adding chunk: Each  Lender  shall  notify  the  Administrativ...\n",
      "DEBUG:llama_index.node_parser.node_utils:> Adding chunk: 1.07Times  of Day.  Unless otherwise specified,...\n",
      "> Adding chunk: 1.07Times  of Day.  Unless otherwise specified,...\n",
      "DEBUG:llama_index.node_parser.node_utils:> Adding chunk: The  Londoninterbank\n",
      " offered  rate  is  intend...\n",
      "> Adding chunk: The  Londoninterbank\n",
      " offered  rate  is  intend...\n",
      "DEBUG:llama_index.node_parser.node_utils:> Adding chunk: In light of this eventuality, public and privat...\n",
      "> Adding chunk: In light of this eventuality, public and privat...\n",
      "DEBUG:llama_index.node_parser.node_utils:> Adding chunk: (i) any such alternative, successor or replacem...\n",
      "> Adding chunk: (i) any such alternative, successor or replacem...\n",
      "DEBUG:llama_index.node_parser.node_utils:> Adding chunk: 1.09\n",
      "Divisions .  For all purposes under this A...\n",
      "> Adding chunk: 1.09\n",
      "Divisions .  For all purposes under this A...\n",
      "DEBUG:llama_index.node_parser.node_utils:> Adding chunk: THE COMMITMENTS AND LOANS\n",
      "2.01\n",
      "Loans . Subject ...\n",
      "> Adding chunk: THE COMMITMENTS AND LOANS\n",
      "2.01\n",
      "Loans . Subject ...\n",
      "DEBUG:llama_index.node_parser.node_utils:> Adding chunk: Commitment, and subject to the other terms and ...\n",
      "> Adding chunk: Commitment, and subject to the other terms and ...\n",
      "DEBUG:llama_index.node_parser.node_utils:> Adding chunk: Each Loan Notice must be received by the Admini...\n",
      "> Adding chunk: Each Loan Notice must be received by the Admini...\n",
      "DEBUG:llama_index.node_parser.node_utils:> Adding chunk: (i) three Business Days prior tothe requested\n",
      " ...\n",
      "> Adding chunk: (i) three Business Days prior tothe requested\n",
      " ...\n",
      "DEBUG:llama_index.node_parser.node_utils:> Adding chunk: (i) four Business Days prior to the requestedda...\n",
      "> Adding chunk: (i) four Business Days prior to the requestedda...\n",
      "DEBUG:llama_index.node_parser.node_utils:> Adding chunk: Not later than 1:00 p.m. (i) three Business Day...\n",
      "> Adding chunk: Not later than 1:00 p.m. (i) three Business Day...\n",
      "DEBUG:llama_index.node_parser.node_utils:> Adding chunk: Each borrowing of or conversion to Base Rate Lo...\n",
      "> Adding chunk: Each borrowing of or conversion to Base Rate Lo...\n",
      "DEBUG:llama_index.node_parser.node_utils:> Adding chunk: Each  Loan  Notice  shall  specify  (i)  whethe...\n",
      "> Adding chunk: Each  Loan  Notice  shall  specify  (i)  whethe...\n",
      "DEBUG:llama_index.node_parser.node_utils:> Adding chunk: In  the  case  of  any  conversion  or  continu...\n",
      "> Adding chunk: In  the  case  of  any  conversion  or  continu...\n",
      "DEBUG:llama_index.node_parser.node_utils:> Adding chunk: continuation  of  any  Eurocurrency  Rate  Borr...\n",
      "> Adding chunk: continuation  of  any  Eurocurrency  Rate  Borr...\n",
      "DEBUG:llama_index.node_parser.node_utils:> Adding chunk: If the applicableBorrower\n",
      " requests a borrowing...\n",
      "> Adding chunk: If the applicableBorrower\n",
      " requests a borrowing...\n",
      "DEBUG:llama_index.node_parser.node_utils:> Adding chunk: (b)\n",
      "Following  receipt of a Loan Notice, the Ad...\n",
      "> Adding chunk: (b)\n",
      "Following  receipt of a Loan Notice, the Ad...\n",
      "DEBUG:llama_index.node_parser.node_utils:> Adding chunk: on the date of such borrowing, not later than t...\n",
      "> Adding chunk: on the date of such borrowing, not later than t...\n",
      "DEBUG:llama_index.node_parser.node_utils:> Adding chunk: (c)\n",
      "Except  as otherwise provided herein, a Eur...\n",
      "> Adding chunk: (c)\n",
      "Except  as otherwise provided herein, a Eur...\n",
      "DEBUG:llama_index.node_parser.node_utils:> Adding chunk: (e)\n",
      "After  giving effect to all borrowings of L...\n",
      "> Adding chunk: (e)\n",
      "After  giving effect to all borrowings of L...\n",
      "DEBUG:llama_index.node_parser.node_utils:> Adding chunk: (B) four Business Days (or five Business Days i...\n",
      "> Adding chunk: (B) four Business Days (or five Business Days i...\n",
      "DEBUG:llama_index.node_parser.node_utils:> Adding chunk: If such notice is given by a Borrower, such Bor...\n",
      "> Adding chunk: If such notice is given by a Borrower, such Bor...\n",
      "DEBUG:llama_index.node_parser.node_utils:> Adding chunk: Subject to \n",
      "Section 2.13 , each prepayment of a...\n",
      "> Adding chunk: Subject to \n",
      "Section 2.13 , each prepayment of a...\n",
      "DEBUG:llama_index.node_parser.node_utils:> Adding chunk: (c)\n",
      "If the  Administrative Agent notifies the B...\n",
      "> Adding chunk: (c)\n",
      "If the  Administrative Agent notifies the B...\n",
      "DEBUG:llama_index.node_parser.node_utils:> Adding chunk: 2.04\n",
      "Termination  or  Reduction  of  Commitment...\n",
      "> Adding chunk: 2.04\n",
      "Termination  or  Reduction  of  Commitment...\n",
      "DEBUG:llama_index.node_parser.node_utils:> Adding chunk: three Business Days prior to the date of termin...\n",
      "> Adding chunk: three Business Days prior to the date of termin...\n",
      "DEBUG:llama_index.node_parser.node_utils:> Adding chunk: TheAdministrative\n",
      " Agent will promptly notify t...\n",
      "> Adding chunk: TheAdministrative\n",
      " Agent will promptly notify t...\n",
      "DEBUG:llama_index.node_parser.node_utils:> Adding chunk: Lender according to its Applicable Percentage. ...\n",
      "> Adding chunk: Lender according to its Applicable Percentage. ...\n",
      "DEBUG:llama_index.node_parser.node_utils:> Adding chunk: (i)  each  LIBOR  Borrowing  shall  bear  inter...\n",
      "> Adding chunk: (i)  each  LIBOR  Borrowing  shall  bear  inter...\n",
      "DEBUG:llama_index.node_parser.node_utils:> Adding chunk: (iv) eachSONIA\n",
      " Loan shall bear interest on the...\n",
      "> Adding chunk: (iv) eachSONIA\n",
      " Loan shall bear interest on the...\n",
      "DEBUG:llama_index.node_parser.node_utils:> Adding chunk: (c)\n",
      "Interest  on each Loan shall be due and pay...\n",
      "> Adding chunk: (c)\n",
      "Interest  on each Loan shall be due and pay...\n",
      "DEBUG:llama_index.node_parser.node_utils:> Adding chunk: The commitment fee shall accrue at all timesdur...\n",
      "> Adding chunk: The commitment fee shall accrue at all timesdur...\n",
      "DEBUG:llama_index.node_parser.node_utils:> Adding chunk: (b)Other  Fees.  The Company shall pay to the A...\n",
      "> Adding chunk: (b)Other  Fees.  The Company shall pay to the A...\n",
      "DEBUG:llama_index.node_parser.node_utils:> Adding chunk: All other computations of fees andinterest\n",
      " sha...\n",
      "> Adding chunk: All other computations of fees andinterest\n",
      " sha...\n",
      "DEBUG:llama_index.node_parser.node_utils:> Adding chunk: With respect to all Alternative Currencies, the...\n",
      "> Adding chunk: With respect to all Alternative Currencies, the...\n",
      "DEBUG:llama_index.node_parser.node_utils:> Adding chunk: Upon the request of any Lender to a Borrower ma...\n",
      "> Adding chunk: Upon the request of any Lender to a Borrower ma...\n",
      "DEBUG:llama_index.node_parser.node_utils:> Adding chunk: Except as otherwise expressly provided herein a...\n",
      "> Adding chunk: Except as otherwise expressly provided herein a...\n",
      "DEBUG:llama_index.node_parser.node_utils:> Adding chunk: on  the  date  specified  herein.  Except  as  ...\n",
      "> Adding chunk: on  the  date  specified  herein.  Except  as  ...\n",
      "DEBUG:llama_index.node_parser.node_utils:> Adding chunk: shall be treated as made in the United States i...\n",
      "> Adding chunk: shall be treated as made in the United States i...\n",
      "DEBUG:llama_index.node_parser.node_utils:> Adding chunk: All payments received by the Administrative Age...\n",
      "> Adding chunk: All payments received by the Administrative Age...\n",
      "DEBUG:llama_index.node_parser.node_utils:> Adding chunk: Unless  the Administrative Agent shall have rec...\n",
      "> Adding chunk: Unless  the Administrative Agent shall have rec...\n",
      "DEBUG:llama_index.node_parser.node_utils:> Adding chunk: then  the  applicableLender\n",
      " and the applicable...\n",
      "> Adding chunk: then  the  applicableLender\n",
      " and the applicable...\n",
      "DEBUG:llama_index.node_parser.node_utils:> Adding chunk: the  interest  rate  applicable  to  the  Loans...\n",
      "> Adding chunk: the  interest  rate  applicable  to  the  Loans...\n",
      "DEBUG:llama_index.node_parser.node_utils:> Adding chunk: Unless the Administrative Agent shall have rece...\n",
      "> Adding chunk: Unless the Administrative Agent shall have rece...\n",
      "DEBUG:llama_index.node_parser.node_utils:> Adding chunk: Insuch\n",
      " event, if such Borrower has not in fact...\n",
      "> Adding chunk: Insuch\n",
      " event, if such Borrower has not in fact...\n",
      "DEBUG:llama_index.node_parser.node_utils:> Adding chunk: A notice of the Administrative Agent to any Len...\n",
      "> Adding chunk: A notice of the Administrative Agent to any Len...\n",
      "DEBUG:llama_index.node_parser.node_utils:> Adding chunk: (d)\n",
      "Obligations  of  Lenders  Several.  The  ob...\n",
      "> Adding chunk: (d)\n",
      "Obligations  of  Lenders  Several.  The  ob...\n",
      "DEBUG:llama_index.node_parser.node_utils:> Adding chunk: (e)\n",
      "Funding Source . Nothing herein shall be  d...\n",
      "> Adding chunk: (e)\n",
      "Funding Source . Nothing herein shall be  d...\n",
      "DEBUG:llama_index.node_parser.node_utils:> Adding chunk: or make such other adjustments as shall be equi...\n",
      "> Adding chunk: or make such other adjustments as shall be equi...\n",
      "DEBUG:llama_index.node_parser.node_utils:> Adding chunk: as  amended  from  time  to  time)(including\n",
      " t...\n",
      "> Adding chunk: as  amended  from  time  to  time)(including\n",
      " t...\n",
      "DEBUG:llama_index.node_parser.node_utils:> Adding chunk: 2.12\n",
      "Extension of Maturity Date . 36\n",
      "> Adding chunk: 2.12\n",
      "Extension of Maturity Date . 36\n",
      "DEBUG:llama_index.node_parser.node_utils:> Adding chunk: (a)Requests for Extension .  The Company may (b...\n",
      "> Adding chunk: (a)Requests for Extension .  The Company may (b...\n",
      "DEBUG:llama_index.node_parser.node_utils:> Adding chunk: (b)\n",
      "Lender  Elections to Extend.  Each Lender s...\n",
      "> Adding chunk: (b)\n",
      "Lender  Elections to Extend.  Each Lender s...\n",
      "DEBUG:llama_index.node_parser.node_utils:> Adding chunk: (c)\n",
      "Notification  by Administrative Agent.  The...\n",
      "> Adding chunk: (c)\n",
      "Notification  by Administrative Agent.  The...\n",
      "DEBUG:llama_index.node_parser.node_utils:> Adding chunk: provided  that  no extension of the Maturity Da...\n",
      "> Adding chunk: provided  that  no extension of the Maturity Da...\n",
      "DEBUG:llama_index.node_parser.node_utils:> Adding chunk: in which case they shall be true and correct in...\n",
      "> Adding chunk: in which case they shall be true and correct in...\n",
      "DEBUG:llama_index.node_parser.node_utils:> Adding chunk: respectively, of Section 6.01 ,  and (B) no Def...\n",
      "> Adding chunk: respectively, of Section 6.01 ,  and (B) no Def...\n",
      "DEBUG:llama_index.node_parser.node_utils:> Adding chunk: 2.13Defaulting Lenders . (a)\n",
      "Adjustments .  Not...\n",
      "> Adding chunk: 2.13Defaulting Lenders . (a)\n",
      "Adjustments .  Not...\n",
      "DEBUG:llama_index.node_parser.node_utils:> Adding chunk: 08  shall be  applied at such time or times as ...\n",
      "> Adding chunk: 08  shall be  applied at such time or times as ...\n",
      "DEBUG:llama_index.node_parser.node_utils:> Adding chunk: fourth ,  to  thepayment\n",
      " of any amounts owing ...\n",
      "> Adding chunk: fourth ,  to  thepayment\n",
      " of any amounts owing ...\n",
      "DEBUG:llama_index.node_parser.node_utils:> Adding chunk: and (y) such Loans were made at a time when the...\n",
      "> Adding chunk: and (y) such Loans were made at a time when the...\n",
      "DEBUG:llama_index.node_parser.node_utils:> Adding chunk: (iii)\n",
      "Certain  Fees.  No  Defaulting  Lender  s...\n",
      "> Adding chunk: (iii)\n",
      "Certain  Fees.  No  Defaulting  Lender  s...\n",
      "DEBUG:llama_index.node_parser.node_utils:> Adding chunk: (b)\n",
      "Defaulting  Lender Cure.  If the Company an...\n",
      "> Adding chunk: (b)\n",
      "Defaulting  Lender Cure.  If the Company an...\n",
      "DEBUG:llama_index.node_parser.node_utils:> Adding chunk: Lender was a Defaulting Lender and all amendmen...\n",
      "> Adding chunk: Lender was a Defaulting Lender and all amendmen...\n",
      "DEBUG:llama_index.node_parser.node_utils:> Adding chunk: 2.14\n",
      "Designated Borrowers . (a)\n",
      "The  Company ma...\n",
      "> Adding chunk: 2.14\n",
      "Designated Borrowers . (a)\n",
      "The  Company ma...\n",
      "DEBUG:llama_index.node_parser.node_utils:> Adding chunk: The parties hereto acknowledge and agree that p...\n",
      "> Adding chunk: The parties hereto acknowledge and agree that p...\n",
      "DEBUG:llama_index.node_parser.node_utils:> Adding chunk: including OFAC, the PATRIOTAct\n",
      " and, to the ext...\n",
      "> Adding chunk: including OFAC, the PATRIOTAct\n",
      " and, to the ext...\n",
      "DEBUG:llama_index.node_parser.node_utils:> Adding chunk: If  theAdministrative\n",
      " Agent  and  each  of  th...\n",
      "> Adding chunk: If  theAdministrative\n",
      " Agent  and  each  of  th...\n",
      "DEBUG:llama_index.node_parser.node_utils:> Adding chunk: For so long as it is a DesignatedBorrower, the ...\n",
      "> Adding chunk: For so long as it is a DesignatedBorrower, the ...\n",
      "DEBUG:llama_index.node_parser.node_utils:> Adding chunk: Notwithstanding anything contained to the contr...\n",
      "> Adding chunk: Notwithstanding anything contained to the contr...\n",
      "DEBUG:llama_index.node_parser.node_utils:> Adding chunk: (c)\n",
      "Each Subsidiary  of the Company that is or ...\n",
      "> Adding chunk: (c)\n",
      "Each Subsidiary  of the Company that is or ...\n",
      "DEBUG:llama_index.node_parser.node_utils:> Adding chunk: communication  delivered  to  the  Company  in ...\n",
      "> Adding chunk: communication  delivered  to  the  Company  in ...\n",
      "DEBUG:llama_index.node_parser.node_utils:> Adding chunk: (a)\n",
      "Payments  Free of Taxes; Obligation to With...\n",
      "> Adding chunk: (a)\n",
      "Payments  Free of Taxes; Obligation to With...\n",
      "DEBUG:llama_index.node_parser.node_utils:> Adding chunk: (ii) If any Loan Party or the Administrative Ag...\n",
      "> Adding chunk: (ii) If any Loan Party or the Administrative Ag...\n",
      "DEBUG:llama_index.node_parser.node_utils:> Adding chunk: (iii) If any Loan Party or the Administrative A...\n",
      "> Adding chunk: (iii) If any Loan Party or the Administrative A...\n",
      "DEBUG:llama_index.node_parser.node_utils:> Adding chunk: (b)Payment of Other Taxes by the Loan Parties ....\n",
      "> Adding chunk: (b)Payment of Other Taxes by the Loan Parties ....\n",
      "DEBUG:llama_index.node_parser.node_utils:> Adding chunk: and any penalties, interest and reasonable expe...\n",
      "> Adding chunk: and any penalties, interest and reasonable expe...\n",
      "DEBUG:llama_index.node_parser.node_utils:> Adding chunk: (y)  such  penalties,  interest  and  other  li...\n",
      "> Adding chunk: (y)  such  penalties,  interest  and  other  li...\n",
      "DEBUG:llama_index.node_parser.node_utils:> Adding chunk: If the Administrative Agent or any Lender recei...\n",
      "> Adding chunk: If the Administrative Agent or any Lender recei...\n",
      "DEBUG:llama_index.node_parser.node_utils:> Adding chunk: Each ofthe\n",
      " Loan Parties shall, and does hereby...\n",
      "> Adding chunk: Each ofthe\n",
      " Loan Parties shall, and does hereby...\n",
      "DEBUG:llama_index.node_parser.node_utils:> Adding chunk: 06(d)  relating to the maintenance of a Partici...\n",
      "> Adding chunk: 06(d)  relating to the maintenance of a Partici...\n",
      "DEBUG:llama_index.node_parser.node_utils:> Adding chunk: Administrative Agent) arising therefrom or with...\n",
      "> Adding chunk: Administrative Agent) arising therefrom or with...\n",
      "DEBUG:llama_index.node_parser.node_utils:> Adding chunk: (d)\n",
      "Evidence of Payments . As soon as practicab...\n",
      "> Adding chunk: (d)\n",
      "Evidence of Payments . As soon as practicab...\n",
      "DEBUG:llama_index.node_parser.node_utils:> Adding chunk: (e)\n",
      "Status  of Lenders; Tax Documentation.  (i)...\n",
      "> Adding chunk: (e)\n",
      "Status  of Lenders; Tax Documentation.  (i)...\n",
      "DEBUG:llama_index.node_parser.node_utils:> Adding chunk: shall  deliver  such  otherdocumentation\n",
      " presc...\n",
      "> Adding chunk: shall  deliver  such  otherdocumentation\n",
      " presc...\n",
      "DEBUG:llama_index.node_parser.node_utils:> Adding chunk: execution  orsubmission\n",
      " would  subject  such  ...\n",
      "> Adding chunk: execution  orsubmission\n",
      " would  subject  such  ...\n",
      "DEBUG:llama_index.node_parser.node_utils:> Adding chunk: Person shall deliver to the Company and the Adm...\n",
      "> Adding chunk: Person shall deliver to the Company and the Adm...\n",
      "DEBUG:llama_index.node_parser.node_utils:> Adding chunk: (B)    any Foreign Lender shall, to the extent ...\n",
      "> Adding chunk: (B)    any Foreign Lender shall, to the extent ...\n",
      "DEBUG:llama_index.node_parser.node_utils:> Adding chunk: federal withholding Tax pursuantto the “interes...\n",
      "> Adding chunk: federal withholding Tax pursuantto the “interes...\n",
      "DEBUG:llama_index.node_parser.node_utils:> Adding chunk: (x) a certificate substantially in the form of ...\n",
      "> Adding chunk: (x) a certificate substantially in the form of ...\n",
      "DEBUG:llama_index.node_parser.node_utils:> Adding chunk: S. Tax Compliance Certificate ”) and (y)  execu...\n",
      "> Adding chunk: S. Tax Compliance Certificate ”) and (y)  execu...\n",
      "DEBUG:llama_index.node_parser.node_utils:> Adding chunk: Tax  ComplianceCertificate\n",
      " substantially in th...\n",
      "> Adding chunk: Tax  ComplianceCertificate\n",
      " substantially in th...\n",
      "DEBUG:llama_index.node_parser.node_utils:> Adding chunk: Tax  Compliance  Certificate  substantially  in...\n",
      "> Adding chunk: Tax  Compliance  Certificate  substantially  in...\n",
      "DEBUG:llama_index.node_parser.node_utils:> Adding chunk: federal  withholding  Tax,  duly  completed,  t...\n",
      "> Adding chunk: federal  withholding  Tax,  duly  completed,  t...\n",
      "DEBUG:llama_index.node_parser.node_utils:> Adding chunk: with the applicable reporting requirements of F...\n",
      "> Adding chunk: with the applicable reporting requirements of F...\n",
      "DEBUG:llama_index.node_parser.node_utils:> Adding chunk: (iii)\n",
      "    Each Lender agrees that if any form o...\n",
      "> Adding chunk: (iii)\n",
      "    Each Lender agrees that if any form o...\n",
      "DEBUG:llama_index.node_parser.node_utils:> Adding chunk: or additionalamounts paid, by a Loan Party unde...\n",
      "> Adding chunk: or additionalamounts paid, by a Loan Party unde...\n",
      "DEBUG:llama_index.node_parser.node_utils:> Adding chunk: (g)\n",
      "Contesting  Indemnified  Taxes.  If  any  L...\n",
      "> Adding chunk: (g)\n",
      "Contesting  Indemnified  Taxes.  If  any  L...\n",
      "DEBUG:llama_index.node_parser.node_utils:> Adding chunk: (h)\n",
      "Survival .  Each party’s obligations under ...\n",
      "> Adding chunk: (h)\n",
      "Survival .  Each party’s obligations under ...\n",
      "DEBUG:llama_index.node_parser.node_utils:> Adding chunk: 3.02\n",
      "Illegality . If  any  Lender  reasonably  ...\n",
      "> Adding chunk: 3.02\n",
      "Illegality . If  any  Lender  reasonably  ...\n",
      "DEBUG:llama_index.node_parser.node_utils:> Adding chunk: Eurocurrency Rate Loans or SONIA Loans, as appl...\n",
      "> Adding chunk: Eurocurrency Rate Loans or SONIA Loans, as appl...\n",
      "DEBUG:llama_index.node_parser.node_utils:> Adding chunk: upondemand from such Lender (with a copy to the...\n",
      "> Adding chunk: upondemand from such Lender (with a copy to the...\n",
      "DEBUG:llama_index.node_parser.node_utils:> Adding chunk: the  Administrative  Agent  shall  during  the ...\n",
      "> Adding chunk: the  Administrative  Agent  shall  during  the ...\n",
      "DEBUG:llama_index.node_parser.node_utils:> Adding chunk: (i) (A) in the case of a EurocurrencyRate\n",
      " Borr...\n",
      "> Adding chunk: (i) (A) in the case of a EurocurrencyRate\n",
      " Borr...\n",
      "DEBUG:llama_index.node_parser.node_utils:> Adding chunk: or (ii) the AdministrativeAgent\n",
      " or the Require...\n",
      "> Adding chunk: or (ii) the AdministrativeAgent\n",
      " or the Require...\n",
      "DEBUG:llama_index.node_parser.node_utils:> Adding chunk: be continued as a Base Rate Borrowing or (2) ot...\n",
      "> Adding chunk: be continued as a Base Rate Borrowing or (2) ot...\n",
      "DEBUG:llama_index.node_parser.node_utils:> Adding chunk: the  Administrative  Agent  and  the  Company  ...\n",
      "> Adding chunk: the  Administrative  Agent  and  the  Company  ...\n",
      "DEBUG:llama_index.node_parser.node_utils:> Adding chunk: Any such amendment with respect to an Early Opt...\n",
      "> Adding chunk: Any such amendment with respect to an Early Opt...\n",
      "DEBUG:llama_index.node_parser.node_utils:> Adding chunk: (iii)\n",
      "The  Administrative  Agent  will  promptl...\n",
      "> Adding chunk: (iii)\n",
      "The  Administrative  Agent  will  promptl...\n",
      "DEBUG:llama_index.node_parser.node_utils:> Adding chunk: (iv)\n",
      "Upon  the Company’s receipt of notice of t...\n",
      "> Adding chunk: (iv)\n",
      "Upon  the Company’s receipt of notice of t...\n",
      "DEBUG:llama_index.node_parser.node_utils:> Adding chunk: (v)\n",
      "Any  determination,  decision  or  election...\n",
      "> Adding chunk: (v)\n",
      "Any  determination,  decision  or  election...\n",
      "DEBUG:llama_index.node_parser.node_utils:> Adding chunk: (a)\n",
      "Increased Costs Generally . If any Change i...\n",
      "> Adding chunk: (a)\n",
      "Increased Costs Generally . If any Change i...\n",
      "DEBUG:llama_index.node_parser.node_utils:> Adding chunk: (ii)impose  on any Lender or the relevant inter...\n",
      "> Adding chunk: (ii)impose  on any Lender or the relevant inter...\n",
      "DEBUG:llama_index.node_parser.node_utils:> Adding chunk: (b)\n",
      "Capital  and Liquidity Requirements.  If an...\n",
      "> Adding chunk: (b)\n",
      "Capital  and Liquidity Requirements.  If an...\n",
      "DEBUG:llama_index.node_parser.node_utils:> Adding chunk: then  from  time  to  time  the  Company  will ...\n",
      "> Adding chunk: then  from  time  to  time  the  Company  will ...\n",
      "DEBUG:llama_index.node_parser.node_utils:> Adding chunk: Such Lender shall also certify that it is gener...\n",
      "> Adding chunk: Such Lender shall also certify that it is gener...\n",
      "DEBUG:llama_index.node_parser.node_utils:> Adding chunk: (d)\n",
      "Delay in Requests . Failure or delay  on th...\n",
      "> Adding chunk: (d)\n",
      "Delay in Requests . Failure or delay  on th...\n",
      "DEBUG:llama_index.node_parser.node_utils:> Adding chunk: (e)\n",
      "Additional  Reserve Requirements.  The Comp...\n",
      "> Adding chunk: (e)\n",
      "Additional  Reserve Requirements.  The Comp...\n",
      "DEBUG:llama_index.node_parser.node_utils:> Adding chunk: reasonably determines to be relevant (which det...\n",
      "> Adding chunk: reasonably determines to be relevant (which det...\n",
      "DEBUG:llama_index.node_parser.node_utils:> Adding chunk: cost or expense incurred by it (other than by r...\n",
      "> Adding chunk: cost or expense incurred by it (other than by r...\n",
      "DEBUG:llama_index.node_parser.node_utils:> Adding chunk: or\n",
      "(d)\n",
      "any assignment  of a Eurocurrency Rate L...\n",
      "> Adding chunk: or\n",
      "(d)\n",
      "any assignment  of a Eurocurrency Rate L...\n",
      "DEBUG:llama_index.node_parser.node_utils:> Adding chunk: For\n",
      " purposes of calculating amounts payable by...\n",
      "> Adding chunk: For\n",
      " purposes of calculating amounts payable by...\n",
      "DEBUG:llama_index.node_parser.node_utils:> Adding chunk: If\n",
      " any Lender requests compensation under Sect...\n",
      "> Adding chunk: If\n",
      " any Lender requests compensation under Sect...\n",
      "DEBUG:llama_index.node_parser.node_utils:> Adding chunk: 02,  as applicable, and (ii) in each case, woul...\n",
      "> Adding chunk: 02,  as applicable, and (ii) in each case, woul...\n",
      "DEBUG:llama_index.node_parser.node_utils:> Adding chunk: pay (or cause the applicable Designated Borrowe...\n",
      "> Adding chunk: pay (or cause the applicable Designated Borrowe...\n",
      "DEBUG:llama_index.node_parser.node_utils:> Adding chunk: 3.07\n",
      "Survival . All  obligations  of  the  Loan...\n",
      "> Adding chunk: 3.07\n",
      "Survival . All  obligations  of  the  Loan...\n",
      "DEBUG:llama_index.node_parser.node_utils:> Adding chunk: (ii)\n",
      "Notes executed by the Company in favor of ...\n",
      "> Adding chunk: (ii)\n",
      "Notes executed by the Company in favor of ...\n",
      "DEBUG:llama_index.node_parser.node_utils:> Adding chunk: Dunn  &  Crutcher  LLP,  special  U.S.  counsel...\n",
      "> Adding chunk: Dunn  &  Crutcher  LLP,  special  U.S.  counsel...\n",
      "DEBUG:llama_index.node_parser.node_utils:> Adding chunk: (vi)all Regulatory Information reasonably reque...\n",
      "> Adding chunk: (vi)all Regulatory Information reasonably reque...\n",
      "DEBUG:llama_index.node_parser.node_utils:> Adding chunk: (d)\n",
      "Unless  waived by the Administrative Agent,...\n",
      "> Adding chunk: (d)\n",
      "Unless  waived by the Administrative Agent,...\n",
      "DEBUG:llama_index.node_parser.node_utils:> Adding chunk: Without\n",
      " limiting the generality of the provisi...\n",
      "> Adding chunk: Without\n",
      " limiting the generality of the provisi...\n",
      "DEBUG:llama_index.node_parser.node_utils:> Adding chunk: or a continuation of Eurocurrency Rate Loans) i...\n",
      "> Adding chunk: or a continuation of Eurocurrency Rate Loans) i...\n",
      "DEBUG:llama_index.node_parser.node_utils:> Adding chunk: in\n",
      " which case they shall be true and correct i...\n",
      "> Adding chunk: in\n",
      " which case they shall be true and correct i...\n",
      "DEBUG:llama_index.node_parser.node_utils:> Adding chunk: (e)In  the case of a Borrowing to be denominate...\n",
      "> Adding chunk: (e)In  the case of a Borrowing to be denominate...\n",
      "DEBUG:llama_index.node_parser.node_utils:> Adding chunk: ARTICLE V.\n",
      "REPRESENTATIONS AND WARRANTIES\n",
      "Each ...\n",
      "> Adding chunk: ARTICLE V.\n",
      "REPRESENTATIONS AND WARRANTIES\n",
      "Each ...\n",
      "DEBUG:llama_index.node_parser.node_utils:> Adding chunk: 5.02\n",
      "Authorization;  No  Contravention. The  ex...\n",
      "> Adding chunk: 5.02\n",
      "Authorization;  No  Contravention. The  ex...\n",
      "DEBUG:llama_index.node_parser.node_utils:> Adding chunk: 5.03\n",
      "Governmental Authorization; Other Consents...\n",
      "> Adding chunk: 5.03\n",
      "Governmental Authorization; Other Consents...\n",
      "DEBUG:llama_index.node_parser.node_utils:> Adding chunk: This Agreement constitutes, and each other Loan...\n",
      "> Adding chunk: This Agreement constitutes, and each other Loan...\n",
      "DEBUG:llama_index.node_parser.node_utils:> Adding chunk: present in all material respects the financial ...\n",
      "> Adding chunk: present in all material respects the financial ...\n",
      "DEBUG:llama_index.node_parser.node_utils:> Adding chunk: (c)\n",
      "Since  the  date  of  the  Audited  Financi...\n",
      "> Adding chunk: (c)\n",
      "Since  the  date  of  the  Audited  Financi...\n",
      "DEBUG:llama_index.node_parser.node_utils:> Adding chunk: 5.07\n",
      "ERISA Compliance . (a)\n",
      "Except  as would no...\n",
      "> Adding chunk: 5.07\n",
      "ERISA Compliance . (a)\n",
      "Except  as would no...\n",
      "DEBUG:llama_index.node_parser.node_utils:> Adding chunk: and (iv) neither the Company nor any ERISA Affi...\n",
      "> Adding chunk: and (iv) neither the Company nor any ERISA Affi...\n",
      "DEBUG:llama_index.node_parser.node_utils:> Adding chunk: 5.09\n",
      "Compliance  with  Laws. Each  Loan  Party ...\n",
      "> Adding chunk: 5.09\n",
      "Compliance  with  Laws. Each  Loan  Party ...\n",
      "DEBUG:llama_index.node_parser.node_utils:> Adding chunk: or (b) the failure to comply therewith, either ...\n",
      "> Adding chunk: or (b) the failure to comply therewith, either ...\n",
      "DEBUG:llama_index.node_parser.node_utils:> Adding chunk: 5.11\n",
      "Sanctions . Neither the Borrowers, nor any...\n",
      "> Adding chunk: 5.11\n",
      "Sanctions . Neither the Borrowers, nor any...\n",
      "DEBUG:llama_index.node_parser.node_utils:> Adding chunk: The Company is not an Affected Financial Instit...\n",
      "> Adding chunk: The Company is not an Affected Financial Instit...\n",
      "DEBUG:llama_index.node_parser.node_utils:> Adding chunk: and  the  related  consolidated  statements  of...\n",
      "> Adding chunk: and  the  related  consolidated  statements  of...\n",
      "DEBUG:llama_index.node_parser.node_utils:> Adding chunk: and  the  relatedconsolidated\n",
      " statements of ch...\n",
      "> Adding chunk: and  the  relatedconsolidated\n",
      " statements of ch...\n",
      "DEBUG:llama_index.node_parser.node_utils:> Adding chunk: not be in derogation of the obligation of the C...\n",
      "> Adding chunk: not be in derogation of the obligation of the C...\n",
      "DEBUG:llama_index.node_parser.node_utils:> Adding chunk: and (c)\n",
      "promptly following  any reasonable requ...\n",
      "> Adding chunk: and (c)\n",
      "promptly following  any reasonable requ...\n",
      "DEBUG:llama_index.node_parser.node_utils:> Adding chunk: Documents\n",
      " required to be delivered pursuant to...\n",
      "> Adding chunk: Documents\n",
      " required to be delivered pursuant to...\n",
      "DEBUG:llama_index.node_parser.node_utils:> Adding chunk: Each\n",
      " Borrower hereby acknowledges that the Adm...\n",
      "> Adding chunk: Each\n",
      " Borrower hereby acknowledges that the Adm...\n",
      "DEBUG:llama_index.node_parser.node_utils:> Adding chunk: Each Borrower further acknowledges and\n",
      " agrees ...\n",
      "> Adding chunk: Each Borrower further acknowledges and\n",
      " agrees ...\n",
      "DEBUG:llama_index.node_parser.node_utils:> Adding chunk: 6.03\n",
      "Notices . Promptly  after  any  Responsibl...\n",
      "> Adding chunk: 6.03\n",
      "Notices . Promptly  after  any  Responsibl...\n",
      "DEBUG:llama_index.node_parser.node_utils:> Adding chunk: Each notice pursuant to this Section shall be a...\n",
      "> Adding chunk: Each notice pursuant to this Section shall be a...\n",
      "DEBUG:llama_index.node_parser.node_utils:> Adding chunk: 6.04Payment of Taxes . Pay and discharge as the...\n",
      "> Adding chunk: 6.04Payment of Taxes . Pay and discharge as the...\n",
      "DEBUG:llama_index.node_parser.node_utils:> Adding chunk: 6.06\n",
      "Compliance  with Laws. Comply in all mater...\n",
      "> Adding chunk: 6.06\n",
      "Compliance  with Laws. Comply in all mater...\n",
      "DEBUG:llama_index.node_parser.node_utils:> Adding chunk: 6.08\n",
      "Use  of Proceeds. Use the proceeds of each...\n",
      "> Adding chunk: 6.08\n",
      "Use  of Proceeds. Use the proceeds of each...\n",
      "DEBUG:llama_index.node_parser.node_utils:> Adding chunk: 6.09\n",
      "Anti-Corruption  Laws  and  Sanctions. Mai...\n",
      "> Adding chunk: 6.09\n",
      "Anti-Corruption  Laws  and  Sanctions. Mai...\n",
      "DEBUG:llama_index.node_parser.node_utils:> Adding chunk: The Company shall not, nor shall it permit any ...\n",
      "> Adding chunk: The Company shall not, nor shall it permit any ...\n",
      "DEBUG:llama_index.node_parser.node_utils:> Adding chunk: (c)Liens  for  Taxes  not  yet  delinquent  or ...\n",
      "> Adding chunk: (c)Liens  for  Taxes  not  yet  delinquent  or ...\n",
      "DEBUG:llama_index.node_parser.node_utils:> Adding chunk: surety,\n",
      " stay, customs and appeal bonds, statut...\n",
      "> Adding chunk: surety,\n",
      " stay, customs and appeal bonds, statut...\n",
      "DEBUG:llama_index.node_parser.node_utils:> Adding chunk: interim lease lines or progresspayment\n",
      " agreeme...\n",
      "> Adding chunk: interim lease lines or progresspayment\n",
      " agreeme...\n",
      "DEBUG:llama_index.node_parser.node_utils:> Adding chunk: (j)\n",
      "Liens  arising out of conditional sale, tit...\n",
      "> Adding chunk: (j)\n",
      "Liens  arising out of conditional sale, tit...\n",
      "DEBUG:llama_index.node_parser.node_utils:> Adding chunk: (l)\n",
      "(i)  licenses, releases, immunities or othe...\n",
      "> Adding chunk: (l)\n",
      "(i)  licenses, releases, immunities or othe...\n",
      "DEBUG:llama_index.node_parser.node_utils:> Adding chunk: from leases, licenses, subleases or sublicenses...\n",
      "> Adding chunk: from leases, licenses, subleases or sublicenses...\n",
      "DEBUG:llama_index.node_parser.node_utils:> Adding chunk: (p)\n",
      "Liens  incurred in connection with the purc...\n",
      "> Adding chunk: (p)\n",
      "Liens  incurred in connection with the purc...\n",
      "DEBUG:llama_index.node_parser.node_utils:> Adding chunk: (t)\n",
      "Other  Permitted  Liens  and  any  renewals...\n",
      "> Adding chunk: (t)\n",
      "Other  Permitted  Liens  and  any  renewals...\n",
      "DEBUG:llama_index.node_parser.node_utils:> Adding chunk: securitization or other financing, propertysecu...\n",
      "> Adding chunk: securitization or other financing, propertysecu...\n",
      "DEBUG:llama_index.node_parser.node_utils:> Adding chunk: Neither this Section 7.01  nor Section 7.02(b) ...\n",
      "> Adding chunk: Neither this Section 7.01  nor Section 7.02(b) ...\n",
      "DEBUG:llama_index.node_parser.node_utils:> Adding chunk: 7.02\n",
      "Fundamental Changes . No Loan Party shall,...\n",
      "> Adding chunk: 7.02\n",
      "Fundamental Changes . No Loan Party shall,...\n",
      "DEBUG:llama_index.node_parser.node_utils:> Adding chunk: (b)\n",
      "Dispose  (or permit the Disposition) of (wh...\n",
      "> Adding chunk: (b)\n",
      "Dispose  (or permit the Disposition) of (wh...\n",
      "DEBUG:llama_index.node_parser.node_utils:> Adding chunk: 7.03\n",
      "Sanctions . No Loan Party shall directly o...\n",
      "> Adding chunk: 7.03\n",
      "Sanctions . No Loan Party shall directly o...\n",
      "DEBUG:llama_index.node_parser.node_utils:> Adding chunk: 7.04\n",
      "Anti-Corruption Laws . No Loan Party shall...\n",
      "> Adding chunk: 7.04\n",
      "Anti-Corruption Laws . No Loan Party shall...\n",
      "DEBUG:llama_index.node_parser.node_utils:> Adding chunk: Any Loan Party fails to pay (i) when and as req...\n",
      "> Adding chunk: Any Loan Party fails to pay (i) when and as req...\n",
      "DEBUG:llama_index.node_parser.node_utils:> Adding chunk: (c)Other  Defaults.  Any Loan Party fails to pe...\n",
      "> Adding chunk: (c)Other  Defaults.  Any Loan Party fails to pe...\n",
      "DEBUG:llama_index.node_parser.node_utils:> Adding chunk: The Company or any Subsidiary (i) fails to make...\n",
      "> Adding chunk: The Company or any Subsidiary (i) fails to make...\n",
      "DEBUG:llama_index.node_parser.node_utils:> Adding chunk: the effect of such default or other event is to...\n",
      "> Adding chunk: the effect of such default or other event is to...\n",
      "DEBUG:llama_index.node_parser.node_utils:> Adding chunk: or  any  receiver,trustee,\n",
      " custodian, conserva...\n",
      "> Adding chunk: or  any  receiver,trustee,\n",
      " custodian, conserva...\n",
      "DEBUG:llama_index.node_parser.node_utils:> Adding chunk: 000,000,000  (to  the  extent  not  covered  by...\n",
      "> Adding chunk: 000,000,000  (to  the  extent  not  covered  by...\n",
      "DEBUG:llama_index.node_parser.node_utils:> Adding chunk: 8.02Remedies  Upon  Event  of  Default. If  any...\n",
      "> Adding chunk: 8.02Remedies  Upon  Event  of  Default. If  any...\n",
      "DEBUG:llama_index.node_parser.node_utils:> Adding chunk: provided\n",
      ", however,  that  upon  the  occurrenc...\n",
      "> Adding chunk: provided\n",
      ", however,  that  upon  the  occurrenc...\n",
      "DEBUG:llama_index.node_parser.node_utils:> Adding chunk: to payment of that portion of the Obligations c...\n",
      "> Adding chunk: to payment of that portion of the Obligations c...\n",
      "DEBUG:llama_index.node_parser.node_utils:> Adding chunk: to payment of that portion of the Obligations c...\n",
      "> Adding chunk: to payment of that portion of the Obligations c...\n",
      "DEBUG:llama_index.node_parser.node_utils:> Adding chunk: authorizes the Administrative Agent to take suc...\n",
      "> Adding chunk: authorizes the Administrative Agent to take suc...\n",
      "DEBUG:llama_index.node_parser.node_utils:> Adding chunk: It is understood andagreed\n",
      " that the use of the...\n",
      "> Adding chunk: It is understood andagreed\n",
      " that the use of the...\n",
      "DEBUG:llama_index.node_parser.node_utils:> Adding chunk: Such Person and its Affiliates may accept depos...\n",
      "> Adding chunk: Such Person and its Affiliates may accept depos...\n",
      "DEBUG:llama_index.node_parser.node_utils:> Adding chunk: regardless of whether a Default has occurred an...\n",
      "> Adding chunk: regardless of whether a Default has occurred an...\n",
      "DEBUG:llama_index.node_parser.node_utils:> Adding chunk: modification or termination ofproperty of a Def...\n",
      "> Adding chunk: modification or termination ofproperty of a Def...\n",
      "DEBUG:llama_index.node_parser.node_utils:> Adding chunk: The\n",
      " Administrative Agent shall not be liable f...\n",
      "> Adding chunk: The\n",
      " Administrative Agent shall not be liable f...\n",
      "DEBUG:llama_index.node_parser.node_utils:> Adding chunk: (stating that it is a “notice of default”) desc...\n",
      "> Adding chunk: (stating that it is a “notice of default”) desc...\n",
      "DEBUG:llama_index.node_parser.node_utils:> Adding chunk: instrument or document (including, for theavoid...\n",
      "> Adding chunk: instrument or document (including, for theavoid...\n",
      "DEBUG:llama_index.node_parser.node_utils:> Adding chunk: The Administrative Agent also\n",
      " may rely upon an...\n",
      "> Adding chunk: The Administrative Agent also\n",
      " may rely upon an...\n",
      "DEBUG:llama_index.node_parser.node_utils:> Adding chunk: 9.05\n",
      "Delegation  of  Duties. The  Administrativ...\n",
      "> Adding chunk: 9.05\n",
      "Delegation  of  Duties. The  Administrativ...\n",
      "DEBUG:llama_index.node_parser.node_utils:> Adding chunk: The  exculpatory  provisions  of  this  Article...\n",
      "> Adding chunk: The  exculpatory  provisions  of  this  Article...\n",
      "DEBUG:llama_index.node_parser.node_utils:> Adding chunk: Upon receipt of anysuch notice\n",
      " of resignation,...\n",
      "> Adding chunk: Upon receipt of anysuch notice\n",
      " of resignation,...\n",
      "DEBUG:llama_index.node_parser.node_utils:> Adding chunk: resignation (or such earlier day as shall be ag...\n",
      "> Adding chunk: resignation (or such earlier day as shall be ag...\n",
      "DEBUG:llama_index.node_parser.node_utils:> Adding chunk: (b)\n",
      "If  the Person serving as Administrative Ag...\n",
      "> Adding chunk: (b)\n",
      "If  the Person serving as Administrative Ag...\n",
      "DEBUG:llama_index.node_parser.node_utils:> Adding chunk: (c)\n",
      "With  effect  from  the  Resignation  Effec...\n",
      "> Adding chunk: (c)\n",
      "With  effect  from  the  Resignation  Effec...\n",
      "DEBUG:llama_index.node_parser.node_utils:> Adding chunk: Upon the acceptance ofa\n",
      " successor’s appointmen...\n",
      "> Adding chunk: Upon the acceptance ofa\n",
      " successor’s appointmen...\n",
      "DEBUG:llama_index.node_parser.node_utils:> Adding chunk: After the retiring or removed Administrative Ag...\n",
      "> Adding chunk: After the retiring or removed Administrative Ag...\n",
      "DEBUG:llama_index.node_parser.node_utils:> Adding chunk: in each case, in the ordinary course of busines...\n",
      "> Adding chunk: in each case, in the ordinary course of busines...\n",
      "DEBUG:llama_index.node_parser.node_utils:> Adding chunk: is experienced in making, acquiring or holdings...\n",
      "> Adding chunk: is experienced in making, acquiring or holdings...\n",
      "DEBUG:llama_index.node_parser.node_utils:> Adding chunk: and information as it shall from time to time d...\n",
      "> Adding chunk: and information as it shall from time to time d...\n",
      "DEBUG:llama_index.node_parser.node_utils:> Adding chunk: 9.08\n",
      "No  Other Duties, Etc. Anything herein to ...\n",
      "> Adding chunk: 9.08\n",
      "No  Other Duties, Etc. Anything herein to ...\n",
      "DEBUG:llama_index.node_parser.node_utils:> Adding chunk: by intervention in such proceeding or otherwise...\n",
      "> Adding chunk: by intervention in such proceeding or otherwise...\n",
      "DEBUG:llama_index.node_parser.node_utils:> Adding chunk: 07  and 11.04 ) allowed in such judicial procee...\n",
      "> Adding chunk: 07  and 11.04 ) allowed in such judicial procee...\n",
      "DEBUG:llama_index.node_parser.node_utils:> Adding chunk: 07  and 11.04 . Nothing\n",
      " contained herein shall...\n",
      "> Adding chunk: 07  and 11.04 . Nothing\n",
      " contained herein shall...\n",
      "DEBUG:llama_index.node_parser.node_utils:> Adding chunk: at stated maturity, by required prepayment, upo...\n",
      "> Adding chunk: at stated maturity, by required prepayment, upo...\n",
      "DEBUG:llama_index.node_parser.node_utils:> Adding chunk: This  Guaranty  shall  not  be  affected  by  t...\n",
      "> Adding chunk: This  Guaranty  shall  not  be  affected  by  t...\n",
      "DEBUG:llama_index.node_parser.node_utils:> Adding chunk: without\n",
      " notice or demand, and without affectin...\n",
      "> Adding chunk: without\n",
      " notice or demand, and without affectin...\n",
      "DEBUG:llama_index.node_parser.node_utils:> Adding chunk: Without limitingthe\n",
      " generality of the foregoin...\n",
      "> Adding chunk: Without limitingthe\n",
      " generality of the foregoin...\n",
      "DEBUG:llama_index.node_parser.node_utils:> Adding chunk: 10.03\n",
      "Certain  Waivers. The Company waives (a) ...\n",
      "> Adding chunk: 10.03\n",
      "Certain  Waivers. The Company waives (a) ...\n",
      "DEBUG:llama_index.node_parser.node_utils:> Adding chunk: The Company expressly waives all setoffs and co...\n",
      "> Adding chunk: The Company expressly waives all setoffs and co...\n",
      "DEBUG:llama_index.node_parser.node_utils:> Adding chunk: 10.04\n",
      "Obligations Independent .  The obligation...\n",
      "> Adding chunk: 10.04\n",
      "Obligations Independent .  The obligation...\n",
      "DEBUG:llama_index.node_parser.node_utils:> Adding chunk: all  of  the  Obligations  and  any  other  amo...\n",
      "> Adding chunk: all  of  the  Obligations  and  any  other  amo...\n",
      "DEBUG:llama_index.node_parser.node_utils:> Adding chunk: 10.06\n",
      "Termination;  Reinstatement.  This  Guara...\n",
      "> Adding chunk: 10.06\n",
      "Termination;  Reinstatement.  This  Guara...\n",
      "DEBUG:llama_index.node_parser.node_utils:> Adding chunk: Notwithstanding the foregoing, this Guaranty sh...\n",
      "> Adding chunk: Notwithstanding the foregoing, this Guaranty sh...\n",
      "DEBUG:llama_index.node_parser.node_utils:> Adding chunk: The obligations of Company under thisparagraph ...\n",
      "> Adding chunk: The obligations of Company under thisparagraph ...\n",
      "DEBUG:llama_index.node_parser.node_utils:> Adding chunk: 10.09\n",
      "Condition  of  Designated  Borrowers.  Th...\n",
      "> Adding chunk: 10.09\n",
      "Condition  of  Designated  Borrowers.  Th...\n",
      "DEBUG:llama_index.node_parser.node_utils:> Adding chunk: MISCELLANEOUS\n",
      "11.01\n",
      "Amendments, Etc . No amendm...\n",
      "> Adding chunk: MISCELLANEOUS\n",
      "11.01\n",
      "Amendments, Etc . No amendm...\n",
      "DEBUG:llama_index.node_parser.node_utils:> Adding chunk: Agreement, the applicable Loan Party, as the ca...\n",
      "> Adding chunk: Agreement, the applicable Loan Party, as the ca...\n",
      "DEBUG:llama_index.node_parser.node_utils:> Adding chunk: or (subject, for the avoidance of doubt, to the...\n",
      "> Adding chunk: or (subject, for the avoidance of doubt, to the...\n",
      "DEBUG:llama_index.node_parser.node_utils:> Adding chunk: (f)\n",
      "change  any provision of this Section or th...\n",
      "> Adding chunk: (f)\n",
      "change  any provision of this Section or th...\n",
      "DEBUG:llama_index.node_parser.node_utils:> Adding chunk: (iii)  this  Agreement  and  the  other  Loan  ...\n",
      "> Adding chunk: (iii)  this  Agreement  and  the  other  Loan  ...\n",
      "DEBUG:llama_index.node_parser.node_utils:> Adding chunk: omission,  defect  or  inconsistency  so  long ...\n",
      "> Adding chunk: omission,  defect  or  inconsistency  so  long ...\n",
      "DEBUG:llama_index.node_parser.node_utils:> Adding chunk: waiver or consent hereunder or under any other ...\n",
      "> Adding chunk: waiver or consent hereunder or under any other ...\n",
      "DEBUG:llama_index.node_parser.node_utils:> Adding chunk: mailed by certified or registered mail or sent ...\n",
      "> Adding chunk: mailed by certified or registered mail or sent ...\n",
      "DEBUG:llama_index.node_parser.node_utils:> Adding chunk: mailed by certified or registered mail to the a...\n",
      "> Adding chunk: mailed by certified or registered mail to the a...\n",
      "DEBUG:llama_index.node_parser.node_utils:> Adding chunk: Notices\n",
      " and other communications sent by hand ...\n",
      "> Adding chunk: Notices\n",
      " and other communications sent by hand ...\n",
      "DEBUG:llama_index.node_parser.node_utils:> Adding chunk: (b)\n",
      "Electronic  Communications.  Notices  and  ...\n",
      "> Adding chunk: (b)\n",
      "Electronic  Communications.  Notices  and  ...\n",
      "DEBUG:llama_index.node_parser.node_utils:> Adding chunk: Notices and other communicationsto\n",
      " the  Admini...\n",
      "> Adding chunk: Notices and other communicationsto\n",
      " the  Admini...\n",
      "DEBUG:llama_index.node_parser.node_utils:> Adding chunk: shall  be  deemed  received  upon  the  deemed ...\n",
      "> Adding chunk: shall  be  deemed  received  upon  the  deemed ...\n",
      "DEBUG:llama_index.node_parser.node_utils:> Adding chunk: (c)\n",
      "The  Platform.  THE PLATFORM IS PROVIDED “A...\n",
      "> Adding chunk: (c)\n",
      "The  Platform.  THE PLATFORM IS PROVIDED “A...\n",
      "DEBUG:llama_index.node_parser.node_utils:> Adding chunk: NO\n",
      " WARRANTY OF ANY KIND, EXPRESS, IMPLIED OR S...\n",
      "> Adding chunk: NO\n",
      " WARRANTY OF ANY KIND, EXPRESS, IMPLIED OR S...\n",
      "DEBUG:llama_index.node_parser.node_utils:> Adding chunk: In no event shall the Administrative Agent or a...\n",
      "> Adding chunk: In no event shall the Administrative Agent or a...\n",
      "DEBUG:llama_index.node_parser.node_utils:> Adding chunk: (d)\n",
      "Change  of Address, Etc.  Each  of  the  Bo...\n",
      "> Adding chunk: (d)\n",
      "Change  of Address, Etc.  Each  of  the  Bo...\n",
      "DEBUG:llama_index.node_parser.node_utils:> Adding chunk: (e)\n",
      "Telephonic  Notices.  All  telephonic  noti...\n",
      "> Adding chunk: (e)\n",
      "Telephonic  Notices.  All  telephonic  noti...\n",
      "DEBUG:llama_index.node_parser.node_utils:> Adding chunk: Withoutlimiting\n",
      " the generality of the foregoin...\n",
      "> Adding chunk: Withoutlimiting\n",
      " the generality of the foregoin...\n",
      "DEBUG:llama_index.node_parser.node_utils:> Adding chunk: Parties  or  any  of  them  shall  be  vested  ...\n",
      "> Adding chunk: Parties  or  any  of  them  shall  be  vested  ...\n",
      "DEBUG:llama_index.node_parser.node_utils:> Adding chunk: 08 (subject  to  the  terms  of Section  2.11),...\n",
      "> Adding chunk: 08 (subject  to  the  terms  of Section  2.11),...\n",
      "DEBUG:llama_index.node_parser.node_utils:> Adding chunk: enforce anyrights and remedies available to it ...\n",
      "> Adding chunk: enforce anyrights and remedies available to it ...\n",
      "DEBUG:llama_index.node_parser.node_utils:> Adding chunk: as well asthe\n",
      " preparation,  negotiation,  exec...\n",
      "> Adding chunk: as well asthe\n",
      " preparation,  negotiation,  exec...\n",
      "DEBUG:llama_index.node_parser.node_utils:> Adding chunk: including its rights under this Section, or (B)...\n",
      "> Adding chunk: including its rights under this Section, or (B)...\n",
      "DEBUG:llama_index.node_parser.node_utils:> Adding chunk: oneadditional\n",
      " legal counsel for all Indemnitee...\n",
      "> Adding chunk: oneadditional\n",
      " legal counsel for all Indemnitee...\n",
      "DEBUG:llama_index.node_parser.node_utils:> Adding chunk: the consummation of the transactions contemplat...\n",
      "> Adding chunk: the consummation of the transactions contemplat...\n",
      "DEBUG:llama_index.node_parser.node_utils:> Adding chunk: is  a  party  thereto,  IN  ALL  CASES,  WHETHE...\n",
      "> Adding chunk: is  a  party  thereto,  IN  ALL  CASES,  WHETHE...\n",
      "DEBUG:llama_index.node_parser.node_utils:> Adding chunk: (y) result from a claim brought by the Company ...\n",
      "> Adding chunk: (y) result from a claim brought by the Company ...\n",
      "DEBUG:llama_index.node_parser.node_utils:> Adding chunk: Without limiting the provisions of \n",
      "Section 3.0...\n",
      "> Adding chunk: Without limiting the provisions of \n",
      "Section 3.0...\n",
      "DEBUG:llama_index.node_parser.node_utils:> Adding chunk: (c)\n",
      "Reimbursement  by Lenders.  To the extent t...\n",
      "> Adding chunk: (c)\n",
      "Reimbursement  by Lenders.  To the extent t...\n",
      "DEBUG:llama_index.node_parser.node_utils:> Adding chunk: provided\n",
      " further that  the unreimbursed expens...\n",
      "> Adding chunk: provided\n",
      " further that  the unreimbursed expens...\n",
      "DEBUG:llama_index.node_parser.node_utils:> Adding chunk: on any theory of liability,for\n",
      " special,  indir...\n",
      "> Adding chunk: on any theory of liability,for\n",
      " special,  indir...\n",
      "DEBUG:llama_index.node_parser.node_utils:> Adding chunk: None  of  theAdministrative\n",
      " Agent (or any sub-...\n",
      "> Adding chunk: None  of  theAdministrative\n",
      " Agent (or any sub-...\n",
      "DEBUG:llama_index.node_parser.node_utils:> Adding chunk: (e)Payments . All amounts due under this Sectio...\n",
      "> Adding chunk: (e)Payments . All amounts due under this Sectio...\n",
      "DEBUG:llama_index.node_parser.node_utils:> Adding chunk: in connection with any proceedingunder\n",
      " any Deb...\n",
      "> Adding chunk: in connection with any proceedingunder\n",
      " any Deb...\n",
      "DEBUG:llama_index.node_parser.node_utils:> Adding chunk: processing or similar fees customarily charged ...\n",
      "> Adding chunk: processing or similar fees customarily charged ...\n",
      "DEBUG:llama_index.node_parser.node_utils:> Adding chunk: (a)\n",
      "Successors  and Assigns Generally.  The pro...\n",
      "> Adding chunk: (a)\n",
      "Successors  and Assigns Generally.  The pro...\n",
      "DEBUG:llama_index.node_parser.node_utils:> Adding chunk: Nothing in this Agreement, expressed orimplied,...\n",
      "> Adding chunk: Nothing in this Agreement, expressed orimplied,...\n",
      "DEBUG:llama_index.node_parser.node_utils:> Adding chunk: (A)   \n",
      " in the case of an assignment of the ent...\n",
      "> Adding chunk: (A)   \n",
      " in the case of an assignment of the ent...\n",
      "DEBUG:llama_index.node_parser.node_utils:> Adding chunk: assignment to a Lender, an Affiliate of a Lende...\n",
      "> Adding chunk: assignment to a Lender, an Affiliate of a Lende...\n",
      "DEBUG:llama_index.node_parser.node_utils:> Adding chunk: as of the Trade Date, shall not be less than $2...\n",
      "> Adding chunk: as of the Trade Date, shall not be less than $2...\n",
      "DEBUG:llama_index.node_parser.node_utils:> Adding chunk: in addition:\n",
      "(A)\n",
      "    the consent of the Company...\n",
      "> Adding chunk: in addition:\n",
      "(A)\n",
      "    the consent of the Company...\n",
      "DEBUG:llama_index.node_parser.node_utils:> Adding chunk: an Affiliate of such Lender or an Approved Fund...\n",
      "> Adding chunk: an Affiliate of such Lender or an Approved Fund...\n",
      "DEBUG:llama_index.node_parser.node_utils:> Adding chunk: (v)\n",
      "    No  Assignment to Certain Persons.  No ...\n",
      "> Adding chunk: (v)\n",
      "    No  Assignment to Certain Persons.  No ...\n",
      "DEBUG:llama_index.node_parser.node_utils:> Adding chunk: (vi)     Certain  Additional  Payments.  In  co...\n",
      "> Adding chunk: (vi)     Certain  Additional  Payments.  In  co...\n",
      "DEBUG:llama_index.node_parser.node_utils:> Adding chunk: to  each  of  which  the  applicable  assignee ...\n",
      "> Adding chunk: to  each  of  which  the  applicable  assignee ...\n",
      "DEBUG:llama_index.node_parser.node_utils:> Adding chunk: the assignee thereunder shall be a party to thi...\n",
      "> Adding chunk: the assignee thereunder shall be a party to thi...\n",
      "DEBUG:llama_index.node_parser.node_utils:> Adding chunk: provided  that  except to the extent otherwise ...\n",
      "> Adding chunk: provided  that  except to the extent otherwise ...\n",
      "DEBUG:llama_index.node_parser.node_utils:> Adding chunk: (c)\n",
      "Register .  The Administrative Agent, actin...\n",
      "> Adding chunk: (c)\n",
      "Register .  The Administrative Agent, actin...\n",
      "DEBUG:llama_index.node_parser.node_utils:> Adding chunk: The entries in the Register shall be conclusive...\n",
      "> Adding chunk: The entries in the Register shall be conclusive...\n",
      "DEBUG:llama_index.node_parser.node_utils:> Adding chunk: (d)\n",
      "Participations .  Any Lender may at any tim...\n",
      "> Adding chunk: (d)\n",
      "Participations .  Any Lender may at any tim...\n",
      "DEBUG:llama_index.node_parser.node_utils:> Adding chunk: obligations  under  this  Agreement  shall  rem...\n",
      "> Adding chunk: obligations  under  this  Agreement  shall  rem...\n",
      "DEBUG:llama_index.node_parser.node_utils:> Adding chunk: Any agreement or instrument pursuant to which a...\n",
      "> Adding chunk: Any agreement or instrument pursuant to which a...\n",
      "DEBUG:llama_index.node_parser.node_utils:> Adding chunk: 01(e)  shall be\n",
      " delivered  to  the  Lender  wh...\n",
      "> Adding chunk: 01(e)  shall be\n",
      " delivered  to  the  Lender  wh...\n",
      "DEBUG:llama_index.node_parser.node_utils:> Adding chunk: than the Lender from which it acquired the appl...\n",
      "> Adding chunk: than the Lender from which it acquired the appl...\n",
      "DEBUG:llama_index.node_parser.node_utils:> Adding chunk: Each Lender that sells a participation shall, a...\n",
      "> Adding chunk: Each Lender that sells a participation shall, a...\n",
      "DEBUG:llama_index.node_parser.node_utils:> Adding chunk: The entries in the Participant Register shall b...\n",
      "> Adding chunk: The entries in the Participant Register shall b...\n",
      "DEBUG:llama_index.node_parser.node_utils:> Adding chunk: 11.07\n",
      "Treatment  of  Certain  Information;  Con...\n",
      "> Adding chunk: 11.07\n",
      "Treatment  of  Certain  Information;  Con...\n",
      "DEBUG:llama_index.node_parser.node_utils:> Adding chunk: regulatory  authority,  such  as  the  National...\n",
      "> Adding chunk: regulatory  authority,  such  as  the  National...\n",
      "DEBUG:llama_index.node_parser.node_utils:> Adding chunk: For  purposes  of  this  Section,“\n",
      "Information”...\n",
      "> Adding chunk: For  purposes  of  this  Section,“\n",
      "Information”...\n",
      "DEBUG:llama_index.node_parser.node_utils:> Adding chunk: on the other, to the extent otherwise applicabl...\n",
      "> Adding chunk: on the other, to the extent otherwise applicabl...\n",
      "DEBUG:llama_index.node_parser.node_utils:> Adding chunk: thisAgreement or\n",
      " payments hereunder, (iii) any...\n",
      "> Adding chunk: thisAgreement or\n",
      " payments hereunder, (iii) any...\n",
      "DEBUG:llama_index.node_parser.node_utils:> Adding chunk: time or demand, provisional or final, in whatev...\n",
      "> Adding chunk: time or demand, provisional or final, in whatev...\n",
      "DEBUG:llama_index.node_parser.node_utils:> Adding chunk: irrespective of whether or notsuch\n",
      " obligations...\n",
      "> Adding chunk: irrespective of whether or notsuch\n",
      " obligations...\n",
      "DEBUG:llama_index.node_parser.node_utils:> Adding chunk: The\n",
      " rights of each Lender and its Affiliates u...\n",
      "> Adding chunk: The\n",
      " rights of each Lender and its Affiliates u...\n",
      "DEBUG:llama_index.node_parser.node_utils:> Adding chunk: Company and the Administrative Agent promptly a...\n",
      "> Adding chunk: Company and the Administrative Agent promptly a...\n",
      "DEBUG:llama_index.node_parser.node_utils:> Adding chunk: In  determining  whether  the  interestcontract...\n",
      "> Adding chunk: In  determining  whether  the  interestcontract...\n",
      "DEBUG:llama_index.node_parser.node_utils:> Adding chunk: but all of which when taken together shall cons...\n",
      "> Adding chunk: but all of which when taken together shall cons...\n",
      "DEBUG:llama_index.node_parser.node_utils:> Adding chunk: all of which provisions shall remain in full fo...\n",
      "> Adding chunk: all of which provisions shall remain in full fo...\n",
      "DEBUG:llama_index.node_parser.node_utils:> Adding chunk: 11.11\n",
      "Survival  of  Representations  and  Warra...\n",
      "> Adding chunk: 11.11\n",
      "Survival  of  Representations  and  Warra...\n",
      "DEBUG:llama_index.node_parser.node_utils:> Adding chunk: 11.12\n",
      "Severability . If  any  provision  of  th...\n",
      "> Adding chunk: 11.12\n",
      "Severability . If  any  provision  of  th...\n",
      "DEBUG:llama_index.node_parser.node_utils:> Adding chunk: Defaulting Lenders shall be limited by Debtor R...\n",
      "> Adding chunk: Defaulting Lenders shall be limited by Debtor R...\n",
      "DEBUG:llama_index.node_parser.node_utils:> Adding chunk: 01 and 3.04 ) and obligations under this Agreem...\n",
      "> Adding chunk: 01 and 3.04 ) and obligations under this Agreem...\n",
      "DEBUG:llama_index.node_parser.node_utils:> Adding chunk: 04  or  payments required to be madepursuant to...\n",
      "> Adding chunk: 04  or  payments required to be madepursuant to...\n",
      "DEBUG:llama_index.node_parser.node_utils:> Adding chunk: (a)\n",
      "GOVERNING LAW . THIS AGREEMENT AND THE OTHE...\n",
      "> Adding chunk: (a)\n",
      "GOVERNING LAW . THIS AGREEMENT AND THE OTHE...\n",
      "DEBUG:llama_index.node_parser.node_utils:> Adding chunk: (b)\n",
      "SUBMISSION  TO  JURISDICTION.  EACH  OF  TH...\n",
      "> Adding chunk: (b)\n",
      "SUBMISSION  TO  JURISDICTION.  EACH  OF  TH...\n",
      "DEBUG:llama_index.node_parser.node_utils:> Adding chunk: THEREBY, IN ANY FORUM OTHER THAN THE COURTS OF ...\n",
      "> Adding chunk: THEREBY, IN ANY FORUM OTHER THAN THE COURTS OF ...\n",
      "DEBUG:llama_index.node_parser.node_utils:> Adding chunk: IN  SUCH  FEDERAL  COURT; PROVIDED  THAT,  IN  ...\n",
      "> Adding chunk: IN  SUCH  FEDERAL  COURT; PROVIDED  THAT,  IN  ...\n",
      "DEBUG:llama_index.node_parser.node_utils:> Adding chunk: EACH  OF  THE  PARTIES  HERETOAGREES\n",
      " THAT A FI...\n",
      "> Adding chunk: EACH  OF  THE  PARTIES  HERETOAGREES\n",
      " THAT A FI...\n",
      "DEBUG:llama_index.node_parser.node_utils:> Adding chunk: (c)\n",
      "WAIVER OF VENUE . EACH PARTY  HERETO HEREBY...\n",
      "> Adding chunk: (c)\n",
      "WAIVER OF VENUE . EACH PARTY  HERETO HEREBY...\n",
      "DEBUG:llama_index.node_parser.node_utils:> Adding chunk: EACH OF THE PARTIES HERETO HEREBY IRREVOCABLY W...\n",
      "> Adding chunk: EACH OF THE PARTIES HERETO HEREBY IRREVOCABLY W...\n",
      "DEBUG:llama_index.node_parser.node_utils:> Adding chunk: (e)\n",
      "PROCESS  AGENT.  EACH  DESIGNATED  BORROWER...\n",
      "> Adding chunk: (e)\n",
      "PROCESS  AGENT.  EACH  DESIGNATED  BORROWER...\n",
      "DEBUG:llama_index.node_parser.node_utils:> Adding chunk: SUMMONS, NOTICES AND DOCUMENTS THAT MAY BE SERV...\n",
      "> Adding chunk: SUMMONS, NOTICES AND DOCUMENTS THAT MAY BE SERV...\n",
      "DEBUG:llama_index.node_parser.node_utils:> Adding chunk: SUCH  SERVICE  MAY  BE  MADE  BYMAILING\n",
      " OR  DE...\n",
      "> Adding chunk: SUCH  SERVICE  MAY  BE  MADE  BYMAILING\n",
      " OR  DE...\n",
      "DEBUG:llama_index.node_parser.node_utils:> Adding chunk: (f)NO  IMMUNITY.\n",
      "> Adding chunk: (f)NO  IMMUNITY.\n",
      "DEBUG:llama_index.node_parser.node_utils:> Adding chunk: (f)NO  IMMUNITY.  IN  THE  EVENT  ANY  DESIGNAT...\n",
      "> Adding chunk: (f)NO  IMMUNITY.  IN  THE  EVENT  ANY  DESIGNAT...\n",
      "DEBUG:llama_index.node_parser.node_utils:> Adding chunk: 11.15\n",
      "Waiver  of  Jury  Trial. EACH  PARTY  HER...\n",
      "> Adding chunk: 11.15\n",
      "Waiver  of  Jury  Trial. EACH  PARTY  HER...\n",
      "DEBUG:llama_index.node_parser.node_utils:> Adding chunk: EXPRESSLY\n",
      " OR OTHERWISE, THAT SUCH OTHER PERSON...\n",
      "> Adding chunk: EXPRESSLY\n",
      " OR OTHERWISE, THAT SUCH OTHER PERSON...\n",
      "DEBUG:llama_index.node_parser.node_utils:> Adding chunk: and acknowledges its Affiliates’ understanding,...\n",
      "> Adding chunk: and acknowledges its Affiliates’ understanding,...\n",
      "DEBUG:llama_index.node_parser.node_utils:> Adding chunk: accounting,  regulatory,  investment  or  tax  ...\n",
      "> Adding chunk: accounting,  regulatory,  investment  or  tax  ...\n",
      "DEBUG:llama_index.node_parser.node_utils:> Adding chunk: or be deemed to have assumed any responsibility...\n",
      "> Adding chunk: or be deemed to have assumed any responsibility...\n",
      "DEBUG:llama_index.node_parser.node_utils:> Adding chunk: Affiliates, and none of the Administrative Agen...\n",
      "> Adding chunk: Affiliates, and none of the Administrative Agen...\n",
      "DEBUG:llama_index.node_parser.node_utils:> Adding chunk: “signed”,  “signature”,  “delivery”,  and  word...\n",
      "> Adding chunk: “signed”,  “signature”,  “delivery”,  and  word...\n",
      "DEBUG:llama_index.node_parser.node_utils:> Adding chunk: provided  that,  notwithstanding anything conta...\n",
      "> Adding chunk: provided  that,  notwithstanding anything conta...\n",
      "DEBUG:llama_index.node_parser.node_utils:> Adding chunk: 11.18\n",
      "USA  PATRIOT Act. Each Lender and the Adm...\n",
      "> Adding chunk: 11.18\n",
      "USA  PATRIOT Act. Each Lender and the Adm...\n",
      "DEBUG:llama_index.node_parser.node_utils:> Adding chunk: Each Borrower shall, promptlyfollowing any\n",
      " rea...\n",
      "> Adding chunk: Each Borrower shall, promptlyfollowing any\n",
      " rea...\n",
      "DEBUG:llama_index.node_parser.node_utils:> Adding chunk: The obligation of each Borrower in respect of a...\n",
      "> Adding chunk: The obligation of each Borrower in respect of a...\n",
      "DEBUG:llama_index.node_parser.node_utils:> Adding chunk: Agreement  Currency  so  purchased  is  less  t...\n",
      "> Adding chunk: Agreement  Currency  so  purchased  is  less  t...\n",
      "DEBUG:llama_index.node_parser.node_utils:> Adding chunk: 11.20\n",
      "Non-Public  Information.  Each Lender ack...\n",
      "> Adding chunk: 11.20\n",
      "Non-Public  Information.  Each Lender ack...\n",
      "DEBUG:llama_index.node_parser.node_utils:> Adding chunk: Each  Lender  represents  to  eachBorrower\n",
      " and...\n",
      "> Adding chunk: Each  Lender  represents  to  eachBorrower\n",
      " and...\n",
      "DEBUG:llama_index.node_parser.node_utils:> Adding chunk: arrangement or understanding among any such par...\n",
      "> Adding chunk: arrangement or understanding among any such par...\n",
      "DEBUG:llama_index.node_parser.node_utils:> Adding chunk: (ii) a conversion of all, or a portion of, such...\n",
      "> Adding chunk: (ii) a conversion of all, or a portion of, such...\n",
      "DEBUG:llama_index.node_parser.node_utils:> Adding chunk: the  Arranger  and  their  respective  Affiliat...\n",
      "> Adding chunk: the  Arranger  and  their  respective  Affiliat...\n",
      "DEBUG:llama_index.node_parser.node_utils:> Adding chunk: PTE  90-1  (a  class  exemption  for  certain  ...\n",
      "> Adding chunk: PTE  90-1  (a  class  exemption  for  certain  ...\n",
      "DEBUG:llama_index.node_parser.node_utils:> Adding chunk: Lender’s entrance into, participation in, admin...\n",
      "> Adding chunk: Lender’s entrance into, participation in, admin...\n",
      "DEBUG:llama_index.node_parser.node_utils:> Adding chunk: participation in, administration of and perform...\n",
      "> Adding chunk: participation in, administration of and perform...\n",
      "DEBUG:llama_index.node_parser.node_utils:> Adding chunk: for  the  benefit  of,  theAdministrative\n",
      " Agen...\n",
      "> Adding chunk: for  the  benefit  of,  theAdministrative\n",
      " Agen...\n",
      "DEBUG:llama_index.node_parser.node_utils:> Adding chunk: any other Loan Document or any documents relate...\n",
      "> Adding chunk: any other Loan Document or any documents relate...\n",
      "DEBUG:llama_index.node_parser.node_utils:> Adding chunk: theCommitments\n",
      " and this Agreement is capable o...\n",
      "> Adding chunk: theCommitments\n",
      " and this Agreement is capable o...\n",
      "DEBUG:llama_index.node_parser.node_utils:> Adding chunk: the Commitments or this Agreement.\n",
      "(c)\n",
      "The  Adm...\n",
      "> Adding chunk: the Commitments or this Agreement.\n",
      "(c)\n",
      "The  Adm...\n",
      "DEBUG:llama_index.node_parser.node_utils:> Adding chunk: the  other  LoanDocuments or otherwise, includi...\n",
      "> Adding chunk: the  other  LoanDocuments or otherwise, includi...\n",
      "DEBUG:llama_index.node_parser.node_utils:> Adding chunk: arrangement fees, facility fees, upfront fees, ...\n",
      "> Adding chunk: arrangement fees, facility fees, upfront fees, ...\n",
      "DEBUG:llama_index.node_parser.node_utils:> Adding chunk: All  rights,  benefits,  interest,  liabilities...\n",
      "> Adding chunk: All  rights,  benefits,  interest,  liabilities...\n",
      "DEBUG:llama_index.node_parser.node_utils:> Adding chunk: shall cease to be the administrative agent unde...\n",
      "> Adding chunk: shall cease to be the administrative agent unde...\n",
      "DEBUG:llama_index.node_parser.node_utils:> Adding chunk: EXHIBIT BLoan Notice\n",
      "[Attached]\n",
      "> Adding chunk: EXHIBIT BLoan Notice\n",
      "[Attached]\n",
      "DEBUG:llama_index.node_parser.node_utils:> Adding chunk: EXHIBIT AFORM OF LOAN NOTICE\n",
      "Date: ____________...\n",
      "> Adding chunk: EXHIBIT AFORM OF LOAN NOTICE\n",
      "Date: ____________...\n",
      "DEBUG:llama_index.node_parser.node_utils:> Adding chunk: The terms defined in the Credit Agreement are u...\n",
      "> Adding chunk: The terms defined in the Credit Agreement are u...\n",
      "DEBUG:llama_index.node_parser.node_utils:> Adding chunk: Borrower: [Company][specify the applicable Desi...\n",
      "> Adding chunk: Borrower: [Company][specify the applicable Desi...\n",
      "DEBUG:llama_index.node_parser.node_utils:> Adding chunk: [AMAZON.COM, INC.][DESIGNATED BORROWER]\n",
      "By:\n",
      "Nam...\n",
      "> Adding chunk: [AMAZON.COM, INC.][DESIGNATED BORROWER]\n",
      "By:\n",
      "Nam...\n",
      "DEBUG:llama_index.node_parser.node_utils:> Adding chunk: Exhibit 21.1AMAZON.COM, INC.\n",
      "LIST OF SIGNIFICAN...\n",
      "> Adding chunk: Exhibit 21.1AMAZON.COM, INC.\n",
      "LIST OF SIGNIFICAN...\n",
      "DEBUG:llama_index.node_parser.node_utils:> Adding chunk: Exhibit 23.1 \n",
      "Consent of Independent Registered...\n",
      "> Adding chunk: Exhibit 23.1 \n",
      "Consent of Independent Registered...\n",
      "DEBUG:llama_index.node_parser.node_utils:> Adding chunk: 333-160831) pertaining to the Zappos.com, Inc. ...\n",
      "> Adding chunk: 333-160831) pertaining to the Zappos.com, Inc. ...\n",
      "DEBUG:llama_index.node_parser.node_utils:> Adding chunk: 333-199572) pertaining to the Twitch Interactiv...\n",
      "> Adding chunk: 333-199572) pertaining to the Twitch Interactiv...\n",
      "DEBUG:llama_index.node_parser.node_utils:> Adding chunk: and the effectiveness of internal control over ...\n",
      "> Adding chunk: and the effectiveness of internal control over ...\n",
      "DEBUG:llama_index.node_parser.node_utils:> Adding chunk: Exhibit 31.1CERTIFICATIONS\n",
      "I, Andrew R. Jassy, ...\n",
      "> Adding chunk: Exhibit 31.1CERTIFICATIONS\n",
      "I, Andrew R. Jassy, ...\n",
      "DEBUG:llama_index.node_parser.node_utils:> Adding chunk: The registrant’s other \n",
      "certifying officer(s) a...\n",
      "> Adding chunk: The registrant’s other \n",
      "certifying officer(s) a...\n",
      "DEBUG:llama_index.node_parser.node_utils:> Adding chunk: (c) Evaluated the ef\n",
      "fectiveness of the registr...\n",
      "> Adding chunk: (c) Evaluated the ef\n",
      "fectiveness of the registr...\n",
      "DEBUG:llama_index.node_parser.node_utils:> Adding chunk: the registrant’sinternal control over financial...\n",
      "> Adding chunk: the registrant’sinternal control over financial...\n",
      "DEBUG:llama_index.node_parser.node_utils:> Adding chunk: Exhibit 31.2CERTIFICATIONS\n",
      "I, Brian T. Olsavsky...\n",
      "> Adding chunk: Exhibit 31.2CERTIFICATIONS\n",
      "I, Brian T. Olsavsky...\n",
      "DEBUG:llama_index.node_parser.node_utils:> Adding chunk: The registrant’s other \n",
      "certifying officer(s) a...\n",
      "> Adding chunk: The registrant’s other \n",
      "certifying officer(s) a...\n",
      "DEBUG:llama_index.node_parser.node_utils:> Adding chunk: (c) Evaluated the ef\n",
      "fectiveness of the registr...\n",
      "> Adding chunk: (c) Evaluated the ef\n",
      "fectiveness of the registr...\n",
      "DEBUG:llama_index.node_parser.node_utils:> Adding chunk: the registrant’sinternal control over financial...\n",
      "> Adding chunk: the registrant’sinternal control over financial...\n",
      "DEBUG:llama_index.node_parser.node_utils:> Adding chunk: Exhibit 32.1Certification Pursuant to 18 U.S.C....\n",
      "> Adding chunk: Exhibit 32.1Certification Pursuant to 18 U.S.C....\n",
      "DEBUG:llama_index.node_parser.node_utils:> Adding chunk: Section 1350, as adopted pursuant to Se\n",
      "ction 9...\n",
      "> Adding chunk: Section 1350, as adopted pursuant to Se\n",
      "ction 9...\n",
      "DEBUG:llama_index.node_parser.node_utils:> Adding chunk: Exhibit 32.2Certification Pursuant to 18 U.S.C....\n",
      "> Adding chunk: Exhibit 32.2Certification Pursuant to 18 U.S.C....\n",
      "DEBUG:llama_index.node_parser.node_utils:> Adding chunk: Section 1350, as \n",
      "adopted pursuant to Section 9...\n",
      "> Adding chunk: Section 1350, as \n",
      "adopted pursuant to Section 9...\n"
     ]
    },
    {
     "data": {
      "application/vnd.jupyter.widget-view+json": {
       "model_id": "42b22006bb6e4d84bd05d9213af4f1a2",
       "version_major": 2,
       "version_minor": 0
      },
      "text/plain": [
       "Batches:   0%|          | 0/1 [00:00<?, ?it/s]"
      ]
     },
     "metadata": {},
     "output_type": "display_data"
    },
    {
     "data": {
      "application/vnd.jupyter.widget-view+json": {
       "model_id": "716ef4fba6e64cde83f208d1280c67c9",
       "version_major": 2,
       "version_minor": 0
      },
      "text/plain": [
       "Batches:   0%|          | 0/1 [00:00<?, ?it/s]"
      ]
     },
     "metadata": {},
     "output_type": "display_data"
    },
    {
     "data": {
      "application/vnd.jupyter.widget-view+json": {
       "model_id": "0bee6d932081486a9ef89c916151a0a0",
       "version_major": 2,
       "version_minor": 0
      },
      "text/plain": [
       "Batches:   0%|          | 0/1 [00:00<?, ?it/s]"
      ]
     },
     "metadata": {},
     "output_type": "display_data"
    },
    {
     "data": {
      "application/vnd.jupyter.widget-view+json": {
       "model_id": "ba3e461292e547ad9852c1d1c370f3ac",
       "version_major": 2,
       "version_minor": 0
      },
      "text/plain": [
       "Batches:   0%|          | 0/1 [00:00<?, ?it/s]"
      ]
     },
     "metadata": {},
     "output_type": "display_data"
    },
    {
     "data": {
      "application/vnd.jupyter.widget-view+json": {
       "model_id": "eb4bb957b6e449bbba86f7669009d35a",
       "version_major": 2,
       "version_minor": 0
      },
      "text/plain": [
       "Batches:   0%|          | 0/1 [00:00<?, ?it/s]"
      ]
     },
     "metadata": {},
     "output_type": "display_data"
    },
    {
     "data": {
      "application/vnd.jupyter.widget-view+json": {
       "model_id": "42ccd38e847546229b5e636477da704a",
       "version_major": 2,
       "version_minor": 0
      },
      "text/plain": [
       "Batches:   0%|          | 0/1 [00:00<?, ?it/s]"
      ]
     },
     "metadata": {},
     "output_type": "display_data"
    },
    {
     "data": {
      "application/vnd.jupyter.widget-view+json": {
       "model_id": "4dfea1468b9b4a2b9c76fba7c815da99",
       "version_major": 2,
       "version_minor": 0
      },
      "text/plain": [
       "Batches:   0%|          | 0/1 [00:00<?, ?it/s]"
      ]
     },
     "metadata": {},
     "output_type": "display_data"
    },
    {
     "data": {
      "application/vnd.jupyter.widget-view+json": {
       "model_id": "fa21ea4c56304e649dfdf39a81916ad8",
       "version_major": 2,
       "version_minor": 0
      },
      "text/plain": [
       "Batches:   0%|          | 0/1 [00:00<?, ?it/s]"
      ]
     },
     "metadata": {},
     "output_type": "display_data"
    },
    {
     "data": {
      "application/vnd.jupyter.widget-view+json": {
       "model_id": "9dd47958a70c42399610f0c829c668ce",
       "version_major": 2,
       "version_minor": 0
      },
      "text/plain": [
       "Batches:   0%|          | 0/1 [00:00<?, ?it/s]"
      ]
     },
     "metadata": {},
     "output_type": "display_data"
    },
    {
     "data": {
      "application/vnd.jupyter.widget-view+json": {
       "model_id": "8a04fd7c87c2479583532d86f59c71cf",
       "version_major": 2,
       "version_minor": 0
      },
      "text/plain": [
       "Batches:   0%|          | 0/1 [00:00<?, ?it/s]"
      ]
     },
     "metadata": {},
     "output_type": "display_data"
    },
    {
     "data": {
      "application/vnd.jupyter.widget-view+json": {
       "model_id": "0d2bc10a2c90428cb884e7a7944dd9db",
       "version_major": 2,
       "version_minor": 0
      },
      "text/plain": [
       "Batches:   0%|          | 0/1 [00:00<?, ?it/s]"
      ]
     },
     "metadata": {},
     "output_type": "display_data"
    },
    {
     "data": {
      "application/vnd.jupyter.widget-view+json": {
       "model_id": "d3f6e5fa8e404623a22d04dd4b681951",
       "version_major": 2,
       "version_minor": 0
      },
      "text/plain": [
       "Batches:   0%|          | 0/1 [00:00<?, ?it/s]"
      ]
     },
     "metadata": {},
     "output_type": "display_data"
    },
    {
     "data": {
      "application/vnd.jupyter.widget-view+json": {
       "model_id": "4bce6ba5ee3c4472bbaade4ccb382dda",
       "version_major": 2,
       "version_minor": 0
      },
      "text/plain": [
       "Batches:   0%|          | 0/1 [00:00<?, ?it/s]"
      ]
     },
     "metadata": {},
     "output_type": "display_data"
    },
    {
     "data": {
      "application/vnd.jupyter.widget-view+json": {
       "model_id": "37643e7ca0c04abdbc2f7e4547ac9268",
       "version_major": 2,
       "version_minor": 0
      },
      "text/plain": [
       "Batches:   0%|          | 0/1 [00:00<?, ?it/s]"
      ]
     },
     "metadata": {},
     "output_type": "display_data"
    },
    {
     "data": {
      "application/vnd.jupyter.widget-view+json": {
       "model_id": "0c1e57d3701d483abf53a280c01a8959",
       "version_major": 2,
       "version_minor": 0
      },
      "text/plain": [
       "Batches:   0%|          | 0/1 [00:00<?, ?it/s]"
      ]
     },
     "metadata": {},
     "output_type": "display_data"
    },
    {
     "data": {
      "application/vnd.jupyter.widget-view+json": {
       "model_id": "e5bd0bf8a64947fc966e63efcb81520c",
       "version_major": 2,
       "version_minor": 0
      },
      "text/plain": [
       "Batches:   0%|          | 0/1 [00:00<?, ?it/s]"
      ]
     },
     "metadata": {},
     "output_type": "display_data"
    },
    {
     "data": {
      "application/vnd.jupyter.widget-view+json": {
       "model_id": "dd1a6ea9520a4245a1c6259cc68e4798",
       "version_major": 2,
       "version_minor": 0
      },
      "text/plain": [
       "Batches:   0%|          | 0/1 [00:00<?, ?it/s]"
      ]
     },
     "metadata": {},
     "output_type": "display_data"
    },
    {
     "data": {
      "application/vnd.jupyter.widget-view+json": {
       "model_id": "432d556f61da407ba688475fedc2676a",
       "version_major": 2,
       "version_minor": 0
      },
      "text/plain": [
       "Batches:   0%|          | 0/1 [00:00<?, ?it/s]"
      ]
     },
     "metadata": {},
     "output_type": "display_data"
    },
    {
     "data": {
      "application/vnd.jupyter.widget-view+json": {
       "model_id": "8c5f0d6e273c4342b105b71e697512e9",
       "version_major": 2,
       "version_minor": 0
      },
      "text/plain": [
       "Batches:   0%|          | 0/1 [00:00<?, ?it/s]"
      ]
     },
     "metadata": {},
     "output_type": "display_data"
    },
    {
     "data": {
      "application/vnd.jupyter.widget-view+json": {
       "model_id": "c5325079a5b84358a5ca5ac90b291bb3",
       "version_major": 2,
       "version_minor": 0
      },
      "text/plain": [
       "Batches:   0%|          | 0/1 [00:00<?, ?it/s]"
      ]
     },
     "metadata": {},
     "output_type": "display_data"
    },
    {
     "data": {
      "application/vnd.jupyter.widget-view+json": {
       "model_id": "5f2bedab0db7490a90ef6b91e0caadbe",
       "version_major": 2,
       "version_minor": 0
      },
      "text/plain": [
       "Batches:   0%|          | 0/1 [00:00<?, ?it/s]"
      ]
     },
     "metadata": {},
     "output_type": "display_data"
    },
    {
     "data": {
      "application/vnd.jupyter.widget-view+json": {
       "model_id": "c5e635341f224f5da674129ecb43373f",
       "version_major": 2,
       "version_minor": 0
      },
      "text/plain": [
       "Batches:   0%|          | 0/1 [00:00<?, ?it/s]"
      ]
     },
     "metadata": {},
     "output_type": "display_data"
    },
    {
     "data": {
      "application/vnd.jupyter.widget-view+json": {
       "model_id": "a45d8c45a591451cb23b4d57532d0077",
       "version_major": 2,
       "version_minor": 0
      },
      "text/plain": [
       "Batches:   0%|          | 0/1 [00:00<?, ?it/s]"
      ]
     },
     "metadata": {},
     "output_type": "display_data"
    },
    {
     "data": {
      "application/vnd.jupyter.widget-view+json": {
       "model_id": "5427563dd78f4926b22b4a331656688e",
       "version_major": 2,
       "version_minor": 0
      },
      "text/plain": [
       "Batches:   0%|          | 0/1 [00:00<?, ?it/s]"
      ]
     },
     "metadata": {},
     "output_type": "display_data"
    },
    {
     "data": {
      "application/vnd.jupyter.widget-view+json": {
       "model_id": "f86dcb0a73b04ada89bd8863e183e12f",
       "version_major": 2,
       "version_minor": 0
      },
      "text/plain": [
       "Batches:   0%|          | 0/1 [00:00<?, ?it/s]"
      ]
     },
     "metadata": {},
     "output_type": "display_data"
    },
    {
     "data": {
      "application/vnd.jupyter.widget-view+json": {
       "model_id": "cdc822940d504fb59941553d9240c73a",
       "version_major": 2,
       "version_minor": 0
      },
      "text/plain": [
       "Batches:   0%|          | 0/1 [00:00<?, ?it/s]"
      ]
     },
     "metadata": {},
     "output_type": "display_data"
    },
    {
     "data": {
      "application/vnd.jupyter.widget-view+json": {
       "model_id": "edb22969c0774e21a36115ec50ad836b",
       "version_major": 2,
       "version_minor": 0
      },
      "text/plain": [
       "Batches:   0%|          | 0/1 [00:00<?, ?it/s]"
      ]
     },
     "metadata": {},
     "output_type": "display_data"
    },
    {
     "data": {
      "application/vnd.jupyter.widget-view+json": {
       "model_id": "0f60b2f26bee4b6c9f8219fb08a73375",
       "version_major": 2,
       "version_minor": 0
      },
      "text/plain": [
       "Batches:   0%|          | 0/1 [00:00<?, ?it/s]"
      ]
     },
     "metadata": {},
     "output_type": "display_data"
    },
    {
     "data": {
      "application/vnd.jupyter.widget-view+json": {
       "model_id": "2aa20cfd4a3d4984ba12dbf490af7ddf",
       "version_major": 2,
       "version_minor": 0
      },
      "text/plain": [
       "Batches:   0%|          | 0/1 [00:00<?, ?it/s]"
      ]
     },
     "metadata": {},
     "output_type": "display_data"
    },
    {
     "data": {
      "application/vnd.jupyter.widget-view+json": {
       "model_id": "f548e6dfa46e4ce3a5c691f4adc8cec4",
       "version_major": 2,
       "version_minor": 0
      },
      "text/plain": [
       "Batches:   0%|          | 0/1 [00:00<?, ?it/s]"
      ]
     },
     "metadata": {},
     "output_type": "display_data"
    },
    {
     "data": {
      "application/vnd.jupyter.widget-view+json": {
       "model_id": "4f91d5a93d0445919a0191b38852cc90",
       "version_major": 2,
       "version_minor": 0
      },
      "text/plain": [
       "Batches:   0%|          | 0/1 [00:00<?, ?it/s]"
      ]
     },
     "metadata": {},
     "output_type": "display_data"
    },
    {
     "data": {
      "application/vnd.jupyter.widget-view+json": {
       "model_id": "8b7a2f6810bd4defbccfcde41633d57a",
       "version_major": 2,
       "version_minor": 0
      },
      "text/plain": [
       "Batches:   0%|          | 0/1 [00:00<?, ?it/s]"
      ]
     },
     "metadata": {},
     "output_type": "display_data"
    },
    {
     "data": {
      "application/vnd.jupyter.widget-view+json": {
       "model_id": "363aed2c7b754c879c0bfc3ac5068b2a",
       "version_major": 2,
       "version_minor": 0
      },
      "text/plain": [
       "Batches:   0%|          | 0/1 [00:00<?, ?it/s]"
      ]
     },
     "metadata": {},
     "output_type": "display_data"
    },
    {
     "data": {
      "application/vnd.jupyter.widget-view+json": {
       "model_id": "e1b62d98a26543be848fd7d65c7ed9d2",
       "version_major": 2,
       "version_minor": 0
      },
      "text/plain": [
       "Batches:   0%|          | 0/1 [00:00<?, ?it/s]"
      ]
     },
     "metadata": {},
     "output_type": "display_data"
    },
    {
     "data": {
      "application/vnd.jupyter.widget-view+json": {
       "model_id": "b5a9c1c7453d43859e999ec2c1dc6f44",
       "version_major": 2,
       "version_minor": 0
      },
      "text/plain": [
       "Batches:   0%|          | 0/1 [00:00<?, ?it/s]"
      ]
     },
     "metadata": {},
     "output_type": "display_data"
    },
    {
     "data": {
      "application/vnd.jupyter.widget-view+json": {
       "model_id": "5863027fda384dcdbd469386a0211dde",
       "version_major": 2,
       "version_minor": 0
      },
      "text/plain": [
       "Batches:   0%|          | 0/1 [00:00<?, ?it/s]"
      ]
     },
     "metadata": {},
     "output_type": "display_data"
    },
    {
     "data": {
      "application/vnd.jupyter.widget-view+json": {
       "model_id": "514eece36b60436b8036d8394bcf5a8c",
       "version_major": 2,
       "version_minor": 0
      },
      "text/plain": [
       "Batches:   0%|          | 0/1 [00:00<?, ?it/s]"
      ]
     },
     "metadata": {},
     "output_type": "display_data"
    },
    {
     "data": {
      "application/vnd.jupyter.widget-view+json": {
       "model_id": "65825a89618f4de7b5b775046ace898a",
       "version_major": 2,
       "version_minor": 0
      },
      "text/plain": [
       "Batches:   0%|          | 0/1 [00:00<?, ?it/s]"
      ]
     },
     "metadata": {},
     "output_type": "display_data"
    },
    {
     "data": {
      "application/vnd.jupyter.widget-view+json": {
       "model_id": "717e526423a0412faae4dcf2c9bf19ba",
       "version_major": 2,
       "version_minor": 0
      },
      "text/plain": [
       "Batches:   0%|          | 0/1 [00:00<?, ?it/s]"
      ]
     },
     "metadata": {},
     "output_type": "display_data"
    },
    {
     "data": {
      "application/vnd.jupyter.widget-view+json": {
       "model_id": "9d425b9662d34af6af18a8ff897a516c",
       "version_major": 2,
       "version_minor": 0
      },
      "text/plain": [
       "Batches:   0%|          | 0/1 [00:00<?, ?it/s]"
      ]
     },
     "metadata": {},
     "output_type": "display_data"
    },
    {
     "data": {
      "application/vnd.jupyter.widget-view+json": {
       "model_id": "dc2a43d7b9cb4dd0b36b17ae67a93139",
       "version_major": 2,
       "version_minor": 0
      },
      "text/plain": [
       "Batches:   0%|          | 0/1 [00:00<?, ?it/s]"
      ]
     },
     "metadata": {},
     "output_type": "display_data"
    },
    {
     "data": {
      "application/vnd.jupyter.widget-view+json": {
       "model_id": "2276be9a2f0b41b8b9344effa435e66d",
       "version_major": 2,
       "version_minor": 0
      },
      "text/plain": [
       "Batches:   0%|          | 0/1 [00:00<?, ?it/s]"
      ]
     },
     "metadata": {},
     "output_type": "display_data"
    },
    {
     "data": {
      "application/vnd.jupyter.widget-view+json": {
       "model_id": "5504005dbc254d72982273088008b5a1",
       "version_major": 2,
       "version_minor": 0
      },
      "text/plain": [
       "Batches:   0%|          | 0/1 [00:00<?, ?it/s]"
      ]
     },
     "metadata": {},
     "output_type": "display_data"
    },
    {
     "data": {
      "application/vnd.jupyter.widget-view+json": {
       "model_id": "cbecec90050241ca9d84603a6827ae94",
       "version_major": 2,
       "version_minor": 0
      },
      "text/plain": [
       "Batches:   0%|          | 0/1 [00:00<?, ?it/s]"
      ]
     },
     "metadata": {},
     "output_type": "display_data"
    },
    {
     "data": {
      "application/vnd.jupyter.widget-view+json": {
       "model_id": "9839b743f7fd475db62aaebec756ab52",
       "version_major": 2,
       "version_minor": 0
      },
      "text/plain": [
       "Batches:   0%|          | 0/1 [00:00<?, ?it/s]"
      ]
     },
     "metadata": {},
     "output_type": "display_data"
    },
    {
     "data": {
      "application/vnd.jupyter.widget-view+json": {
       "model_id": "6614c84213da488aa71869c39e61700d",
       "version_major": 2,
       "version_minor": 0
      },
      "text/plain": [
       "Batches:   0%|          | 0/1 [00:00<?, ?it/s]"
      ]
     },
     "metadata": {},
     "output_type": "display_data"
    },
    {
     "data": {
      "application/vnd.jupyter.widget-view+json": {
       "model_id": "4de32dd8b2a446c58c54a65237881ebb",
       "version_major": 2,
       "version_minor": 0
      },
      "text/plain": [
       "Batches:   0%|          | 0/1 [00:00<?, ?it/s]"
      ]
     },
     "metadata": {},
     "output_type": "display_data"
    },
    {
     "data": {
      "application/vnd.jupyter.widget-view+json": {
       "model_id": "d4b76c0931534164b4d123c919669292",
       "version_major": 2,
       "version_minor": 0
      },
      "text/plain": [
       "Batches:   0%|          | 0/1 [00:00<?, ?it/s]"
      ]
     },
     "metadata": {},
     "output_type": "display_data"
    },
    {
     "data": {
      "application/vnd.jupyter.widget-view+json": {
       "model_id": "22f18427fb2f4d6d938c56e09dc94a31",
       "version_major": 2,
       "version_minor": 0
      },
      "text/plain": [
       "Batches:   0%|          | 0/1 [00:00<?, ?it/s]"
      ]
     },
     "metadata": {},
     "output_type": "display_data"
    },
    {
     "data": {
      "application/vnd.jupyter.widget-view+json": {
       "model_id": "ed2ff7931c8c46719408cdd96d8bc0b6",
       "version_major": 2,
       "version_minor": 0
      },
      "text/plain": [
       "Batches:   0%|          | 0/1 [00:00<?, ?it/s]"
      ]
     },
     "metadata": {},
     "output_type": "display_data"
    },
    {
     "data": {
      "application/vnd.jupyter.widget-view+json": {
       "model_id": "e1821b585d64433e8e5ed2476ad36cdb",
       "version_major": 2,
       "version_minor": 0
      },
      "text/plain": [
       "Batches:   0%|          | 0/1 [00:00<?, ?it/s]"
      ]
     },
     "metadata": {},
     "output_type": "display_data"
    },
    {
     "data": {
      "application/vnd.jupyter.widget-view+json": {
       "model_id": "4e1f1c679d914316ae87cd59b96115e7",
       "version_major": 2,
       "version_minor": 0
      },
      "text/plain": [
       "Batches:   0%|          | 0/1 [00:00<?, ?it/s]"
      ]
     },
     "metadata": {},
     "output_type": "display_data"
    },
    {
     "data": {
      "application/vnd.jupyter.widget-view+json": {
       "model_id": "61b741c4f760426f9ec94075cfdfe3a8",
       "version_major": 2,
       "version_minor": 0
      },
      "text/plain": [
       "Batches:   0%|          | 0/1 [00:00<?, ?it/s]"
      ]
     },
     "metadata": {},
     "output_type": "display_data"
    },
    {
     "data": {
      "application/vnd.jupyter.widget-view+json": {
       "model_id": "482f461431db4e9e9c2f89dbdacd2004",
       "version_major": 2,
       "version_minor": 0
      },
      "text/plain": [
       "Batches:   0%|          | 0/1 [00:00<?, ?it/s]"
      ]
     },
     "metadata": {},
     "output_type": "display_data"
    },
    {
     "data": {
      "application/vnd.jupyter.widget-view+json": {
       "model_id": "48b53e840950451b903e5dbcc64f9382",
       "version_major": 2,
       "version_minor": 0
      },
      "text/plain": [
       "Batches:   0%|          | 0/1 [00:00<?, ?it/s]"
      ]
     },
     "metadata": {},
     "output_type": "display_data"
    },
    {
     "data": {
      "application/vnd.jupyter.widget-view+json": {
       "model_id": "bfebd6af8bba4e25bb411c71e919c467",
       "version_major": 2,
       "version_minor": 0
      },
      "text/plain": [
       "Batches:   0%|          | 0/1 [00:00<?, ?it/s]"
      ]
     },
     "metadata": {},
     "output_type": "display_data"
    },
    {
     "data": {
      "application/vnd.jupyter.widget-view+json": {
       "model_id": "c6a1dc1e05a94a30994a23b10c56c557",
       "version_major": 2,
       "version_minor": 0
      },
      "text/plain": [
       "Batches:   0%|          | 0/1 [00:00<?, ?it/s]"
      ]
     },
     "metadata": {},
     "output_type": "display_data"
    },
    {
     "data": {
      "application/vnd.jupyter.widget-view+json": {
       "model_id": "4869692ccf994d97ab8ab5aa9010e16e",
       "version_major": 2,
       "version_minor": 0
      },
      "text/plain": [
       "Batches:   0%|          | 0/1 [00:00<?, ?it/s]"
      ]
     },
     "metadata": {},
     "output_type": "display_data"
    },
    {
     "data": {
      "application/vnd.jupyter.widget-view+json": {
       "model_id": "0b05ab0f904f44279bb33213fb3c7d01",
       "version_major": 2,
       "version_minor": 0
      },
      "text/plain": [
       "Batches:   0%|          | 0/1 [00:00<?, ?it/s]"
      ]
     },
     "metadata": {},
     "output_type": "display_data"
    },
    {
     "data": {
      "application/vnd.jupyter.widget-view+json": {
       "model_id": "804f694c252c4efa890837245254388d",
       "version_major": 2,
       "version_minor": 0
      },
      "text/plain": [
       "Batches:   0%|          | 0/1 [00:00<?, ?it/s]"
      ]
     },
     "metadata": {},
     "output_type": "display_data"
    },
    {
     "data": {
      "application/vnd.jupyter.widget-view+json": {
       "model_id": "e82ddd8d65cf45dd94f900ce5cf2bfcd",
       "version_major": 2,
       "version_minor": 0
      },
      "text/plain": [
       "Batches:   0%|          | 0/1 [00:00<?, ?it/s]"
      ]
     },
     "metadata": {},
     "output_type": "display_data"
    },
    {
     "data": {
      "application/vnd.jupyter.widget-view+json": {
       "model_id": "5ee37f7f0cba4929b05f3f1dbc65fc6d",
       "version_major": 2,
       "version_minor": 0
      },
      "text/plain": [
       "Batches:   0%|          | 0/1 [00:00<?, ?it/s]"
      ]
     },
     "metadata": {},
     "output_type": "display_data"
    },
    {
     "data": {
      "application/vnd.jupyter.widget-view+json": {
       "model_id": "67a2b0d3a94f4e4ead62fe6191b69b81",
       "version_major": 2,
       "version_minor": 0
      },
      "text/plain": [
       "Batches:   0%|          | 0/1 [00:00<?, ?it/s]"
      ]
     },
     "metadata": {},
     "output_type": "display_data"
    },
    {
     "data": {
      "application/vnd.jupyter.widget-view+json": {
       "model_id": "14b8b0f6a3f54c309e3fc3537dac4241",
       "version_major": 2,
       "version_minor": 0
      },
      "text/plain": [
       "Batches:   0%|          | 0/1 [00:00<?, ?it/s]"
      ]
     },
     "metadata": {},
     "output_type": "display_data"
    },
    {
     "data": {
      "application/vnd.jupyter.widget-view+json": {
       "model_id": "22e74c627ad64777bb5aa42f00a75b5f",
       "version_major": 2,
       "version_minor": 0
      },
      "text/plain": [
       "Batches:   0%|          | 0/1 [00:00<?, ?it/s]"
      ]
     },
     "metadata": {},
     "output_type": "display_data"
    },
    {
     "data": {
      "application/vnd.jupyter.widget-view+json": {
       "model_id": "aed449b32d204ab79c6a0e810cb06b78",
       "version_major": 2,
       "version_minor": 0
      },
      "text/plain": [
       "Batches:   0%|          | 0/1 [00:00<?, ?it/s]"
      ]
     },
     "metadata": {},
     "output_type": "display_data"
    },
    {
     "data": {
      "application/vnd.jupyter.widget-view+json": {
       "model_id": "356a948446724a44ae7605447ce4e4f8",
       "version_major": 2,
       "version_minor": 0
      },
      "text/plain": [
       "Batches:   0%|          | 0/1 [00:00<?, ?it/s]"
      ]
     },
     "metadata": {},
     "output_type": "display_data"
    },
    {
     "data": {
      "application/vnd.jupyter.widget-view+json": {
       "model_id": "0ecc3bca2f3045d8b2a633f539e7632b",
       "version_major": 2,
       "version_minor": 0
      },
      "text/plain": [
       "Batches:   0%|          | 0/1 [00:00<?, ?it/s]"
      ]
     },
     "metadata": {},
     "output_type": "display_data"
    },
    {
     "data": {
      "application/vnd.jupyter.widget-view+json": {
       "model_id": "ac829099ed814efcb20b925f02d46827",
       "version_major": 2,
       "version_minor": 0
      },
      "text/plain": [
       "Batches:   0%|          | 0/1 [00:00<?, ?it/s]"
      ]
     },
     "metadata": {},
     "output_type": "display_data"
    },
    {
     "data": {
      "application/vnd.jupyter.widget-view+json": {
       "model_id": "a53a807acee4484f8a6b1532df687d4f",
       "version_major": 2,
       "version_minor": 0
      },
      "text/plain": [
       "Batches:   0%|          | 0/1 [00:00<?, ?it/s]"
      ]
     },
     "metadata": {},
     "output_type": "display_data"
    },
    {
     "data": {
      "application/vnd.jupyter.widget-view+json": {
       "model_id": "12a3435940f04f6c89a2224165f14835",
       "version_major": 2,
       "version_minor": 0
      },
      "text/plain": [
       "Batches:   0%|          | 0/1 [00:00<?, ?it/s]"
      ]
     },
     "metadata": {},
     "output_type": "display_data"
    },
    {
     "data": {
      "application/vnd.jupyter.widget-view+json": {
       "model_id": "0bef6059688944f0aa5d29230e4a71ac",
       "version_major": 2,
       "version_minor": 0
      },
      "text/plain": [
       "Batches:   0%|          | 0/1 [00:00<?, ?it/s]"
      ]
     },
     "metadata": {},
     "output_type": "display_data"
    },
    {
     "data": {
      "application/vnd.jupyter.widget-view+json": {
       "model_id": "bedee2215b674ef0832c72936d3df658",
       "version_major": 2,
       "version_minor": 0
      },
      "text/plain": [
       "Batches:   0%|          | 0/1 [00:00<?, ?it/s]"
      ]
     },
     "metadata": {},
     "output_type": "display_data"
    },
    {
     "data": {
      "application/vnd.jupyter.widget-view+json": {
       "model_id": "5d96fc8c175f49eeb8e28256884ef669",
       "version_major": 2,
       "version_minor": 0
      },
      "text/plain": [
       "Batches:   0%|          | 0/1 [00:00<?, ?it/s]"
      ]
     },
     "metadata": {},
     "output_type": "display_data"
    },
    {
     "data": {
      "application/vnd.jupyter.widget-view+json": {
       "model_id": "7752bb22e2ef4fbda5e413a061dc78c5",
       "version_major": 2,
       "version_minor": 0
      },
      "text/plain": [
       "Batches:   0%|          | 0/1 [00:00<?, ?it/s]"
      ]
     },
     "metadata": {},
     "output_type": "display_data"
    },
    {
     "data": {
      "application/vnd.jupyter.widget-view+json": {
       "model_id": "fd88804b45774319b06585f5518dd681",
       "version_major": 2,
       "version_minor": 0
      },
      "text/plain": [
       "Batches:   0%|          | 0/1 [00:00<?, ?it/s]"
      ]
     },
     "metadata": {},
     "output_type": "display_data"
    },
    {
     "data": {
      "application/vnd.jupyter.widget-view+json": {
       "model_id": "6f0ad9ca83404d65bec53a7c92d4bd2a",
       "version_major": 2,
       "version_minor": 0
      },
      "text/plain": [
       "Batches:   0%|          | 0/1 [00:00<?, ?it/s]"
      ]
     },
     "metadata": {},
     "output_type": "display_data"
    },
    {
     "data": {
      "application/vnd.jupyter.widget-view+json": {
       "model_id": "6c1e7a70fdaf4815826a58ab7fa1eb23",
       "version_major": 2,
       "version_minor": 0
      },
      "text/plain": [
       "Batches:   0%|          | 0/1 [00:00<?, ?it/s]"
      ]
     },
     "metadata": {},
     "output_type": "display_data"
    },
    {
     "data": {
      "application/vnd.jupyter.widget-view+json": {
       "model_id": "b98a159ddf084159b434ad61238cc259",
       "version_major": 2,
       "version_minor": 0
      },
      "text/plain": [
       "Batches:   0%|          | 0/1 [00:00<?, ?it/s]"
      ]
     },
     "metadata": {},
     "output_type": "display_data"
    },
    {
     "data": {
      "application/vnd.jupyter.widget-view+json": {
       "model_id": "ae85a203fb9a461ca82fdf1a767620dc",
       "version_major": 2,
       "version_minor": 0
      },
      "text/plain": [
       "Batches:   0%|          | 0/1 [00:00<?, ?it/s]"
      ]
     },
     "metadata": {},
     "output_type": "display_data"
    },
    {
     "data": {
      "application/vnd.jupyter.widget-view+json": {
       "model_id": "a250348b46b648f88f1df48721fc0a01",
       "version_major": 2,
       "version_minor": 0
      },
      "text/plain": [
       "Batches:   0%|          | 0/1 [00:00<?, ?it/s]"
      ]
     },
     "metadata": {},
     "output_type": "display_data"
    },
    {
     "data": {
      "application/vnd.jupyter.widget-view+json": {
       "model_id": "1698cd228c984359aca7f88f3fe083c6",
       "version_major": 2,
       "version_minor": 0
      },
      "text/plain": [
       "Batches:   0%|          | 0/1 [00:00<?, ?it/s]"
      ]
     },
     "metadata": {},
     "output_type": "display_data"
    },
    {
     "data": {
      "application/vnd.jupyter.widget-view+json": {
       "model_id": "4ef2a546ee344a7399c7a866c17b7acf",
       "version_major": 2,
       "version_minor": 0
      },
      "text/plain": [
       "Batches:   0%|          | 0/1 [00:00<?, ?it/s]"
      ]
     },
     "metadata": {},
     "output_type": "display_data"
    },
    {
     "data": {
      "application/vnd.jupyter.widget-view+json": {
       "model_id": "8cffa7f548c846f08ef8f99665f44da0",
       "version_major": 2,
       "version_minor": 0
      },
      "text/plain": [
       "Batches:   0%|          | 0/1 [00:00<?, ?it/s]"
      ]
     },
     "metadata": {},
     "output_type": "display_data"
    },
    {
     "data": {
      "application/vnd.jupyter.widget-view+json": {
       "model_id": "723b8c352b1e4ee499ce13367285d076",
       "version_major": 2,
       "version_minor": 0
      },
      "text/plain": [
       "Batches:   0%|          | 0/1 [00:00<?, ?it/s]"
      ]
     },
     "metadata": {},
     "output_type": "display_data"
    },
    {
     "data": {
      "application/vnd.jupyter.widget-view+json": {
       "model_id": "3c99bc10dc634bfab0820111a4baf709",
       "version_major": 2,
       "version_minor": 0
      },
      "text/plain": [
       "Batches:   0%|          | 0/1 [00:00<?, ?it/s]"
      ]
     },
     "metadata": {},
     "output_type": "display_data"
    },
    {
     "data": {
      "application/vnd.jupyter.widget-view+json": {
       "model_id": "761e3b38c50f4e259444e5cf91681fcb",
       "version_major": 2,
       "version_minor": 0
      },
      "text/plain": [
       "Batches:   0%|          | 0/1 [00:00<?, ?it/s]"
      ]
     },
     "metadata": {},
     "output_type": "display_data"
    },
    {
     "data": {
      "application/vnd.jupyter.widget-view+json": {
       "model_id": "a3d0a10ff3b04724a30aa59ac693f11a",
       "version_major": 2,
       "version_minor": 0
      },
      "text/plain": [
       "Batches:   0%|          | 0/1 [00:00<?, ?it/s]"
      ]
     },
     "metadata": {},
     "output_type": "display_data"
    },
    {
     "data": {
      "application/vnd.jupyter.widget-view+json": {
       "model_id": "4942456173fd445b97505592cf443640",
       "version_major": 2,
       "version_minor": 0
      },
      "text/plain": [
       "Batches:   0%|          | 0/1 [00:00<?, ?it/s]"
      ]
     },
     "metadata": {},
     "output_type": "display_data"
    },
    {
     "data": {
      "application/vnd.jupyter.widget-view+json": {
       "model_id": "ca02635f09ec439ba211bbdcaf091efa",
       "version_major": 2,
       "version_minor": 0
      },
      "text/plain": [
       "Batches:   0%|          | 0/1 [00:00<?, ?it/s]"
      ]
     },
     "metadata": {},
     "output_type": "display_data"
    },
    {
     "data": {
      "application/vnd.jupyter.widget-view+json": {
       "model_id": "e9de4ade559447efbba4331b3256c045",
       "version_major": 2,
       "version_minor": 0
      },
      "text/plain": [
       "Batches:   0%|          | 0/1 [00:00<?, ?it/s]"
      ]
     },
     "metadata": {},
     "output_type": "display_data"
    }
   ],
   "source": [
    "index = VectorStoreIndex.from_documents(documents, service_context=service_context)"
   ]
  },
  {
   "cell_type": "code",
   "execution_count": 11,
   "metadata": {},
   "outputs": [
    {
     "name": "stdout",
     "output_type": "stream",
     "text": [
      "DEBUG:fsspec.local:open file: c:/Users/knallathambi_dev/workspace/python-notebooks/llm-document-qna/tmp/kyc_index/docstore.json\n",
      "open file: c:/Users/knallathambi_dev/workspace/python-notebooks/llm-document-qna/tmp/kyc_index/docstore.json\n",
      "DEBUG:fsspec.local:open file: c:/Users/knallathambi_dev/workspace/python-notebooks/llm-document-qna/tmp/kyc_index/index_store.json\n",
      "open file: c:/Users/knallathambi_dev/workspace/python-notebooks/llm-document-qna/tmp/kyc_index/index_store.json\n",
      "DEBUG:fsspec.local:open file: c:/Users/knallathambi_dev/workspace/python-notebooks/llm-document-qna/tmp/kyc_index/vector_store.json\n",
      "open file: c:/Users/knallathambi_dev/workspace/python-notebooks/llm-document-qna/tmp/kyc_index/vector_store.json\n",
      "DEBUG:fsspec.local:open file: c:/Users/knallathambi_dev/workspace/python-notebooks/llm-document-qna/tmp/kyc_index/graph_store.json\n",
      "open file: c:/Users/knallathambi_dev/workspace/python-notebooks/llm-document-qna/tmp/kyc_index/graph_store.json\n"
     ]
    }
   ],
   "source": [
    "from llama_index import StorageContext, load_index_from_storage\n",
    "\n",
    "index_file_path = os.path.join(os.getcwd(), 'tmp', 'kyc_index')\n",
    "\n",
    "# Persist index to disk\n",
    "index.storage_context.persist(index_file_path)\n",
    "\n",
    "# Rebuild storage context\n",
    "#storage_context = StorageContext.from_defaults(persist_dir=index_file_path)\n",
    "\n",
    "# Load index from the storage context\n",
    "#new_index = load_index_from_storage(storage_context)"
   ]
  },
  {
   "cell_type": "code",
   "execution_count": 12,
   "metadata": {},
   "outputs": [],
   "source": [
    "from IPython.display import Markdown, display\n",
    "\n",
    "# define prompt viewing function\n",
    "def display_prompt_dict(prompts_dict):\n",
    "    for k, p in prompts_dict.items():\n",
    "        text_md = f\"**Prompt Key**: {k}<br>\" f\"**Text:** <br>\"\n",
    "        display(Markdown(text_md))\n",
    "        print(p.get_template())\n",
    "        display(Markdown(\"<br><br>\"))"
   ]
  },
  {
   "cell_type": "code",
   "execution_count": 20,
   "metadata": {},
   "outputs": [],
   "source": [
    "query_engine = index.as_query_engine()"
   ]
  },
  {
   "cell_type": "code",
   "execution_count": 14,
   "metadata": {},
   "outputs": [],
   "source": [
    "prompts_dict = query_engine.get_prompts()"
   ]
  },
  {
   "cell_type": "code",
   "execution_count": 15,
   "metadata": {},
   "outputs": [
    {
     "data": {
      "text/markdown": [
       "**Prompt Key**: response_synthesizer:text_qa_template<br>**Text:** <br>"
      ],
      "text/plain": [
       "<IPython.core.display.Markdown object>"
      ]
     },
     "metadata": {},
     "output_type": "display_data"
    },
    {
     "name": "stdout",
     "output_type": "stream",
     "text": [
      "Context information is below.\n",
      "---------------------\n",
      "{context_str}\n",
      "---------------------\n",
      "Given the context information and not prior knowledge, answer the query.\n",
      "Query: {query_str}\n",
      "Answer: \n"
     ]
    },
    {
     "data": {
      "text/markdown": [
       "<br><br>"
      ],
      "text/plain": [
       "<IPython.core.display.Markdown object>"
      ]
     },
     "metadata": {},
     "output_type": "display_data"
    },
    {
     "data": {
      "text/markdown": [
       "**Prompt Key**: response_synthesizer:refine_template<br>**Text:** <br>"
      ],
      "text/plain": [
       "<IPython.core.display.Markdown object>"
      ]
     },
     "metadata": {},
     "output_type": "display_data"
    },
    {
     "name": "stdout",
     "output_type": "stream",
     "text": [
      "The original query is as follows: {query_str}\n",
      "We have provided an existing answer: {existing_answer}\n",
      "We have the opportunity to refine the existing answer (only if needed) with some more context below.\n",
      "------------\n",
      "{context_msg}\n",
      "------------\n",
      "Given the new context, refine the original answer to better answer the query. If the context isn't useful, return the original answer.\n",
      "Refined Answer: \n"
     ]
    },
    {
     "data": {
      "text/markdown": [
       "<br><br>"
      ],
      "text/plain": [
       "<IPython.core.display.Markdown object>"
      ]
     },
     "metadata": {},
     "output_type": "display_data"
    }
   ],
   "source": [
    "display_prompt_dict(prompts_dict)"
   ]
  },
  {
   "cell_type": "code",
   "execution_count": 16,
   "metadata": {},
   "outputs": [
    {
     "data": {
      "application/vnd.jupyter.widget-view+json": {
       "model_id": "997452301d0b4584950c5249a4086f8a",
       "version_major": 2,
       "version_minor": 0
      },
      "text/plain": [
       "Batches:   0%|          | 0/1 [00:00<?, ?it/s]"
      ]
     },
     "metadata": {},
     "output_type": "display_data"
    },
    {
     "name": "stdout",
     "output_type": "stream",
     "text": [
      "DEBUG:llama_index.indices.utils:> Top 2 nodes:\n",
      "> [Node ad094863-0361-4c80-93cf-0ed4647bcd7e] [Similarity score:             0.857533] “OFAC” means the Office of Foreign Assets Control of the United States Department of the Treasury...\n",
      "> [Node e387c321-ae2e-43a9-8bfd-b39705f99a32] [Similarity score:             0.856623] the consummation of the transactions contemplated hereby or thereby, or, in the case of the Admin...\n",
      "> Top 2 nodes:\n",
      "> [Node ad094863-0361-4c80-93cf-0ed4647bcd7e] [Similarity score:             0.857533] “OFAC” means the Office of Foreign Assets Control of the United States Department of the Treasury...\n",
      "> [Node e387c321-ae2e-43a9-8bfd-b39705f99a32] [Similarity score:             0.856623] the consummation of the transactions contemplated hereby or thereby, or, in the case of the Admin...\n",
      "DEBUG:llama_index.llm_predictor.base:loan agreement\n",
      "loan agreement\n"
     ]
    }
   ],
   "source": [
    "response = query_engine.query(\"What is this document about ?\")"
   ]
  },
  {
   "cell_type": "code",
   "execution_count": 17,
   "metadata": {},
   "outputs": [
    {
     "name": "stdout",
     "output_type": "stream",
     "text": [
      "loan agreement\n"
     ]
    }
   ],
   "source": [
    "print(response)"
   ]
  },
  {
   "cell_type": "code",
   "execution_count": 21,
   "metadata": {},
   "outputs": [],
   "source": [
    "### Customize prompts\n",
    "\n",
    "from llama_index.prompts import PromptTemplate\n",
    "\n",
    "# New Table\n",
    "new_summary_tmpl_str = (\n",
    "    \"Context information is below.\\n\"\n",
    "    \"---------------------\\n\"\n",
    "    \"{context_str}\\n\"\n",
    "    \"---------------------\\n\"\n",
    "    \"Given the context information and not prior knowledge, answer the query.\"\n",
    "    \"Do not make up answers.\\n\"\n",
    "    \"Query: {query_str}\\n\"\n",
    "    \"Answer: \"\n",
    ")\n",
    "new_summary_tmpl = PromptTemplate(new_summary_tmpl_str)\n",
    "\n",
    "query_engine.update_prompts(\n",
    "    {\"response_synthesizer:summary_template\": new_summary_tmpl}\n",
    ")"
   ]
  },
  {
   "cell_type": "code",
   "execution_count": 22,
   "metadata": {},
   "outputs": [
    {
     "data": {
      "text/markdown": [
       "**Prompt Key**: response_synthesizer:text_qa_template<br>**Text:** <br>"
      ],
      "text/plain": [
       "<IPython.core.display.Markdown object>"
      ]
     },
     "metadata": {},
     "output_type": "display_data"
    },
    {
     "name": "stdout",
     "output_type": "stream",
     "text": [
      "Context information is below.\n",
      "---------------------\n",
      "{context_str}\n",
      "---------------------\n",
      "Given the context information and not prior knowledge, answer the query.\n",
      "Query: {query_str}\n",
      "Answer: \n"
     ]
    },
    {
     "data": {
      "text/markdown": [
       "<br><br>"
      ],
      "text/plain": [
       "<IPython.core.display.Markdown object>"
      ]
     },
     "metadata": {},
     "output_type": "display_data"
    },
    {
     "data": {
      "text/markdown": [
       "**Prompt Key**: response_synthesizer:refine_template<br>**Text:** <br>"
      ],
      "text/plain": [
       "<IPython.core.display.Markdown object>"
      ]
     },
     "metadata": {},
     "output_type": "display_data"
    },
    {
     "name": "stdout",
     "output_type": "stream",
     "text": [
      "The original query is as follows: {query_str}\n",
      "We have provided an existing answer: {existing_answer}\n",
      "We have the opportunity to refine the existing answer (only if needed) with some more context below.\n",
      "------------\n",
      "{context_msg}\n",
      "------------\n",
      "Given the new context, refine the original answer to better answer the query. If the context isn't useful, return the original answer.\n",
      "Refined Answer: \n"
     ]
    },
    {
     "data": {
      "text/markdown": [
       "<br><br>"
      ],
      "text/plain": [
       "<IPython.core.display.Markdown object>"
      ]
     },
     "metadata": {},
     "output_type": "display_data"
    }
   ],
   "source": [
    "display_prompt_dict(query_engine.get_prompts())"
   ]
  },
  {
   "cell_type": "code",
   "execution_count": 20,
   "metadata": {},
   "outputs": [
    {
     "data": {
      "application/vnd.jupyter.widget-view+json": {
       "model_id": "314a9e0b43864c3081ba0a2fac912283",
       "version_major": 2,
       "version_minor": 0
      },
      "text/plain": [
       "Batches:   0%|          | 0/1 [00:00<?, ?it/s]"
      ]
     },
     "metadata": {},
     "output_type": "display_data"
    },
    {
     "name": "stdout",
     "output_type": "stream",
     "text": [
      "AMZN\n"
     ]
    },
    {
     "data": {
      "application/vnd.jupyter.widget-view+json": {
       "model_id": "cd7826c11d1843109f09bd725d8e9806",
       "version_major": 2,
       "version_minor": 0
      },
      "text/plain": [
       "Batches:   0%|          | 0/1 [00:00<?, ?it/s]"
      ]
     },
     "metadata": {},
     "output_type": "display_data"
    },
    {
     "name": "stdout",
     "output_type": "stream",
     "text": [
      "Delaware\n"
     ]
    },
    {
     "data": {
      "application/vnd.jupyter.widget-view+json": {
       "model_id": "2f1deb4765c94d18bbd438d90225931a",
       "version_major": 2,
       "version_minor": 0
      },
      "text/plain": [
       "Batches:   0%|          | 0/1 [00:00<?, ?it/s]"
      ]
     },
     "metadata": {},
     "output_type": "display_data"
    },
    {
     "name": "stdout",
     "output_type": "stream",
     "text": [
      "Amazon 10-K filing contains the company's financial statements and supplementary data.\n"
     ]
    },
    {
     "data": {
      "application/vnd.jupyter.widget-view+json": {
       "model_id": "f50eb65dff3142fb90c2b66301f53cf6",
       "version_major": 2,
       "version_minor": 0
      },
      "text/plain": [
       "Batches:   0%|          | 0/1 [00:00<?, ?it/s]"
      ]
     },
     "metadata": {},
     "output_type": "display_data"
    },
    {
     "name": "stdout",
     "output_type": "stream",
     "text": [
      "As of December 31, 2021, Amazon had cash, cash equivalents, and marketable securities of $84,396 million, compared to $84,653 million as of December 31, 2020.\n"
     ]
    }
   ],
   "source": [
    "while True:\n",
    "  query=input()\n",
    "  if query == 'exit':\n",
    "    break\n",
    "  response = query_engine.query(query)\n",
    "  print(response)"
   ]
  },
  {
   "cell_type": "code",
   "execution_count": null,
   "metadata": {},
   "outputs": [],
   "source": []
  }
 ],
 "metadata": {
  "kernelspec": {
   "display_name": ".venv",
   "language": "python",
   "name": "python3"
  },
  "language_info": {
   "codemirror_mode": {
    "name": "ipython",
    "version": 3
   },
   "file_extension": ".py",
   "mimetype": "text/x-python",
   "name": "python",
   "nbconvert_exporter": "python",
   "pygments_lexer": "ipython3",
   "version": "3.10.11"
  }
 },
 "nbformat": 4,
 "nbformat_minor": 2
}
