{
 "cells": [
  {
   "cell_type": "code",
   "execution_count": 2,
   "metadata": {},
   "outputs": [],
   "source": [
    "import pprint\n",
    "import google.generativeai as palm\n",
    "import os"
   ]
  },
  {
   "cell_type": "code",
   "execution_count": 4,
   "metadata": {},
   "outputs": [],
   "source": [
    "with open('../secrets/google_api_key.txt') as f:\n",
    "    api_key = f.read()"
   ]
  },
  {
   "cell_type": "code",
   "execution_count": 5,
   "metadata": {},
   "outputs": [],
   "source": [
    "palm.configure(api_key=api_key)"
   ]
  },
  {
   "cell_type": "code",
   "execution_count": 1,
   "metadata": {},
   "outputs": [
    {
     "ename": "NameError",
     "evalue": "name 'palm' is not defined",
     "output_type": "error",
     "traceback": [
      "\u001b[1;31m---------------------------------------------------------------------------\u001b[0m",
      "\u001b[1;31mNameError\u001b[0m                                 Traceback (most recent call last)",
      "\u001b[1;32mc:\\Users\\knallathambi_dev\\workspace\\python-notebooks\\llm-document-qna\\notebooks\\Google_models.ipynb Cell 4\u001b[0m line \u001b[0;36m3\n\u001b[0;32m      <a href='vscode-notebook-cell:/c%3A/Users/knallathambi_dev/workspace/python-notebooks/llm-document-qna/notebooks/Google_models.ipynb#W3sZmlsZQ%3D%3D?line=0'>1</a>\u001b[0m models \u001b[39m=\u001b[39m [\n\u001b[0;32m      <a href='vscode-notebook-cell:/c%3A/Users/knallathambi_dev/workspace/python-notebooks/llm-document-qna/notebooks/Google_models.ipynb#W3sZmlsZQ%3D%3D?line=1'>2</a>\u001b[0m     m\n\u001b[1;32m----> <a href='vscode-notebook-cell:/c%3A/Users/knallathambi_dev/workspace/python-notebooks/llm-document-qna/notebooks/Google_models.ipynb#W3sZmlsZQ%3D%3D?line=2'>3</a>\u001b[0m     \u001b[39mfor\u001b[39;00m m \u001b[39min\u001b[39;00m palm\u001b[39m.\u001b[39mlist_models()\n\u001b[0;32m      <a href='vscode-notebook-cell:/c%3A/Users/knallathambi_dev/workspace/python-notebooks/llm-document-qna/notebooks/Google_models.ipynb#W3sZmlsZQ%3D%3D?line=3'>4</a>\u001b[0m     \u001b[39mif\u001b[39;00m \u001b[39m\"\u001b[39m\u001b[39mgenerateText\u001b[39m\u001b[39m\"\u001b[39m \u001b[39min\u001b[39;00m m\u001b[39m.\u001b[39msupported_generation_methods\n\u001b[0;32m      <a href='vscode-notebook-cell:/c%3A/Users/knallathambi_dev/workspace/python-notebooks/llm-document-qna/notebooks/Google_models.ipynb#W3sZmlsZQ%3D%3D?line=4'>5</a>\u001b[0m ]\n\u001b[0;32m      <a href='vscode-notebook-cell:/c%3A/Users/knallathambi_dev/workspace/python-notebooks/llm-document-qna/notebooks/Google_models.ipynb#W3sZmlsZQ%3D%3D?line=5'>6</a>\u001b[0m model \u001b[39m=\u001b[39m models[\u001b[39m0\u001b[39m]\u001b[39m.\u001b[39mname\n\u001b[0;32m      <a href='vscode-notebook-cell:/c%3A/Users/knallathambi_dev/workspace/python-notebooks/llm-document-qna/notebooks/Google_models.ipynb#W3sZmlsZQ%3D%3D?line=6'>7</a>\u001b[0m \u001b[39mprint\u001b[39m(model)\n",
      "\u001b[1;31mNameError\u001b[0m: name 'palm' is not defined"
     ]
    }
   ],
   "source": [
    "models = [\n",
    "    m\n",
    "    for m in palm.list_models()\n",
    "    if \"generateText\" in m.supported_generation_methods\n",
    "]\n",
    "model = models[0].name\n",
    "print(model)"
   ]
  }
 ],
 "metadata": {
  "kernelspec": {
   "display_name": ".venv",
   "language": "python",
   "name": "python3"
  },
  "language_info": {
   "codemirror_mode": {
    "name": "ipython",
    "version": 3
   },
   "file_extension": ".py",
   "mimetype": "text/x-python",
   "name": "python",
   "nbconvert_exporter": "python",
   "pygments_lexer": "ipython3",
   "version": "3.10.11"
  }
 },
 "nbformat": 4,
 "nbformat_minor": 2
}
